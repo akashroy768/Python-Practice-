{
 "cells": [
  {
   "cell_type": "markdown",
   "id": "a7e9c78f",
   "metadata": {},
   "source": [
    "Problem Statement:\n",
    "You work in XYZ Corporation as a Data Analyst. Your corporation has told you to \n",
    "work with the structure of the data.\n",
    "Tasks To Be Performed:\n",
    "1. Create a list named ‘myList’ that has the following elements: 10, 20, 30, \n",
    "‘apple’, True, 8.10:\n",
    "    1. Now in the ‘myList’, append these values: 30, 40\n",
    "    2. After that, reverse the elements of the ‘myList’ and store that in \n",
    "‘reversedList’\n",
    "2. Create a dictionary with key values as 1, 2, 3 and the values as ‘data’, \n",
    "‘information’ and ‘text’:\n",
    "    1. After that, eliminate the ‘text’ value from the dictionary\n",
    "    2. Add ‘features’ in the dictionary\n",
    "    3. Fetch the ‘data’ element from the dictionary and display it in the output\n",
    "3. Create a tuple and add these elements 1, 2, 3, apple, mango in my_tuple.\n",
    "4. Create another tuple named numeric_tuple consisting of only integer \n",
    "values 10, 20, 30, 40, 50:\n",
    "    1. Find the minimum value from the numeric_tuple\n",
    "    2. Concatenate my_tuple with numeric_tuple and store the result in r1\n",
    "    3. Duplicate the tuple named my_tuple 2 times and store that in ‘newdupli’\n",
    "5. Create 2 sets with the names set1 and set2, where set1 contains\n",
    "{1,2,3,4,5} and set2 contains {2,3,7,6,1}\n",
    "Perform the below operation:\n",
    "    1. set1 union set2\n",
    "    2. set1 intersection set2\n",
    "    3. set1 difference set2"
   ]
  },
  {
   "cell_type": "code",
   "execution_count": 19,
   "id": "28668263",
   "metadata": {},
   "outputs": [
    {
     "data": {
      "text/plain": [
       "[10, 20, 30, 'apple', True, 8.1]"
      ]
     },
     "execution_count": 19,
     "metadata": {},
     "output_type": "execute_result"
    }
   ],
   "source": [
    "myList = [10,20,30,'apple',True,8.10]\n",
    "myList"
   ]
  },
  {
   "cell_type": "code",
   "execution_count": 20,
   "id": "c62ec4fe",
   "metadata": {},
   "outputs": [
    {
     "data": {
      "text/plain": [
       "[10, 20, 30, 'apple', True, 8.1, 30, 40]"
      ]
     },
     "execution_count": 20,
     "metadata": {},
     "output_type": "execute_result"
    }
   ],
   "source": [
    "myList.append(30)\n",
    "myList.append(40)\n",
    "myList"
   ]
  },
  {
   "cell_type": "code",
   "execution_count": 21,
   "id": "4c13e232",
   "metadata": {},
   "outputs": [
    {
     "data": {
      "text/plain": [
       "{1: 'data', 2: 'information', 3: 'text'}"
      ]
     },
     "execution_count": 21,
     "metadata": {},
     "output_type": "execute_result"
    }
   ],
   "source": [
    "myDict = {1:'data',2:'information',3:'text'}\n",
    "myDict"
   ]
  },
  {
   "cell_type": "code",
   "execution_count": 22,
   "id": "deb73745",
   "metadata": {},
   "outputs": [
    {
     "data": {
      "text/plain": [
       "{1: 'data', 2: 'information'}"
      ]
     },
     "execution_count": 22,
     "metadata": {},
     "output_type": "execute_result"
    }
   ],
   "source": [
    "myDict.pop(3)\n",
    "myDict"
   ]
  },
  {
   "cell_type": "code",
   "execution_count": 23,
   "id": "b7304e04",
   "metadata": {},
   "outputs": [
    {
     "data": {
      "text/plain": [
       "{1: 'data', 2: 'information', 3: 'Features'}"
      ]
     },
     "execution_count": 23,
     "metadata": {},
     "output_type": "execute_result"
    }
   ],
   "source": [
    "myDict[3]='Features'\n",
    "myDict"
   ]
  },
  {
   "cell_type": "code",
   "execution_count": 24,
   "id": "ae5431b8",
   "metadata": {},
   "outputs": [
    {
     "name": "stdout",
     "output_type": "stream",
     "text": [
      "data\n"
     ]
    }
   ],
   "source": [
    "print(myDict[1])"
   ]
  },
  {
   "cell_type": "code",
   "execution_count": 25,
   "id": "fc58fd58",
   "metadata": {},
   "outputs": [
    {
     "data": {
      "text/plain": [
       "(1, 2, 3, 'apple', 'mango')"
      ]
     },
     "execution_count": 25,
     "metadata": {},
     "output_type": "execute_result"
    }
   ],
   "source": [
    "myTuple = (1,2,3,'apple','mango')\n",
    "myTuple"
   ]
  },
  {
   "cell_type": "code",
   "execution_count": 26,
   "id": "6e287f8d",
   "metadata": {},
   "outputs": [
    {
     "data": {
      "text/plain": [
       "(10, 20, 30, 40, 50)"
      ]
     },
     "execution_count": 26,
     "metadata": {},
     "output_type": "execute_result"
    }
   ],
   "source": [
    "numeric_Tuple = (10,20,30,40,50)\n",
    "numeric_Tuple"
   ]
  },
  {
   "cell_type": "code",
   "execution_count": 27,
   "id": "ce904ca4",
   "metadata": {},
   "outputs": [
    {
     "name": "stdout",
     "output_type": "stream",
     "text": [
      "Minimum value:  10\n"
     ]
    }
   ],
   "source": [
    "print(\"Minimum value: \", min(numeric_Tuple))"
   ]
  },
  {
   "cell_type": "code",
   "execution_count": 28,
   "id": "4b32a122",
   "metadata": {},
   "outputs": [
    {
     "data": {
      "text/plain": [
       "(1, 2, 3, 'apple', 'mango', 10, 20, 30, 40, 50)"
      ]
     },
     "execution_count": 28,
     "metadata": {},
     "output_type": "execute_result"
    }
   ],
   "source": [
    "r1 = myTuple + numeric_Tuple\n",
    "r1"
   ]
  },
  {
   "cell_type": "code",
   "execution_count": 29,
   "id": "ea6b782f",
   "metadata": {},
   "outputs": [
    {
     "name": "stdout",
     "output_type": "stream",
     "text": [
      "(1, 2, 3, 'apple', 'mango', 1, 2, 3, 'apple', 'mango')\n"
     ]
    }
   ],
   "source": [
    "newdupli = myTuple * 2\n",
    "\n",
    "print(newdupli)"
   ]
  },
  {
   "cell_type": "code",
   "execution_count": 30,
   "id": "9ff1f760",
   "metadata": {},
   "outputs": [
    {
     "name": "stdout",
     "output_type": "stream",
     "text": [
      "Union:  {1, 2, 3, 4, 5, 6, 7}\n",
      "Intersection:  {1, 2, 3}\n",
      "Difference:  {4, 5}\n"
     ]
    }
   ],
   "source": [
    "set1 = {1,2,3,4,5}\n",
    "set2 = {2,3,7,6,1}\n",
    "print(\"Union: \",set1.union(set2))\n",
    "print(\"Intersection: \",set1.intersection(set2))\n",
    "print(\"Difference: \",set1.difference(set2))"
   ]
  }
 ],
 "metadata": {
  "kernelspec": {
   "display_name": "Python 3",
   "language": "python",
   "name": "python3"
  },
  "language_info": {
   "codemirror_mode": {
    "name": "ipython",
    "version": 3
   },
   "file_extension": ".py",
   "mimetype": "text/x-python",
   "name": "python",
   "nbconvert_exporter": "python",
   "pygments_lexer": "ipython3",
   "version": "3.13.3"
  }
 },
 "nbformat": 4,
 "nbformat_minor": 5
}
