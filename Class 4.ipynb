{
 "cells": [
  {
   "cell_type": "code",
   "execution_count": 1,
   "id": "0458e9fb-87af-471f-aa86-96d88763bce2",
   "metadata": {},
   "outputs": [
    {
     "data": {
      "text/plain": [
       "'MALE'"
      ]
     },
     "execution_count": 1,
     "metadata": {},
     "output_type": "execute_result"
    }
   ],
   "source": [
    "x = \"Machine Learning\"\n",
    "x[:2].upper()+x[8:10].upper()"
   ]
  },
  {
   "cell_type": "code",
   "execution_count": 19,
   "id": "86facedd-0113-4615-af04-d3c40dd461c1",
   "metadata": {},
   "outputs": [
    {
     "data": {
      "text/plain": [
       "'MANE ear'"
      ]
     },
     "execution_count": 19,
     "metadata": {},
     "output_type": "execute_result"
    }
   ],
   "source": [
    "#printMANEEar\n",
    "x[0:2].upper()+x[5:7].upper()+x[9:12]\n",
    "x[0:2].upper()+x[5:7].upper()+\" \"+x[9:12]"
   ]
  },
  {
   "cell_type": "code",
   "execution_count": 33,
   "id": "35c680e9-c110-4153-9705-06e1f6572d82",
   "metadata": {},
   "outputs": [
    {
     "name": "stdout",
     "output_type": "stream",
     "text": [
      "['data', 9, '2024.23', (3+4j), [10, 20, 30]]\n"
     ]
    }
   ],
   "source": [
    "x = ['data',9,'2024.23',3+4j,[10,20,30]]\n",
    "print(x)"
   ]
  },
  {
   "cell_type": "code",
   "execution_count": 23,
   "id": "90bae611-d85e-4577-83a6-02b7dacdd587",
   "metadata": {},
   "outputs": [
    {
     "data": {
      "text/plain": [
       "'da'"
      ]
     },
     "execution_count": 23,
     "metadata": {},
     "output_type": "execute_result"
    }
   ],
   "source": [
    "x[0][0:2]"
   ]
  },
  {
   "cell_type": "code",
   "execution_count": 25,
   "id": "ebf8b705-b18b-4ef4-b64f-95b2641e984c",
   "metadata": {},
   "outputs": [
    {
     "data": {
      "text/plain": [
       "'ta'"
      ]
     },
     "execution_count": 25,
     "metadata": {},
     "output_type": "execute_result"
    }
   ],
   "source": [
    "x[-5][-2:]"
   ]
  },
  {
   "cell_type": "code",
   "execution_count": 35,
   "id": "61f95399-f576-41fd-8d3e-73ab58425812",
   "metadata": {},
   "outputs": [
    {
     "name": "stdout",
     "output_type": "stream",
     "text": [
      ".23\n"
     ]
    }
   ],
   "source": [
    "#print.23\n",
    "print(x[2][4:])"
   ]
  },
  {
   "cell_type": "code",
   "execution_count": 37,
   "id": "9924c719-be17-4b21-b9f8-215e65feeafa",
   "metadata": {},
   "outputs": [
    {
     "data": {
      "text/plain": [
       "'.23'"
      ]
     },
     "execution_count": 37,
     "metadata": {},
     "output_type": "execute_result"
    }
   ],
   "source": [
    "x[-3][-3:]"
   ]
  },
  {
   "cell_type": "code",
   "execution_count": 50,
   "id": "bf2dbdf8-65a3-41ca-ba12-fa4f187ecac6",
   "metadata": {},
   "outputs": [],
   "source": [
    "topics = [\n",
    "    ['Math',['Algebra','Calculus','Geometry']],\n",
    "    ['Science',['Physics','Chemisry','Biology']],\n",
    "    ['Technology',['Programming','Networking','AI']],\n",
    "    ['History',['Ancient','Medieval','Modern']],\n",
    "    ['Art',['Painting','Sculpture','Architecture']]\n",
    "]"
   ]
  },
  {
   "cell_type": "code",
   "execution_count": 46,
   "id": "16d25ad5-be77-40db-9ca0-f0c42354ce68",
   "metadata": {},
   "outputs": [
    {
     "data": {
      "text/plain": [
       "'Modern Architecture'"
      ]
     },
     "execution_count": 46,
     "metadata": {},
     "output_type": "execute_result"
    }
   ],
   "source": [
    "#print modern architecture\n",
    "topics[3][1][-1]+\" \"+topics[4][1][2]"
   ]
  },
  {
   "cell_type": "code",
   "execution_count": 58,
   "id": "b10604f6-f98c-4c25-a4d1-f25aa24b8ae5",
   "metadata": {},
   "outputs": [
    {
     "data": {
      "text/plain": [
       "'BIO,CHEM'"
      ]
     },
     "execution_count": 58,
     "metadata": {},
     "output_type": "execute_result"
    }
   ],
   "source": [
    "#print GEO, BIO , CHEM\n",
    "topics[0]topics[1][1][2][0:3].upper()+\",\"+topics[1][1][1][0:4].upper()"
   ]
  },
  {
   "cell_type": "code",
   "execution_count": 16,
   "id": "e73c6971-4367-409e-9892-9d50090554c7",
   "metadata": {},
   "outputs": [
    {
     "name": "stdin",
     "output_type": "stream",
     "text": [
      "Assign value to Y 7\n"
     ]
    }
   ],
   "source": [
    "#Data types\n",
    "#1.immutable Data type\n",
    "#2.Mutable data type\n",
    "\n",
    "#Immutable Data Type:\n",
    "#i. Numeric Data\n",
    "#ii.String\n",
    "#iii.tuple\n",
    "\n",
    "#Mutable Data Type:\n",
    "#i.List\n",
    "#ii. Dictionary\n",
    "\n",
    "#i.Numeric Data Type:\n",
    "#1.Integer  #2.Float   3.Complex\n",
    "\n",
    "#1.Integer:this value is represented by int class.\n",
    "#interger contains +v-0--ve i.e.whole numbers\n",
    "#in python there is no limit how long an interger value be\n",
    "\n",
    "X= 15\n",
    "type(X)\n",
    "y=int(input(\"Assign value to Y\"))\n",
    "\n",
    "#2.Float: This value is represented by decimal point."
   ]
  },
  {
   "cell_type": "code",
   "execution_count": 20,
   "id": "403389fa-aba0-49d1-a292-a908d1044d95",
   "metadata": {},
   "outputs": [
    {
     "data": {
      "text/plain": [
       "('Sun', 'Mon', 'Tue', 'Wed', 'Thu', 'Fri', 'Sat')"
      ]
     },
     "execution_count": 20,
     "metadata": {},
     "output_type": "execute_result"
    }
   ],
   "source": [
    "#Tuple:Immutable data type enclosed by ()\n",
    "Weekdays = ('Sun','Mon','Tue','Wed','Thu','Fri','Sat')\n",
    "type(Weekdays)\n",
    "Weekdays"
   ]
  },
  {
   "cell_type": "code",
   "execution_count": 22,
   "id": "462a07bb-2a6c-4bed-ae20-888b554407a4",
   "metadata": {},
   "outputs": [
    {
     "ename": "AttributeError",
     "evalue": "'tuple' object has no attribute 'replace'",
     "output_type": "error",
     "traceback": [
      "\u001b[1;31m---------------------------------------------------------------------------\u001b[0m",
      "\u001b[1;31mAttributeError\u001b[0m                            Traceback (most recent call last)",
      "Cell \u001b[1;32mIn[22], line 1\u001b[0m\n\u001b[1;32m----> 1\u001b[0m Weekdays\u001b[38;5;241m.\u001b[39mreplace(\u001b[38;5;124m'\u001b[39m\u001b[38;5;124mSun\u001b[39m\u001b[38;5;124m'\u001b[39m,\u001b[38;5;124m'\u001b[39m\u001b[38;5;124mSat\u001b[39m\u001b[38;5;124m'\u001b[39m)\n",
      "\u001b[1;31mAttributeError\u001b[0m: 'tuple' object has no attribute 'replace'"
     ]
    }
   ],
   "source": [
    "Weekdays.replace('Sun','Sat')"
   ]
  },
  {
   "cell_type": "code",
   "execution_count": 24,
   "id": "6134931b-d6c8-4061-b89d-cc980159151e",
   "metadata": {},
   "outputs": [
    {
     "ename": "AttributeError",
     "evalue": "'tuple' object has no attribute 'append'",
     "output_type": "error",
     "traceback": [
      "\u001b[1;31m---------------------------------------------------------------------------\u001b[0m",
      "\u001b[1;31mAttributeError\u001b[0m                            Traceback (most recent call last)",
      "Cell \u001b[1;32mIn[24], line 1\u001b[0m\n\u001b[1;32m----> 1\u001b[0m Weekdays\u001b[38;5;241m.\u001b[39mappend(\u001b[38;5;124m'\u001b[39m\u001b[38;5;124mMercury\u001b[39m\u001b[38;5;124m'\u001b[39m)\n",
      "\u001b[1;31mAttributeError\u001b[0m: 'tuple' object has no attribute 'append'"
     ]
    }
   ],
   "source": [
    "Weekdays.append('Mercury')"
   ]
  },
  {
   "cell_type": "code",
   "execution_count": 26,
   "id": "49ae1f70-2dc4-4c20-b5e4-e8915f604e21",
   "metadata": {},
   "outputs": [
    {
     "data": {
      "text/plain": [
       "('Sun', 'Mon', 'Tue', 'Wed', 'Thu', 'Fri', 'Sat')"
      ]
     },
     "execution_count": 26,
     "metadata": {},
     "output_type": "execute_result"
    }
   ],
   "source": [
    "Weekdays[0:7]"
   ]
  },
  {
   "cell_type": "code",
   "execution_count": 28,
   "id": "8dc58cbd-04d3-4bb8-8abe-fdb7e7e18110",
   "metadata": {},
   "outputs": [
    {
     "ename": "TypeError",
     "evalue": "'tuple' object does not support item assignment",
     "output_type": "error",
     "traceback": [
      "\u001b[1;31m---------------------------------------------------------------------------\u001b[0m",
      "\u001b[1;31mTypeError\u001b[0m                                 Traceback (most recent call last)",
      "Cell \u001b[1;32mIn[28], line 1\u001b[0m\n\u001b[1;32m----> 1\u001b[0m Weekdays[\u001b[38;5;241m0\u001b[39m]\u001b[38;5;241m=\u001b[39m\u001b[38;5;124m'\u001b[39m\u001b[38;5;124mMon\u001b[39m\u001b[38;5;124m'\u001b[39m\n",
      "\u001b[1;31mTypeError\u001b[0m: 'tuple' object does not support item assignment"
     ]
    }
   ],
   "source": [
    "Weekdays[0]='Mon'"
   ]
  },
  {
   "cell_type": "code",
   "execution_count": 30,
   "id": "f74689ec-d677-4d3e-9238-ba7c4d1be20f",
   "metadata": {},
   "outputs": [
    {
     "data": {
      "text/plain": [
       "('Mon', 'Tue', 'Wed', 'Thu')"
      ]
     },
     "execution_count": 30,
     "metadata": {},
     "output_type": "execute_result"
    }
   ],
   "source": [
    "Weekdays[1:5]"
   ]
  },
  {
   "cell_type": "code",
   "execution_count": null,
   "id": "8100b094-74d3-4b7b-8137-394903fb6da9",
   "metadata": {},
   "outputs": [],
   "source": []
  }
 ],
 "metadata": {
  "kernelspec": {
   "display_name": "Python 3 (ipykernel)",
   "language": "python",
   "name": "python3"
  },
  "language_info": {
   "codemirror_mode": {
    "name": "ipython",
    "version": 3
   },
   "file_extension": ".py",
   "mimetype": "text/x-python",
   "name": "python",
   "nbconvert_exporter": "python",
   "pygments_lexer": "ipython3",
   "version": "3.12.4"
  }
 },
 "nbformat": 4,
 "nbformat_minor": 5
}
