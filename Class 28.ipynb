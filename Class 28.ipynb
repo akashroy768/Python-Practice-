{
 "cells": [
  {
   "cell_type": "code",
   "execution_count": null,
   "id": "b93eca5c-b6e8-47cf-b237-f2821e1b8395",
   "metadata": {},
   "outputs": [],
   "source": [
    "#Polymorphism"
   ]
  },
  {
   "cell_type": "code",
   "execution_count": null,
   "id": "8288e5d2-aaec-4a0e-bfbd-9d6f644ebfdc",
   "metadata": {},
   "outputs": [],
   "source": [
    "def sum(a,b):\n",
    "    print(a+b)\n",
    "\n",
    "def sum(a,b,c):\n",
    "    print(a+b+c)\n",
    "\n",
    "print(sum(4,5,6))"
   ]
  },
  {
   "cell_type": "code",
   "execution_count": null,
   "id": "9cef7cd1-82e7-44d1-879b-915092f3543f",
   "metadata": {},
   "outputs": [],
   "source": [
    "def add(d,e,f=0,g=0):\n",
    "    print(d+e+f)\n",
    "\n",
    "add(20,50,70)\n",
    "    "
   ]
  },
  {
   "cell_type": "code",
   "execution_count": 1,
   "id": "118dd4e1-eafe-4b09-bb25-882f00d434c8",
   "metadata": {},
   "outputs": [
    {
     "name": "stdout",
     "output_type": "stream",
     "text": [
      "some generic sound\n",
      "Meow\n",
      "barks\n"
     ]
    }
   ],
   "source": [
    "class Animal:\n",
    "    def sound(Harshita):\n",
    "        return\"some generic sound\"\n",
    "\n",
    "class Dog:\n",
    "    def sound(Harshita):\n",
    "        return \"barks\"\n",
    "\n",
    "class Cat:\n",
    "    def sound(Harshita):\n",
    "        return \"Meow\"\n",
    "\n",
    "animal = Animal()\n",
    "cat=Cat()\n",
    "dog =Dog()\n",
    "\n",
    "print(animal.sound())\n",
    "print(cat.sound())\n",
    "print(dog.sound())\n"
   ]
  },
  {
   "cell_type": "code",
   "execution_count": null,
   "id": "063661c5-ea03-40b4-a269-544344f727a4",
   "metadata": {},
   "outputs": [],
   "source": [
    "#method overloading:"
   ]
  },
  {
   "cell_type": "code",
   "execution_count": 13,
   "id": "fbf2cb1a-d0e1-44f1-bbe3-37bd88e20b33",
   "metadata": {},
   "outputs": [
    {
     "name": "stdout",
     "output_type": "stream",
     "text": [
      "12\n"
     ]
    }
   ],
   "source": [
    "class mathoperations:\n",
    "    def add(self,a=0,b=0,c=0,d=0):\n",
    "        return a+b+c+d\n",
    "\n",
    "math_op = mathoperations()\n",
    "\n",
    "print(math_op.add(2,3,3,4))  #if we want to give the 5th arguements you should mention the 5th arguements in parameters"
   ]
  },
  {
   "cell_type": "code",
   "execution_count": 9,
   "id": "0d13563e-7f17-4fcd-90c6-4383402735fe",
   "metadata": {},
   "outputs": [
    {
     "name": "stdout",
     "output_type": "stream",
     "text": [
      "<bound method A.fun1 of <__main__.A object at 0x000001C1889A26F0>>\n",
      "<bound method A.fun2 of <__main__.A object at 0x000001C1889A26F0>>\n"
     ]
    }
   ],
   "source": [
    "class A:\n",
    "    a = 10\n",
    "    __b=20\n",
    "    def fun1(self):\n",
    "        print(self.a)\n",
    "    def fun2(self):\n",
    "        print(self.__b)\n",
    "\n",
    "obj = A()\n",
    "print obj.a\n",
    "print obj.b"
   ]
  },
  {
   "cell_type": "code",
   "execution_count": null,
   "id": "2b4a5e5e-518f-46fa-954b-d9b2f0465a06",
   "metadata": {},
   "outputs": [],
   "source": [
    "class A:\n",
    "    a = 10\n",
    "    __b=20\n",
    "    def fun1(self):\n",
    "        print(self.a)\n",
    "    def fun2(self):\n",
    "        print(self.__b)\n",
    "\n",
    "obj = A()\n",
    "obj\n",
    "print obj.b"
   ]
  }
 ],
 "metadata": {
  "kernelspec": {
   "display_name": "Python 3 (ipykernel)",
   "language": "python",
   "name": "python3"
  },
  "language_info": {
   "codemirror_mode": {
    "name": "ipython",
    "version": 3
   },
   "file_extension": ".py",
   "mimetype": "text/x-python",
   "name": "python",
   "nbconvert_exporter": "python",
   "pygments_lexer": "ipython3",
   "version": "3.12.4"
  }
 },
 "nbformat": 4,
 "nbformat_minor": 5
}
