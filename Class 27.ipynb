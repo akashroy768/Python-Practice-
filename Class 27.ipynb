{
 "cells": [
  {
   "cell_type": "code",
   "execution_count": 19,
   "id": "48cffe0c-c707-48d1-b7d5-5889e8364ac5",
   "metadata": {},
   "outputs": [],
   "source": [
    "class xyz:\n",
    "    p=20   #Global variables = it is accessible to all\n",
    "    q=30    \n",
    "\n",
    "    def fun1(self):   #Method\n",
    "      print('The Values of p:',self.p)\n",
    "\n",
    "    def fun2(self,b):  #b is a local variable\n",
    "        m = b*self.p\n",
    "        return m\n",
    "object=xyz()\n"
   ]
  },
  {
   "cell_type": "code",
   "execution_count": 21,
   "id": "fe1ff922-479f-4292-ab39-faeb4ad9e38f",
   "metadata": {},
   "outputs": [
    {
     "name": "stdout",
     "output_type": "stream",
     "text": [
      "The Values of p: 20\n"
     ]
    }
   ],
   "source": [
    "  object.fun1()"
   ]
  },
  {
   "cell_type": "code",
   "execution_count": 25,
   "id": "f6296ba9-dcad-4f32-93ca-2f85dba72d6f",
   "metadata": {},
   "outputs": [
    {
     "data": {
      "text/plain": [
       "140"
      ]
     },
     "execution_count": 25,
     "metadata": {},
     "output_type": "execute_result"
    }
   ],
   "source": [
    " object.fun2(7)"
   ]
  },
  {
   "cell_type": "code",
   "execution_count": 29,
   "id": "28dc3fa1-c11c-4fda-9d7f-a59b1faf9ee5",
   "metadata": {},
   "outputs": [],
   "source": [
    "class Dog:\n",
    "    def __init__(self,name):\n",
    "       self.name=name\n",
    "\n",
    "    def talk(self):\n",
    "        print(\"woof !\")\n",
    "\n",
    "    def printname(self):\n",
    "        print(\"My Name is:{}\".format(self.name))\n",
    "        "
   ]
  },
  {
   "cell_type": "code",
   "execution_count": 31,
   "id": "2f948f10-cd62-4f1f-95a8-65770384bcf0",
   "metadata": {},
   "outputs": [
    {
     "name": "stdout",
     "output_type": "stream",
     "text": [
      "woof !\n"
     ]
    }
   ],
   "source": [
    "dog = Dog(\"Charlie\")\n",
    "dog.talk()"
   ]
  },
  {
   "cell_type": "code",
   "execution_count": 33,
   "id": "67d92786-6ddc-4385-94c3-3f68b21c7b88",
   "metadata": {},
   "outputs": [
    {
     "name": "stdout",
     "output_type": "stream",
     "text": [
      "My Name is:Charlie\n"
     ]
    }
   ],
   "source": [
    "dog.printname()\n"
   ]
  },
  {
   "cell_type": "code",
   "execution_count": 77,
   "id": "0f783f52-827a-47d2-bc5a-32cc24058a4e",
   "metadata": {},
   "outputs": [],
   "source": [
    "class faculty:\n",
    "    def data(self):\n",
    "        self.id=int(input(\"Enter faculty Id \\n\"))\n",
    "        self.name=input(\"Enter Name of faculty \\n\")\n",
    "        self.salary = int(input(\"Enter faculty salary \\n\"))\n",
    "\n",
    "    def show(self):\n",
    "        print(\"faculty Id:\", self.id)\n",
    "        print(\"faculty name:\", self.name)\n",
    "        print(\"faculty salary:\",self.salary)"
   ]
  },
  {
   "cell_type": "code",
   "execution_count": 51,
   "id": "88aacc75-cbf9-43cc-9e76-d46ad08d3586",
   "metadata": {},
   "outputs": [],
   "source": [
    "f_data=faculty()"
   ]
  },
  {
   "cell_type": "code",
   "execution_count": 53,
   "id": "c29f7bb5-2e25-4272-8e82-10aea3322ca2",
   "metadata": {},
   "outputs": [
    {
     "name": "stdin",
     "output_type": "stream",
     "text": [
      "Enter faculty Id \n",
      " 7\n",
      "Enter Name of faculty \n",
      " harshita\n",
      "Enter faculty salary \n",
      " 8000000\n"
     ]
    }
   ],
   "source": [
    "f_data.data()"
   ]
  },
  {
   "cell_type": "code",
   "execution_count": 55,
   "id": "45cd5036-37a7-4e4e-a951-ffca50f73567",
   "metadata": {},
   "outputs": [
    {
     "name": "stdout",
     "output_type": "stream",
     "text": [
      "faculty Id: 7\n",
      "faculty name: harshita\n",
      "faculty salary: 8000000\n"
     ]
    }
   ],
   "source": [
    "f_data.show()"
   ]
  },
  {
   "cell_type": "code",
   "execution_count": 105,
   "id": "4cdf7236-e879-424a-bb9f-3936a6d7cc56",
   "metadata": {},
   "outputs": [],
   "source": [
    "class faculty:\n",
    "    def __init__(self,id,name,salary):\n",
    "        self.id=id\n",
    "        self.name= name\n",
    "        self.salary = salary\n",
    "    def show(self):\n",
    "        print(\"faculty Id:\", self.id)\n",
    "        print(\"faculty name:\", self.name)\n",
    "        print(\"faculty salary:\",self.salary)"
   ]
  },
  {
   "cell_type": "code",
   "execution_count": 107,
   "id": "5d1b32bd-bd7a-41dc-9e93-0c8e7f5876ab",
   "metadata": {},
   "outputs": [],
   "source": [
    "info=faculty(1,\"john\",50000)"
   ]
  },
  {
   "cell_type": "code",
   "execution_count": 109,
   "id": "a974cc41-7717-43af-aab2-64a20859bf49",
   "metadata": {},
   "outputs": [
    {
     "name": "stdout",
     "output_type": "stream",
     "text": [
      "faculty Id: 1\n",
      "faculty name: john\n",
      "faculty salary: 50000\n"
     ]
    }
   ],
   "source": [
    "info.show()"
   ]
  },
  {
   "cell_type": "code",
   "execution_count": null,
   "id": "afa21f5f-9742-4fbd-b9bd-b4c4ebb1b2cd",
   "metadata": {},
   "outputs": [],
   "source": [
    "#inheritence"
   ]
  },
  {
   "cell_type": "code",
   "execution_count": 97,
   "id": "2194d7d7-3d58-44e4-9cb1-5727eebef44f",
   "metadata": {},
   "outputs": [],
   "source": [
    "class Animal:\n",
    "    def __init__(self,name):\n",
    "        self.name=name\n",
    "\n",
    "    def speak(self):\n",
    "        return f\"{self.name} makes sound\"\n",
    "\n",
    "class Dog(Animal):\n",
    "    def speak(self):\n",
    "        return f\"{self.name} barks\"\n",
    "\n",
    "class cat (Animal):\n",
    "    def speak(self):\n",
    "        return f\"{self.name} meow\""
   ]
  },
  {
   "cell_type": "code",
   "execution_count": 99,
   "id": "59e021bb-eaa0-4eb4-9cf8-3c2b86d50195",
   "metadata": {},
   "outputs": [
    {
     "name": "stdout",
     "output_type": "stream",
     "text": [
      "Generic Animal makes sound\n"
     ]
    }
   ],
   "source": [
    "animal = Animal(\"Generic Animal\")\n",
    "print(animal.speak())"
   ]
  },
  {
   "cell_type": "code",
   "execution_count": 101,
   "id": "30bc6ab9-e987-4826-8290-11ef6b8db5c3",
   "metadata": {},
   "outputs": [
    {
     "name": "stdout",
     "output_type": "stream",
     "text": [
      "max barks\n"
     ]
    }
   ],
   "source": [
    "dog = Dog(\"max\")\n",
    "print(dog.speak())"
   ]
  },
  {
   "cell_type": "code",
   "execution_count": 103,
   "id": "e0148c9a-65fa-423b-8e6f-cfc3679d0d26",
   "metadata": {},
   "outputs": [
    {
     "name": "stdout",
     "output_type": "stream",
     "text": [
      "jasmine meow\n"
     ]
    }
   ],
   "source": [
    "cat = cat(\"jasmine\")\n",
    "print(cat.speak())"
   ]
  },
  {
   "cell_type": "code",
   "execution_count": null,
   "id": "4d6d6b64-c9b0-453d-8ecc-5063a4d82aa4",
   "metadata": {},
   "outputs": [],
   "source": []
  }
 ],
 "metadata": {
  "kernelspec": {
   "display_name": "Python 3 (ipykernel)",
   "language": "python",
   "name": "python3"
  },
  "language_info": {
   "codemirror_mode": {
    "name": "ipython",
    "version": 3
   },
   "file_extension": ".py",
   "mimetype": "text/x-python",
   "name": "python",
   "nbconvert_exporter": "python",
   "pygments_lexer": "ipython3",
   "version": "3.12.4"
  }
 },
 "nbformat": 4,
 "nbformat_minor": 5
}
