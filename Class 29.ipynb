{
 "cells": [
  {
   "cell_type": "code",
   "execution_count": null,
   "id": "afecdc53-1e59-44f0-9b48-3a1e66c6d18a",
   "metadata": {},
   "outputs": [],
   "source": [
    "#Objects\n",
    "#Exception Handling"
   ]
  },
  {
   "cell_type": "code",
   "execution_count": 27,
   "id": "c31faeb4-797b-497e-9a36-36a2ea5f8aa2",
   "metadata": {},
   "outputs": [
    {
     "name": "stdin",
     "output_type": "stream",
     "text": [
      "Enter A value for a\n",
      " 10\n",
      "Enter A value for b\n",
      " 0\n"
     ]
    },
    {
     "ename": "ZeroDivisionError",
     "evalue": "division by zero",
     "output_type": "error",
     "traceback": [
      "\u001b[1;31m---------------------------------------------------------------------------\u001b[0m",
      "\u001b[1;31mZeroDivisionError\u001b[0m                         Traceback (most recent call last)",
      "Cell \u001b[1;32mIn[27], line 6\u001b[0m\n\u001b[0;32m      2\u001b[0m a \u001b[38;5;241m=\u001b[39m \u001b[38;5;28mint\u001b[39m(\u001b[38;5;28minput\u001b[39m(\u001b[38;5;124m\"\u001b[39m\u001b[38;5;124mEnter A value for a\u001b[39m\u001b[38;5;130;01m\\n\u001b[39;00m\u001b[38;5;124m\"\u001b[39m))\n\u001b[0;32m      4\u001b[0m b \u001b[38;5;241m=\u001b[39m \u001b[38;5;28mint\u001b[39m(\u001b[38;5;28minput\u001b[39m(\u001b[38;5;124m\"\u001b[39m\u001b[38;5;124mEnter A value for b\u001b[39m\u001b[38;5;130;01m\\n\u001b[39;00m\u001b[38;5;124m\"\u001b[39m))\n\u001b[1;32m----> 6\u001b[0m c \u001b[38;5;241m=\u001b[39m a\u001b[38;5;241m/\u001b[39mb\n\u001b[0;32m      8\u001b[0m \u001b[38;5;28mprint\u001b[39m(c)\n",
      "\u001b[1;31mZeroDivisionError\u001b[0m: division by zero"
     ]
    }
   ],
   "source": [
    "#Zerodivision error\n",
    "a = int(input(\"Enter A value for a\\n\"))\n",
    "\n",
    "b = int(input(\"Enter A value for b\\n\"))\n",
    "\n",
    "c = a/b\n",
    "\n",
    "print(c)"
   ]
  },
  {
   "cell_type": "code",
   "execution_count": null,
   "id": "874224ca-a26d-4dae-9eb0-a47ebff98a64",
   "metadata": {},
   "outputs": [],
   "source": [
    "#how to handle the errors"
   ]
  },
  {
   "cell_type": "code",
   "execution_count": null,
   "id": "ebb36619-db24-46ce-870a-139e6c576839",
   "metadata": {},
   "outputs": [],
   "source": [
    "#try : this block will catch the errors\n",
    "#except : this block lets you handle the error\n",
    "#else\n",
    "#finally"
   ]
  },
  {
   "cell_type": "code",
   "execution_count": 29,
   "id": "c84c3ba0-be5c-4ea0-85fc-e9323aafa986",
   "metadata": {},
   "outputs": [
    {
     "name": "stdin",
     "output_type": "stream",
     "text": [
      "Enter a number: 70\n"
     ]
    },
    {
     "name": "stdout",
     "output_type": "stream",
     "text": [
      "Result: 700.0\n",
      "The operation was successful.\n",
      "This block will always execute, regardless of an error.\n"
     ]
    }
   ],
   "source": [
    "try:\n",
    "    num = float(input(\"Enter a number:\"))\n",
    "    result = 10 * num\n",
    "    print(f\"Result: {result}\")\n",
    "\n",
    "except ZeroDivisionError:\n",
    "    print(\"Error: Invalid input! please enter a valid number.\")\n",
    "else:\n",
    "    print(\"The operation was successful.\")\n",
    "finally:\n",
    "    print(\"This block will always execute, regardless of an error.\")\n"
   ]
  },
  {
   "cell_type": "code",
   "execution_count": 11,
   "id": "078debe0-2cad-4812-a1fb-1702ce1ca06e",
   "metadata": {},
   "outputs": [
    {
     "name": "stdin",
     "output_type": "stream",
     "text": [
      "Enter a Number:\n",
      " 50\n"
     ]
    },
    {
     "name": "stdout",
     "output_type": "stream",
     "text": [
      "Result:5.0\n",
      "The code is Good\n"
     ]
    }
   ],
   "source": [
    "try:\n",
    "    num = float(input(\"Enter a Number:\\n\"))\n",
    "    result = num/10\n",
    "    print(f\"Result:{result}\")\n",
    "except ValueError:\n",
    "    print(\"Error: could not convert string to float:\")\n",
    "\n",
    "else:\n",
    "    print(\"The code is Good\")\n",
    "\n",
    "#finally:\n",
    "    #print(\"This finally block is optional and will execute regardless of an error\")"
   ]
  },
  {
   "cell_type": "code",
   "execution_count": 13,
   "id": "f8935119-b57d-4ab3-84b3-9d8321c9b612",
   "metadata": {},
   "outputs": [
    {
     "name": "stdin",
     "output_type": "stream",
     "text": [
      "Enter a Number:\n",
      " 0\n"
     ]
    },
    {
     "ename": "ZeroDivisionError",
     "evalue": "float division by zero",
     "output_type": "error",
     "traceback": [
      "\u001b[1;31m---------------------------------------------------------------------------\u001b[0m",
      "\u001b[1;31mZeroDivisionError\u001b[0m                         Traceback (most recent call last)",
      "Cell \u001b[1;32mIn[13], line 3\u001b[0m\n\u001b[0;32m      1\u001b[0m \u001b[38;5;28;01mtry\u001b[39;00m:\n\u001b[0;32m      2\u001b[0m     num \u001b[38;5;241m=\u001b[39m \u001b[38;5;28mfloat\u001b[39m(\u001b[38;5;28minput\u001b[39m(\u001b[38;5;124m\"\u001b[39m\u001b[38;5;124mEnter a Number:\u001b[39m\u001b[38;5;130;01m\\n\u001b[39;00m\u001b[38;5;124m\"\u001b[39m))\n\u001b[1;32m----> 3\u001b[0m     result \u001b[38;5;241m=\u001b[39m \u001b[38;5;241m50\u001b[39m\u001b[38;5;241m/\u001b[39mnum\n\u001b[0;32m      4\u001b[0m     \u001b[38;5;28mprint\u001b[39m(\u001b[38;5;124mf\u001b[39m\u001b[38;5;124m\"\u001b[39m\u001b[38;5;124mResult:\u001b[39m\u001b[38;5;132;01m{\u001b[39;00mresult\u001b[38;5;132;01m}\u001b[39;00m\u001b[38;5;124m\"\u001b[39m)\n\u001b[0;32m      5\u001b[0m \u001b[38;5;28;01mexcept\u001b[39;00m \u001b[38;5;167;01mValueError\u001b[39;00m:\n",
      "\u001b[1;31mZeroDivisionError\u001b[0m: float division by zero"
     ]
    }
   ],
   "source": [
    "try:\n",
    "    num = float(input(\"Enter a Number:\\n\"))\n",
    "    result = 50/num\n",
    "    print(f\"Result:{result}\")\n",
    "except ValueError:\n",
    "    print(\"Error: could not convert string to float:\")\n",
    "\n",
    "else:\n",
    "    print(\"The code is Good\")"
   ]
  },
  {
   "cell_type": "code",
   "execution_count": 21,
   "id": "66cb200d-a9fe-4c0d-a5b0-31c04675759a",
   "metadata": {},
   "outputs": [
    {
     "name": "stdin",
     "output_type": "stream",
     "text": [
      "Enter the first number\n",
      " Harshita\n"
     ]
    },
    {
     "name": "stdout",
     "output_type": "stream",
     "text": [
      "Error:Value Error\n"
     ]
    }
   ],
   "source": [
    "try:\n",
    "   num1 = int(input(\"Enter the first number\\n\"))\n",
    "   num2 = int(input(\"Enter the second number\\n\"))\n",
    "   result = num1/num2\n",
    "   print(f\"Result:{result}\")\n",
    "except ZeroDivisionError:\n",
    "    print(\"Error:Zero Division\")\n",
    "except ValueError:\n",
    "    print(\"Error:Value Error\")\n",
    "except Exception as e:\n",
    "    print(f\"An unexpected error occurred:{e}\")\n",
    "else:\n",
    "    print(\"execution is succesfull\")"
   ]
  },
  {
   "cell_type": "code",
   "execution_count": null,
   "id": "45980b61-b1e2-4b4f-b4c4-31b44bb9e5ff",
   "metadata": {},
   "outputs": [],
   "source": []
  }
 ],
 "metadata": {
  "kernelspec": {
   "display_name": "Python 3 (ipykernel)",
   "language": "python",
   "name": "python3"
  },
  "language_info": {
   "codemirror_mode": {
    "name": "ipython",
    "version": 3
   },
   "file_extension": ".py",
   "mimetype": "text/x-python",
   "name": "python",
   "nbconvert_exporter": "python",
   "pygments_lexer": "ipython3",
   "version": "3.12.4"
  }
 },
 "nbformat": 4,
 "nbformat_minor": 5
}
