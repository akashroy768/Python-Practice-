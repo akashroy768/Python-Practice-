{
 "cells": [
  {
   "cell_type": "code",
   "execution_count": null,
   "id": "b6f4077f-51f7-4baf-8c05-a0bd8f964726",
   "metadata": {},
   "outputs": [],
   "source": [
    "#operators\n"
   ]
  },
  {
   "cell_type": "code",
   "execution_count": 1,
   "id": "5e40face-87ee-4e24-9ad2-f8eccb6ea12b",
   "metadata": {},
   "outputs": [
    {
     "name": "stdout",
     "output_type": "stream",
     "text": [
      "21\n"
     ]
    }
   ],
   "source": [
    "x=7\n",
    "y=3\n",
    "print(x*y)"
   ]
  },
  {
   "cell_type": "code",
   "execution_count": null,
   "id": "4ae265c0-4431-40c4-a6e4-81d3a74404ab",
   "metadata": {},
   "outputs": [],
   "source": [
    "#Arithmetic "
   ]
  },
  {
   "cell_type": "code",
   "execution_count": 8,
   "id": "6db93a89-132a-40b1-970f-aad9e44242c2",
   "metadata": {},
   "outputs": [
    {
     "name": "stdout",
     "output_type": "stream",
     "text": [
      "adtn: 7 + 8 = 15\n"
     ]
    }
   ],
   "source": [
    "x = 7\n",
    "y = 8\n",
    "adtn = x + y \n",
    "print(f\"adtn: {x} + {y} = {adtn}\")"
   ]
  },
  {
   "cell_type": "code",
   "execution_count": 12,
   "id": "f86e83ee-8af4-4c19-ac03-e589df3b5e41",
   "metadata": {},
   "outputs": [
    {
     "name": "stdout",
     "output_type": "stream",
     "text": [
      "substraction: 7 - 8 = -1\n"
     ]
    }
   ],
   "source": [
    "substraction = x - y\n",
    "print(f\"substraction: {x} - {y} = {substraction}\")"
   ]
  },
  {
   "cell_type": "code",
   "execution_count": 14,
   "id": "9710eb5c-6b38-45f3-973b-424adf8c7d62",
   "metadata": {},
   "outputs": [
    {
     "name": "stdout",
     "output_type": "stream",
     "text": [
      "multiplication: 7 * 8 = 56\n"
     ]
    }
   ],
   "source": [
    "multiplication = x * y\n",
    "print(f\"multiplication: {x} * {y} = {multiplication}\")"
   ]
  },
  {
   "cell_type": "code",
   "execution_count": 16,
   "id": "d7f4d28a-70be-4f7b-a14a-1855287d6950",
   "metadata": {},
   "outputs": [
    {
     "name": "stdout",
     "output_type": "stream",
     "text": [
      "3.75\n",
      "division: 15 / 4 = 3.75\n"
     ]
    }
   ],
   "source": [
    "x = 15\n",
    "y = 4\n",
    "division = x/y\n",
    "print(division)\n",
    "print(f\"division: {x} / {y} = {division}\")"
   ]
  },
  {
   "cell_type": "code",
   "execution_count": 18,
   "id": "d97687a0-16c0-4c50-84ea-08f8ac5ed7ac",
   "metadata": {},
   "outputs": [
    {
     "name": "stdout",
     "output_type": "stream",
     "text": [
      "3.75\n"
     ]
    },
    {
     "data": {
      "text/plain": [
       "float"
      ]
     },
     "execution_count": 18,
     "metadata": {},
     "output_type": "execute_result"
    }
   ],
   "source": [
    "print(x/y)\n",
    "type(x/y)"
   ]
  },
  {
   "cell_type": "code",
   "execution_count": 20,
   "id": "4e339b97-31ed-4308-959d-deaf87170c98",
   "metadata": {},
   "outputs": [
    {
     "name": "stdout",
     "output_type": "stream",
     "text": [
      "3\n",
      "mod: 15 % 4 = 3\n"
     ]
    }
   ],
   "source": [
    "x = 15\n",
    "y = 4\n",
    "mod = x%y\n",
    "print(mod)\n",
    "print(f\"mod: {x} % {y} = {mod}\")"
   ]
  },
  {
   "cell_type": "code",
   "execution_count": 24,
   "id": "3bfd09e3-0a5e-4d28-b152-116c68319e17",
   "metadata": {},
   "outputs": [
    {
     "name": "stdout",
     "output_type": "stream",
     "text": [
      "expn: 15 ** 4 = 50625\n"
     ]
    }
   ],
   "source": [
    "expn = x ** y\n",
    "print(f\"expn: {x} ** {y} = {expn}\")"
   ]
  },
  {
   "cell_type": "code",
   "execution_count": 28,
   "id": "df6e16b1-87c6-48b1-bdae-ccaae8ea1492",
   "metadata": {},
   "outputs": [
    {
     "name": "stdout",
     "output_type": "stream",
     "text": [
      "flr_div: 15 // 4 = 3\n",
      "3.75\n"
     ]
    }
   ],
   "source": [
    "div = x/y\n",
    "flr_div = x//y\n",
    "print(f\"flr_div: {x} // {y} = {flr_div}\")\n",
    "print(div)"
   ]
  },
  {
   "cell_type": "code",
   "execution_count": 30,
   "id": "177024cf-16ad-4dfc-a9c2-935ce72fae56",
   "metadata": {},
   "outputs": [
    {
     "name": "stdout",
     "output_type": "stream",
     "text": [
      "45\n",
      "35\n",
      "8.0\n",
      "0\n",
      "8\n",
      "102400000\n",
      "200\n"
     ]
    }
   ],
   "source": [
    "a = 40\n",
    "b = 5\n",
    "print(a+b)\n",
    "print(a-b)\n",
    "print(a/b)\n",
    "print(a%b)\n",
    "print(a//b)\n",
    "print(a**b)\n",
    "print(a*b)"
   ]
  },
  {
   "cell_type": "code",
   "execution_count": null,
   "id": "ac161f30-d0ae-46d3-9d73-c82bae0747ef",
   "metadata": {},
   "outputs": [],
   "source": [
    "#assignment operators"
   ]
  },
  {
   "cell_type": "code",
   "execution_count": 32,
   "id": "80738758-dc3a-415e-a354-ab11f65461c3",
   "metadata": {},
   "outputs": [
    {
     "name": "stdout",
     "output_type": "stream",
     "text": [
      "5\n"
     ]
    }
   ],
   "source": [
    "x = 5 \n",
    "print(x)"
   ]
  },
  {
   "cell_type": "code",
   "execution_count": 34,
   "id": "c5fbf3b0-addf-4488-a52a-924b05ce5776",
   "metadata": {},
   "outputs": [
    {
     "name": "stdout",
     "output_type": "stream",
     "text": [
      "10\n"
     ]
    }
   ],
   "source": [
    "x += 5\n",
    "print(x)"
   ]
  },
  {
   "cell_type": "code",
   "execution_count": 36,
   "id": "5dd5ab47-b546-4d34-90bc-28a4c6db0615",
   "metadata": {},
   "outputs": [
    {
     "name": "stdout",
     "output_type": "stream",
     "text": [
      "5\n"
     ]
    }
   ],
   "source": [
    "x -= 5\n",
    "print(x)"
   ]
  },
  {
   "cell_type": "code",
   "execution_count": 38,
   "id": "77a4a972-ff82-4f3b-9219-58555c16e99e",
   "metadata": {},
   "outputs": [
    {
     "name": "stdout",
     "output_type": "stream",
     "text": [
      "25\n"
     ]
    }
   ],
   "source": [
    "x *= 5\n",
    "print(x)"
   ]
  },
  {
   "cell_type": "code",
   "execution_count": 40,
   "id": "a353867f-8bae-45eb-b1f7-661e88a855ac",
   "metadata": {},
   "outputs": [
    {
     "name": "stdout",
     "output_type": "stream",
     "text": [
      "5.0\n"
     ]
    }
   ],
   "source": [
    "x /= 5\n",
    "print(x)"
   ]
  },
  {
   "cell_type": "code",
   "execution_count": 42,
   "id": "ff2ded19-1443-4224-b8c2-4888d1d44fd1",
   "metadata": {},
   "outputs": [
    {
     "name": "stdout",
     "output_type": "stream",
     "text": [
      "1.0\n"
     ]
    }
   ],
   "source": [
    "x //= 5\n",
    "print(x)"
   ]
  },
  {
   "cell_type": "code",
   "execution_count": 44,
   "id": "fa72bae4-86be-4877-9d6a-5e00c1543f3c",
   "metadata": {},
   "outputs": [
    {
     "name": "stdout",
     "output_type": "stream",
     "text": [
      "1.0\n"
     ]
    }
   ],
   "source": [
    "x %= 5\n",
    "print(x)"
   ]
  },
  {
   "cell_type": "code",
   "execution_count": null,
   "id": "1d264520-466d-4552-9092-41ccf840f914",
   "metadata": {},
   "outputs": [],
   "source": [
    "#how to calculate number to binary is by using hcl formula if divisible then 0 if not then 1 like that we calculate from \n",
    "#down to top \n",
    "#for binary to number we need power like 1010 then 1st 2 to the power 0 n multiple with 1 like that we calculate the whole number \n",
    "#n add them "
   ]
  }
 ],
 "metadata": {
  "kernelspec": {
   "display_name": "Python 3 (ipykernel)",
   "language": "python",
   "name": "python3"
  },
  "language_info": {
   "codemirror_mode": {
    "name": "ipython",
    "version": 3
   },
   "file_extension": ".py",
   "mimetype": "text/x-python",
   "name": "python",
   "nbconvert_exporter": "python",
   "pygments_lexer": "ipython3",
   "version": "3.12.4"
  }
 },
 "nbformat": 4,
 "nbformat_minor": 5
}
