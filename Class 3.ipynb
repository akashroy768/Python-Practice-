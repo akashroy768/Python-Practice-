{
 "cells": [
  {
   "cell_type": "code",
   "execution_count": 11,
   "id": "e7a09a19-0f13-4c61-9c63-db40a165ed38",
   "metadata": {},
   "outputs": [],
   "source": [
    "c = \"Data Science\""
   ]
  },
  {
   "cell_type": "code",
   "execution_count": 3,
   "id": "e0d6c8b3-10e4-49bf-92f8-ddef7503fada",
   "metadata": {},
   "outputs": [
    {
     "data": {
      "text/plain": [
       "False"
      ]
     },
     "execution_count": 3,
     "metadata": {},
     "output_type": "execute_result"
    }
   ],
   "source": [
    "c.endswith(\"c\")"
   ]
  },
  {
   "cell_type": "code",
   "execution_count": 7,
   "id": "c8db4f23-5150-41b5-9c45-796f6465c8d2",
   "metadata": {},
   "outputs": [
    {
     "data": {
      "text/plain": [
       "True"
      ]
     },
     "execution_count": 7,
     "metadata": {},
     "output_type": "execute_result"
    }
   ],
   "source": [
    "c.startswith(\"D\")"
   ]
  },
  {
   "cell_type": "code",
   "execution_count": 9,
   "id": "2c69c244-6619-40fd-8525-412e14ebb77e",
   "metadata": {},
   "outputs": [
    {
     "data": {
      "text/plain": [
       "['Data', 'Science']"
      ]
     },
     "execution_count": 9,
     "metadata": {},
     "output_type": "execute_result"
    }
   ],
   "source": [
    "c.split()"
   ]
  },
  {
   "cell_type": "code",
   "execution_count": 11,
   "id": "e5e7b1d5-0dc4-48bc-b5ce-86c89e4ac5b0",
   "metadata": {},
   "outputs": [],
   "source": [
    "a = \"+91-9078277882\""
   ]
  },
  {
   "cell_type": "code",
   "execution_count": 18,
   "id": "c90ca4cc-0bb5-4d93-a614-56ff76b52fc2",
   "metadata": {},
   "outputs": [
    {
     "data": {
      "text/plain": [
       "['+91-90', '82', '', '882']"
      ]
     },
     "execution_count": 18,
     "metadata": {},
     "output_type": "execute_result"
    }
   ],
   "source": [
    "a.split(\"7\")"
   ]
  },
  {
   "cell_type": "code",
   "execution_count": 7,
   "id": "b4b1b457-0d32-4ca8-bfda-b9e26f9a3ff2",
   "metadata": {},
   "outputs": [
    {
     "name": "stdout",
     "output_type": "stream",
     "text": [
      "Data Science \n",
      " Machine learning\n"
     ]
    },
    {
     "data": {
      "text/plain": [
       "['Data Science ', ' Machine learning']"
      ]
     },
     "execution_count": 7,
     "metadata": {},
     "output_type": "execute_result"
    }
   ],
   "source": [
    "c = \"Data Science \\n Machine learning\"\n",
    "print(c)\n",
    "c.splitlines()"
   ]
  },
  {
   "cell_type": "code",
   "execution_count": 13,
   "id": "0d8b4c64-46f1-404e-bff5-a8d322bd45aa",
   "metadata": {},
   "outputs": [],
   "source": [
    "x = \"    Harshita     \""
   ]
  },
  {
   "cell_type": "code",
   "execution_count": 15,
   "id": "7859a33b-ae13-496b-9074-39b311ae2398",
   "metadata": {},
   "outputs": [
    {
     "data": {
      "text/plain": [
       "'Harshita'"
      ]
     },
     "execution_count": 15,
     "metadata": {},
     "output_type": "execute_result"
    }
   ],
   "source": [
    "x.strip()"
   ]
  },
  {
   "cell_type": "code",
   "execution_count": 17,
   "id": "84640808-106a-4378-b8ca-ac3ddda8271b",
   "metadata": {},
   "outputs": [
    {
     "data": {
      "text/plain": [
       "'Harshita     '"
      ]
     },
     "execution_count": 17,
     "metadata": {},
     "output_type": "execute_result"
    }
   ],
   "source": [
    "x.lstrip()"
   ]
  },
  {
   "cell_type": "code",
   "execution_count": 19,
   "id": "0fe60051-253c-4f9e-952f-03113f0820bd",
   "metadata": {},
   "outputs": [
    {
     "data": {
      "text/plain": [
       "'    Harshita'"
      ]
     },
     "execution_count": 19,
     "metadata": {},
     "output_type": "execute_result"
    }
   ],
   "source": [
    "x.rstrip()"
   ]
  },
  {
   "cell_type": "code",
   "execution_count": 22,
   "id": "dd0c8a02-d74a-40ee-b546-c69dd3d15a53",
   "metadata": {},
   "outputs": [
    {
     "data": {
      "text/plain": [
       "'*****data****'"
      ]
     },
     "execution_count": 22,
     "metadata": {},
     "output_type": "execute_result"
    }
   ],
   "source": [
    "a = \"data\"\n",
    "a.center(13,\"*\")"
   ]
  },
  {
   "cell_type": "code",
   "execution_count": 28,
   "id": "c3ba7550-1d7b-4508-b8d9-f26b0a2cd758",
   "metadata": {},
   "outputs": [
    {
     "name": "stdout",
     "output_type": "stream",
     "text": [
      "******data\n"
     ]
    },
    {
     "data": {
      "text/plain": [
       "'data******'"
      ]
     },
     "execution_count": 28,
     "metadata": {},
     "output_type": "execute_result"
    }
   ],
   "source": [
    "print(a.rjust(10,\"*\"))\n",
    "a.ljust(10,\"*\")"
   ]
  },
  {
   "cell_type": "code",
   "execution_count": 30,
   "id": "be9f546c-77e7-415b-8f49-4b797ef603de",
   "metadata": {},
   "outputs": [
    {
     "data": {
      "text/plain": [
       "2"
      ]
     },
     "execution_count": 30,
     "metadata": {},
     "output_type": "execute_result"
    }
   ],
   "source": [
    "a.index('t')"
   ]
  },
  {
   "cell_type": "code",
   "execution_count": 32,
   "id": "a0ef8b54-b6ff-4a3c-bdf0-45cbb2037a9c",
   "metadata": {},
   "outputs": [
    {
     "data": {
      "text/plain": [
       "'adbdc'"
      ]
     },
     "execution_count": 32,
     "metadata": {},
     "output_type": "execute_result"
    }
   ],
   "source": [
    "\"d\".join(\"abc\")"
   ]
  },
  {
   "cell_type": "code",
   "execution_count": 34,
   "id": "7b8e2e92-2fc3-4c1d-923b-6b249487f392",
   "metadata": {},
   "outputs": [
    {
     "data": {
      "text/plain": [
       "'ddaadatdaada dasdacdaidaedandacdae'"
      ]
     },
     "execution_count": 34,
     "metadata": {},
     "output_type": "execute_result"
    }
   ],
   "source": [
    "\"da\".join(\"data science\")"
   ]
  },
  {
   "cell_type": "code",
   "execution_count": null,
   "id": "a9a85117-398e-4c92-8d7a-2b33f395810b",
   "metadata": {},
   "outputs": [],
   "source": []
  }
 ],
 "metadata": {
  "kernelspec": {
   "display_name": "Python 3 (ipykernel)",
   "language": "python",
   "name": "python3"
  },
  "language_info": {
   "codemirror_mode": {
    "name": "ipython",
    "version": 3
   },
   "file_extension": ".py",
   "mimetype": "text/x-python",
   "name": "python",
   "nbconvert_exporter": "python",
   "pygments_lexer": "ipython3",
   "version": "3.12.4"
  }
 },
 "nbformat": 4,
 "nbformat_minor": 5
}
