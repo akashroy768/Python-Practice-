{
 "cells": [
  {
   "cell_type": "code",
   "execution_count": null,
   "id": "e9ebf434-19c1-417b-9672-84478fec7433",
   "metadata": {},
   "outputs": [],
   "source": [
    "#Bitwise operators\n"
   ]
  },
  {
   "cell_type": "code",
   "execution_count": 1,
   "id": "a4131313-417c-474d-8c42-7a1eb35d82ca",
   "metadata": {},
   "outputs": [
    {
     "name": "stdout",
     "output_type": "stream",
     "text": [
      "8\n"
     ]
    }
   ],
   "source": [
    "#AND\n",
    "a = 12 #1100\n",
    "b = 10 #1010\n",
    "result = a&b\n",
    "print(result)"
   ]
  },
  {
   "cell_type": "code",
   "execution_count": 3,
   "id": "c82c7903-45a0-4633-9e7b-d661cb3b10cb",
   "metadata": {},
   "outputs": [
    {
     "name": "stdout",
     "output_type": "stream",
     "text": [
      "14\n"
     ]
    }
   ],
   "source": [
    "a = 12 #1100\n",
    "b = 10 #1010\n",
    "result = a|b\n",
    "print(result)"
   ]
  },
  {
   "cell_type": "code",
   "execution_count": 5,
   "id": "fedf9538-b825-421b-88f1-098f0c7ebf46",
   "metadata": {},
   "outputs": [
    {
     "name": "stdout",
     "output_type": "stream",
     "text": [
      "6\n"
     ]
    }
   ],
   "source": [
    "a = 12 #1100\n",
    "b = 10 #1010\n",
    "result = a^b\n",
    "print(result)"
   ]
  },
  {
   "cell_type": "code",
   "execution_count": 9,
   "id": "1f634202-7d8a-476a-8b57-8e17ad8db054",
   "metadata": {},
   "outputs": [
    {
     "name": "stdout",
     "output_type": "stream",
     "text": [
      "12288\n"
     ]
    }
   ],
   "source": [
    "a = 12 #1100\n",
    "b = 10 #1010\n",
    "result = a<<b\n",
    "print(result)"
   ]
  },
  {
   "cell_type": "code",
   "execution_count": 11,
   "id": "1aafbd7d-3629-45b7-b806-c426664686a2",
   "metadata": {},
   "outputs": [
    {
     "name": "stdout",
     "output_type": "stream",
     "text": [
      "0\n"
     ]
    }
   ],
   "source": [
    "a = 12 #1100\n",
    "b = 10 #1010\n",
    "result = a>>b\n",
    "print(result)"
   ]
  },
  {
   "cell_type": "code",
   "execution_count": 20,
   "id": "ea3a7997-ef3c-4616-87f4-b64b7001ff4f",
   "metadata": {},
   "outputs": [
    {
     "name": "stdout",
     "output_type": "stream",
     "text": [
      "-13\n"
     ]
    }
   ],
   "source": [
    "a = 12 #1100\n",
    "#b = 10 #1010\n",
    "result = ~a\n",
    "print(result)"
   ]
  },
  {
   "cell_type": "code",
   "execution_count": null,
   "id": "c74c8d2c-3f67-4c03-b56b-9d569408d20c",
   "metadata": {},
   "outputs": [],
   "source": [
    "#math module "
   ]
  },
  {
   "cell_type": "code",
   "execution_count": 22,
   "id": "7da414ef-133e-4742-b17d-efbde5eee54a",
   "metadata": {},
   "outputs": [],
   "source": [
    "import math"
   ]
  },
  {
   "cell_type": "code",
   "execution_count": 24,
   "id": "43726e5c-d572-47e1-933e-a5b3609ad7a6",
   "metadata": {},
   "outputs": [
    {
     "data": {
      "text/plain": [
       "4"
      ]
     },
     "execution_count": 24,
     "metadata": {},
     "output_type": "execute_result"
    }
   ],
   "source": [
    "math.ceil(3.6)"
   ]
  },
  {
   "cell_type": "code",
   "execution_count": 26,
   "id": "f0888848-d81f-429e-837a-72f662ce55e7",
   "metadata": {},
   "outputs": [
    {
     "data": {
      "text/plain": [
       "2"
      ]
     },
     "execution_count": 26,
     "metadata": {},
     "output_type": "execute_result"
    }
   ],
   "source": [
    "math.floor(2.6)"
   ]
  },
  {
   "cell_type": "code",
   "execution_count": 28,
   "id": "b28d491c-b53a-4053-9301-612c5df904c1",
   "metadata": {},
   "outputs": [
    {
     "data": {
      "text/plain": [
       "2.0"
      ]
     },
     "execution_count": 28,
     "metadata": {},
     "output_type": "execute_result"
    }
   ],
   "source": [
    "math.sqrt(4)"
   ]
  },
  {
   "cell_type": "code",
   "execution_count": 30,
   "id": "ce7d2b05-bbea-430c-82f7-1ca770f4461d",
   "metadata": {},
   "outputs": [
    {
     "data": {
      "text/plain": [
       "1.4142135623730951"
      ]
     },
     "execution_count": 30,
     "metadata": {},
     "output_type": "execute_result"
    }
   ],
   "source": [
    "math.pow(2,1/2)"
   ]
  },
  {
   "cell_type": "code",
   "execution_count": 32,
   "id": "af6b787a-5a32-4174-8fbf-96ed84394b0c",
   "metadata": {},
   "outputs": [
    {
     "data": {
      "text/plain": [
       "16.0"
      ]
     },
     "execution_count": 32,
     "metadata": {},
     "output_type": "execute_result"
    }
   ],
   "source": [
    "math.pow(2,4) #power"
   ]
  },
  {
   "cell_type": "code",
   "execution_count": 34,
   "id": "3a1b5a7f-e658-4d3e-a9d8-eaa2f90db06a",
   "metadata": {},
   "outputs": [
    {
     "data": {
      "text/plain": [
       "3.141592653589793"
      ]
     },
     "execution_count": 34,
     "metadata": {},
     "output_type": "execute_result"
    }
   ],
   "source": [
    "math.pi "
   ]
  },
  {
   "cell_type": "code",
   "execution_count": 36,
   "id": "307c6e37-92fa-4e83-8eca-7fc0e45fcbfa",
   "metadata": {},
   "outputs": [
    {
     "data": {
      "text/plain": [
       "2.718281828459045"
      ]
     },
     "execution_count": 36,
     "metadata": {},
     "output_type": "execute_result"
    }
   ],
   "source": [
    "math.e"
   ]
  },
  {
   "cell_type": "code",
   "execution_count": 38,
   "id": "eb2e0bf0-356b-43f8-8c30-478a828acbf2",
   "metadata": {},
   "outputs": [
    {
     "data": {
      "text/plain": [
       "6.283185307179586"
      ]
     },
     "execution_count": 38,
     "metadata": {},
     "output_type": "execute_result"
    }
   ],
   "source": [
    "math.tau"
   ]
  },
  {
   "cell_type": "code",
   "execution_count": 40,
   "id": "ab05d994-4698-493c-ac4b-f8e2164dd3bf",
   "metadata": {},
   "outputs": [
    {
     "data": {
      "text/plain": [
       "2"
      ]
     },
     "execution_count": 40,
     "metadata": {},
     "output_type": "execute_result"
    }
   ],
   "source": [
    "math.trunc(2.9)"
   ]
  },
  {
   "cell_type": "code",
   "execution_count": 42,
   "id": "bebca3ae-351c-4d6c-9ef1-39867bce077c",
   "metadata": {},
   "outputs": [
    {
     "data": {
      "text/plain": [
       "100"
      ]
     },
     "execution_count": 42,
     "metadata": {},
     "output_type": "execute_result"
    }
   ],
   "source": [
    "math.trunc(100.1)"
   ]
  },
  {
   "cell_type": "code",
   "execution_count": 48,
   "id": "19db9289-accc-4494-ab62-d879f35353d0",
   "metadata": {},
   "outputs": [
    {
     "data": {
      "text/plain": [
       "7.0"
      ]
     },
     "execution_count": 48,
     "metadata": {},
     "output_type": "execute_result"
    }
   ],
   "source": [
    "math.fabs(-7) #it convert the negative values into positives\n"
   ]
  },
  {
   "cell_type": "code",
   "execution_count": 50,
   "id": "e8f784c0-5aea-4fa5-af98-2f1a055b1ba8",
   "metadata": {},
   "outputs": [
    {
     "data": {
      "text/plain": [
       "7.38905609893065"
      ]
     },
     "execution_count": 50,
     "metadata": {},
     "output_type": "execute_result"
    }
   ],
   "source": [
    "math.exp(2) #exponential # e^x"
   ]
  },
  {
   "cell_type": "code",
   "execution_count": 54,
   "id": "08f8f271-4ab3-4427-8afd-8d241e711ecf",
   "metadata": {},
   "outputs": [
    {
     "data": {
      "text/plain": [
       "3.0"
      ]
     },
     "execution_count": 54,
     "metadata": {},
     "output_type": "execute_result"
    }
   ],
   "source": [
    "#math.log(x,base)\n",
    "math.log(8,2)"
   ]
  },
  {
   "cell_type": "code",
   "execution_count": 56,
   "id": "7c9962a3-b2ca-408b-95fa-425ebab9ce5e",
   "metadata": {},
   "outputs": [
    {
     "data": {
      "text/plain": [
       "120"
      ]
     },
     "execution_count": 56,
     "metadata": {},
     "output_type": "execute_result"
    }
   ],
   "source": [
    "math.factorial(5) #5*4*3*2*1"
   ]
  },
  {
   "cell_type": "code",
   "execution_count": 58,
   "id": "6f526a66-cc1e-490f-8b27-bccd64ef8532",
   "metadata": {},
   "outputs": [
    {
     "data": {
      "text/plain": [
       "12"
      ]
     },
     "execution_count": 58,
     "metadata": {},
     "output_type": "execute_result"
    }
   ],
   "source": [
    "math.gcd(36,60) #greatest common divisor"
   ]
  },
  {
   "cell_type": "code",
   "execution_count": null,
   "id": "01182e3a-2aee-4cbf-a4b1-229d9d117142",
   "metadata": {},
   "outputs": [],
   "source": [
    "#conditional statements "
   ]
  },
  {
   "cell_type": "code",
   "execution_count": 76,
   "id": "dffbb8ee-4412-4d47-9b25-9824ff8af7b7",
   "metadata": {},
   "outputs": [
    {
     "name": "stdout",
     "output_type": "stream",
     "text": [
      "Bring 1 kg of Tomatoes\n"
     ]
    }
   ],
   "source": [
    "#if\n",
    "Tomato = 15\n",
    "if Tomato <= 20:\n",
    "    print(\"Bring 1 kg of Tomatoes\")"
   ]
  },
  {
   "cell_type": "code",
   "execution_count": 82,
   "id": "c964f51c-41c8-4674-98a2-5a9fbbc4b3d8",
   "metadata": {},
   "outputs": [
    {
     "name": "stdout",
     "output_type": "stream",
     "text": [
      "bis greater than a\n"
     ]
    }
   ],
   "source": [
    "a = 33\n",
    "b = 200\n",
    "if b > a:\n",
    "    print(\"bis greater than a\") #if this conditon will false then no output will came "
   ]
  }
 ],
 "metadata": {
  "kernelspec": {
   "display_name": "Python 3 (ipykernel)",
   "language": "python",
   "name": "python3"
  },
  "language_info": {
   "codemirror_mode": {
    "name": "ipython",
    "version": 3
   },
   "file_extension": ".py",
   "mimetype": "text/x-python",
   "name": "python",
   "nbconvert_exporter": "python",
   "pygments_lexer": "ipython3",
   "version": "3.12.4"
  }
 },
 "nbformat": 4,
 "nbformat_minor": 5
}
