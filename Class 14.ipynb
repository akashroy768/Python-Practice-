{
 "cells": [
  {
   "cell_type": "code",
   "execution_count": null,
   "id": "54f4e02b-5796-4d53-a2f7-a27c2e7651b2",
   "metadata": {},
   "outputs": [],
   "source": [
    "#Butterfly pattern qsn hmwrk"
   ]
  },
  {
   "cell_type": "code",
   "execution_count": null,
   "id": "3511c840-0b8f-4b97-91a3-abf1458076aa",
   "metadata": {},
   "outputs": [],
   "source": [
    "#pascal's triangle\n"
   ]
  },
  {
   "cell_type": "code",
   "execution_count": null,
   "id": "fa90b88f-89fc-474f-a3ae-fd9e55b265a9",
   "metadata": {},
   "outputs": [],
   "source": [
    "#fibonacci series"
   ]
  },
  {
   "cell_type": "code",
   "execution_count": null,
   "id": "aef934aa-57e0-404f-9be0-b99b86b3e68e",
   "metadata": {},
   "outputs": [],
   "source": [
    "#Numpy (numerical python)\n",
    "#is a powerful library for numerical computations in python.\n",
    "#it provides support for arrays, matrices,and many mathematical functions to operate on these dsa."
   ]
  },
  {
   "cell_type": "code",
   "execution_count": 1,
   "id": "ff9a0ec4-f796-4f9f-bd05-6508d52638bc",
   "metadata": {},
   "outputs": [
    {
     "name": "stdout",
     "output_type": "stream",
     "text": [
      "0.5\n",
      "1.0\n",
      "1.5\n"
     ]
    }
   ],
   "source": [
    "x = [1,2,3]\n",
    "for i in x:\n",
    "    print(i/2)"
   ]
  },
  {
   "cell_type": "code",
   "execution_count": 13,
   "id": "554b2142-7996-4fad-9cd9-a60f4407e491",
   "metadata": {},
   "outputs": [
    {
     "name": "stdout",
     "output_type": "stream",
     "text": [
      "1.0\n",
      "2.0\n",
      "3.0\n",
      "4.0\n",
      "5.0\n"
     ]
    }
   ],
   "source": [
    "x = [2,4,6,8,10]\n",
    "for i in x:\n",
    "    print(i/2)"
   ]
  },
  {
   "cell_type": "code",
   "execution_count": 15,
   "id": "16b14817-b26f-46b6-a83c-44cf4b5ab90b",
   "metadata": {},
   "outputs": [
    {
     "ename": "TypeError",
     "evalue": "unsupported operand type(s) for /: 'list' and 'int'",
     "output_type": "error",
     "traceback": [
      "\u001b[1;31m---------------------------------------------------------------------------\u001b[0m",
      "\u001b[1;31mTypeError\u001b[0m                                 Traceback (most recent call last)",
      "Cell \u001b[1;32mIn[15], line 1\u001b[0m\n\u001b[1;32m----> 1\u001b[0m x\u001b[38;5;241m/\u001b[39m\u001b[38;5;241m2\u001b[39m\n",
      "\u001b[1;31mTypeError\u001b[0m: unsupported operand type(s) for /: 'list' and 'int'"
     ]
    }
   ],
   "source": [
    "x/2"
   ]
  },
  {
   "cell_type": "code",
   "execution_count": 17,
   "id": "6201aee9-02ca-40f0-8e23-ba3054ebfac1",
   "metadata": {},
   "outputs": [
    {
     "name": "stdout",
     "output_type": "stream",
     "text": [
      "[1 2 3]\n"
     ]
    }
   ],
   "source": [
    "import numpy as np\n",
    "x=np.array([1,2,3])\n",
    "print(x)"
   ]
  },
  {
   "cell_type": "code",
   "execution_count": 19,
   "id": "59198dda-6c1c-4e60-8bc5-c7700c86ba7d",
   "metadata": {},
   "outputs": [
    {
     "data": {
      "text/plain": [
       "array([2, 4, 6])"
      ]
     },
     "execution_count": 19,
     "metadata": {},
     "output_type": "execute_result"
    }
   ],
   "source": [
    "x*2"
   ]
  },
  {
   "cell_type": "code",
   "execution_count": null,
   "id": "f11027a2-116f-448c-ba73-10ca84bafedb",
   "metadata": {},
   "outputs": [],
   "source": [
    "#Numpy has rich set of numpy functions :\n",
    "#set1 = Random functions:"
   ]
  },
  {
   "cell_type": "code",
   "execution_count": 39,
   "id": "f0f432ad-2820-48d8-87a1-47748c5f831e",
   "metadata": {},
   "outputs": [
    {
     "data": {
      "text/plain": [
       "array([[2, 9, 3, 7],\n",
       "       [8, 8, 9, 3],\n",
       "       [4, 5, 6, 0],\n",
       "       [8, 0, 6, 8],\n",
       "       [5, 3, 3, 5]])"
      ]
     },
     "execution_count": 39,
     "metadata": {},
     "output_type": "execute_result"
    }
   ],
   "source": [
    "data=np.random.randint(0,10,(5,4))\n",
    "data"
   ]
  },
  {
   "cell_type": "code",
   "execution_count": 41,
   "id": "df6fba46-0a53-4290-97ef-ad360d6a1b92",
   "metadata": {},
   "outputs": [
    {
     "data": {
      "text/plain": [
       "array([[8, 8],\n",
       "       [4, 5],\n",
       "       [8, 0],\n",
       "       [5, 3]])"
      ]
     },
     "execution_count": 41,
     "metadata": {},
     "output_type": "execute_result"
    }
   ],
   "source": [
    "data[1: , :2]"
   ]
  },
  {
   "cell_type": "code",
   "execution_count": 43,
   "id": "3e3acbc3-e404-49a4-bb56-195fbddbec15",
   "metadata": {},
   "outputs": [
    {
     "data": {
      "text/plain": [
       "array([[5, 6, 0],\n",
       "       [0, 6, 8]])"
      ]
     },
     "execution_count": 43,
     "metadata": {},
     "output_type": "execute_result"
    }
   ],
   "source": [
    "data[2:4,1: ]"
   ]
  },
  {
   "cell_type": "code",
   "execution_count": 45,
   "id": "c99acc6e-03e1-4041-bf5d-92833cfc6a97",
   "metadata": {},
   "outputs": [
    {
     "data": {
      "text/plain": [
       "array([], shape=(0, 1), dtype=int32)"
      ]
     },
     "execution_count": 45,
     "metadata": {},
     "output_type": "execute_result"
    }
   ],
   "source": [
    "data[-2:-4,-1: ]"
   ]
  },
  {
   "cell_type": "code",
   "execution_count": 25,
   "id": "970f3128-de1a-4df3-8a26-2b91793d9bc7",
   "metadata": {},
   "outputs": [
    {
     "data": {
      "text/plain": [
       "array([4, 0, 1, 1, 4, 1])"
      ]
     },
     "execution_count": 25,
     "metadata": {},
     "output_type": "execute_result"
    }
   ],
   "source": [
    "import numpy as np\n",
    "np.random.randint(0,10,6) #randint is random integers"
   ]
  },
  {
   "cell_type": "code",
   "execution_count": 29,
   "id": "561fba03-043c-4ba6-9432-76a773c048a2",
   "metadata": {},
   "outputs": [
    {
     "data": {
      "text/plain": [
       "array([0.02562348, 0.34134861, 0.53083163, 0.01634323, 0.52301909,\n",
       "       0.95245631, 0.02880961, 0.217544  , 0.95217299, 0.51922541])"
      ]
     },
     "execution_count": 29,
     "metadata": {},
     "output_type": "execute_result"
    }
   ],
   "source": [
    "np.random.rand(10)"
   ]
  },
  {
   "cell_type": "code",
   "execution_count": 31,
   "id": "4ae4c61b-2659-4e09-928d-38efa33b447d",
   "metadata": {},
   "outputs": [
    {
     "data": {
      "text/plain": [
       "array([0.88769153, 0.03255412])"
      ]
     },
     "execution_count": 31,
     "metadata": {},
     "output_type": "execute_result"
    }
   ],
   "source": [
    "np.random.rand(2)"
   ]
  },
  {
   "cell_type": "code",
   "execution_count": 33,
   "id": "66653a76-7369-466a-a047-e08a18346766",
   "metadata": {},
   "outputs": [
    {
     "data": {
      "text/plain": [
       "array([186, 166])"
      ]
     },
     "execution_count": 33,
     "metadata": {},
     "output_type": "execute_result"
    }
   ],
   "source": [
    "np.random.randint(100,200,2)"
   ]
  },
  {
   "cell_type": "code",
   "execution_count": null,
   "id": "4dcb83ba-fc67-49f4-b97f-285b01c9b94c",
   "metadata": {},
   "outputs": [],
   "source": [
    "#Numpy slicing\n"
   ]
  },
  {
   "cell_type": "code",
   "execution_count": 47,
   "id": "5e8514cc-59c2-4560-8b99-eb20572877df",
   "metadata": {},
   "outputs": [
    {
     "name": "stdout",
     "output_type": "stream",
     "text": [
      "[2 3 4]\n"
     ]
    }
   ],
   "source": [
    "#1D array\n",
    "a = np.array([2,3,4])\n",
    "print(a)"
   ]
  },
  {
   "cell_type": "code",
   "execution_count": 49,
   "id": "41b52ec4-c924-44cc-8258-75505e2242b4",
   "metadata": {},
   "outputs": [
    {
     "name": "stdout",
     "output_type": "stream",
     "text": [
      "[[ 2  4  6]\n",
      " [ 8 10 12]\n",
      " [ 5  6  7]]\n"
     ]
    }
   ],
   "source": [
    "#2D array\n",
    "b = np.array([[2,4,6],[8,10,12],[5,6,7]])\n",
    "print(b)"
   ]
  }
 ],
 "metadata": {
  "kernelspec": {
   "display_name": "Python 3 (ipykernel)",
   "language": "python",
   "name": "python3"
  },
  "language_info": {
   "codemirror_mode": {
    "name": "ipython",
    "version": 3
   },
   "file_extension": ".py",
   "mimetype": "text/x-python",
   "name": "python",
   "nbconvert_exporter": "python",
   "pygments_lexer": "ipython3",
   "version": "3.12.4"
  }
 },
 "nbformat": 4,
 "nbformat_minor": 5
}
