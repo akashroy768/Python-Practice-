{
 "cells": [
  {
   "cell_type": "code",
   "execution_count": null,
   "id": "3584bc27-a20e-40b9-982d-d43d75137d04",
   "metadata": {},
   "outputs": [],
   "source": [
    "#while loop "
   ]
  },
  {
   "cell_type": "code",
   "execution_count": 1,
   "id": "c3dd3a17-f595-4fac-bc80-6727ed70e4a4",
   "metadata": {},
   "outputs": [
    {
     "name": "stdout",
     "output_type": "stream",
     "text": [
      "15\n",
      "17\n",
      "19\n",
      "21\n",
      "23\n",
      "25\n",
      "27\n",
      "29\n"
     ]
    }
   ],
   "source": [
    "count = 15\n",
    "\n",
    "while count <= 30: #condition\n",
    "    print(count)\n",
    "    count += 2 #1,2,3,4\n"
   ]
  },
  {
   "cell_type": "code",
   "execution_count": 1,
   "id": "b78f29dc-57eb-465d-ba88-138480247c53",
   "metadata": {},
   "outputs": [
    {
     "name": "stdout",
     "output_type": "stream",
     "text": [
      "0\n",
      "2\n",
      "4\n",
      "6\n",
      "8\n",
      "10\n",
      "12\n",
      "14\n",
      "16\n",
      "18\n",
      "20\n",
      "22\n",
      "24\n",
      "26\n",
      "28\n",
      "30\n",
      "32\n",
      "34\n",
      "36\n",
      "38\n",
      "40\n",
      "42\n",
      "44\n",
      "46\n",
      "48\n",
      "50\n",
      "52\n",
      "54\n",
      "56\n",
      "58\n",
      "60\n",
      "62\n",
      "64\n",
      "66\n",
      "68\n",
      "70\n",
      "72\n",
      "74\n",
      "76\n",
      "78\n",
      "80\n",
      "82\n",
      "84\n",
      "86\n",
      "88\n",
      "90\n",
      "92\n",
      "94\n",
      "96\n",
      "98\n",
      "100\n"
     ]
    }
   ],
   "source": [
    "count = 0 \n",
    "\n",
    "while count <= 100:\n",
    "    print(count)\n",
    "    count+=2"
   ]
  },
  {
   "cell_type": "code",
   "execution_count": 3,
   "id": "67821e7e-7e4c-4c0f-ac82-be46eb781e51",
   "metadata": {},
   "outputs": [
    {
     "name": "stdout",
     "output_type": "stream",
     "text": [
      "Iteration 1 2\n",
      "Iteration 2 3\n",
      "Iteration 3 4\n"
     ]
    }
   ],
   "source": [
    "x = 2\n",
    "counter=1\n",
    "\n",
    "while x<5:\n",
    "    print(\"Iteration\",counter,x)\n",
    "    counter=counter+1\n",
    "    x=x+1\n",
    "    "
   ]
  },
  {
   "cell_type": "code",
   "execution_count": 5,
   "id": "2be7ef2d-a40e-4485-87ef-76f43f796047",
   "metadata": {},
   "outputs": [
    {
     "name": "stdout",
     "output_type": "stream",
     "text": [
      "*\n",
      "**\n",
      "***\n",
      "****\n",
      "*****\n"
     ]
    }
   ],
   "source": [
    "x = 1\n",
    "while x<6:\n",
    "  print(x*\"*\")\n",
    "  x+=1"
   ]
  },
  {
   "cell_type": "code",
   "execution_count": 20,
   "id": "db1e500a-105f-4bec-bfd5-4934ec964c81",
   "metadata": {},
   "outputs": [
    {
     "name": "stdout",
     "output_type": "stream",
     "text": [
      "    *\n",
      "   **\n",
      "  ***\n",
      " ****\n",
      "*****\n"
     ]
    }
   ],
   "source": [
    "x = 1\n",
    "while x<6:\n",
    "    print((5-x)*\" \"+x*\"*\")\n",
    "    x+=1"
   ]
  },
  {
   "cell_type": "code",
   "execution_count": 22,
   "id": "9735451a-6929-413d-af1e-ddaeb8a94e78",
   "metadata": {},
   "outputs": [],
   "source": [
    "#loop control statements"
   ]
  },
  {
   "cell_type": "code",
   "execution_count": 11,
   "id": "a20a61d8-34b6-42bc-be8e-53e0ca892f3a",
   "metadata": {},
   "outputs": [
    {
     "name": "stdout",
     "output_type": "stream",
     "text": [
      "10\n"
     ]
    }
   ],
   "source": [
    "for i in range(1,100): #range (10) = 1-99\n",
    "    if i==10:\n",
    "        print(i)\n",
    "        break\n",
    "        "
   ]
  },
  {
   "cell_type": "code",
   "execution_count": 24,
   "id": "0749f78e-1e0a-49ef-9da5-aa5943bec076",
   "metadata": {},
   "outputs": [
    {
     "name": "stdout",
     "output_type": "stream",
     "text": [
      "1\n",
      "2\n",
      "3\n",
      "4\n",
      "5\n",
      "6\n",
      "7\n",
      "8\n",
      "9\n"
     ]
    }
   ],
   "source": [
    "for number in range(1,100):\n",
    "    if number == 10:\n",
    "        break\n",
    "    print(number)"
   ]
  },
  {
   "cell_type": "code",
   "execution_count": 26,
   "id": "f32c8c31-002c-4936-861b-766617f694f7",
   "metadata": {},
   "outputs": [
    {
     "name": "stdout",
     "output_type": "stream",
     "text": [
      "1\n",
      "2\n",
      "3\n",
      "4\n",
      "5\n",
      "6\n",
      "7\n",
      "8\n",
      "9\n",
      "10\n"
     ]
    }
   ],
   "source": [
    "for number in range(1,100):\n",
    "    print(number)\n",
    "    if number == 10:\n",
    "        break"
   ]
  },
  {
   "cell_type": "code",
   "execution_count": 28,
   "id": "4629933d-d45e-4c5c-a89d-2457fcac924b",
   "metadata": {},
   "outputs": [
    {
     "name": "stdout",
     "output_type": "stream",
     "text": [
      "0,1,2,3,4,6,7,8,9,"
     ]
    }
   ],
   "source": [
    "for i in range(0,10):\n",
    "  if i==5:\n",
    "      continue\n",
    "  print(i,end=\",\")"
   ]
  },
  {
   "cell_type": "code",
   "execution_count": 30,
   "id": "6e61872c-df99-4e64-a24c-0a5bf7a01b2b",
   "metadata": {},
   "outputs": [
    {
     "name": "stdout",
     "output_type": "stream",
     "text": [
      "0\t2\t4\t6\t8\t"
     ]
    }
   ],
   "source": [
    "for number in range(10):\n",
    "    if number %2 ==1:\n",
    "        continue\n",
    "    print(number,end=\"\\t\")"
   ]
  },
  {
   "cell_type": "code",
   "execution_count": 32,
   "id": "fdb47ac5-ffbe-4bd5-9881-67804a870c5a",
   "metadata": {},
   "outputs": [
    {
     "name": "stdout",
     "output_type": "stream",
     "text": [
      "5,6,7,8,9,"
     ]
    }
   ],
   "source": [
    "for i in range (0,10):\n",
    "    if i<5:\n",
    "        continue\n",
    "        print(i,end=\",\")\n",
    "    else:\n",
    "        print(i,end=',')"
   ]
  },
  {
   "cell_type": "code",
   "execution_count": null,
   "id": "4666f343-dc8a-4ab3-88d5-cea9e7eefb14",
   "metadata": {},
   "outputs": [],
   "source": [
    "#nested for loops"
   ]
  },
  {
   "cell_type": "code",
   "execution_count": null,
   "id": "9c935a2d-1209-420e-9760-a360d2cd52a8",
   "metadata": {},
   "outputs": [],
   "source": []
  }
 ],
 "metadata": {
  "kernelspec": {
   "display_name": "Python 3 (ipykernel)",
   "language": "python",
   "name": "python3"
  },
  "language_info": {
   "codemirror_mode": {
    "name": "ipython",
    "version": 3
   },
   "file_extension": ".py",
   "mimetype": "text/x-python",
   "name": "python",
   "nbconvert_exporter": "python",
   "pygments_lexer": "ipython3",
   "version": "3.12.4"
  }
 },
 "nbformat": 4,
 "nbformat_minor": 5
}
