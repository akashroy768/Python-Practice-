{
 "cells": [
  {
   "cell_type": "code",
   "execution_count": null,
   "id": "d3e0e10a-80e2-4018-8337-faf2b6947190",
   "metadata": {},
   "outputs": [],
   "source": [
    "#DSA"
   ]
  },
  {
   "cell_type": "code",
   "execution_count": null,
   "id": "10f54fe2-8b0e-4ebe-a34b-e19f8812eed9",
   "metadata": {},
   "outputs": [],
   "source": [
    "# 1. Deque"
   ]
  },
  {
   "cell_type": "code",
   "execution_count": 3,
   "id": "0feceb47-7e44-46ea-bd97-bf4a1d646988",
   "metadata": {},
   "outputs": [
    {
     "name": "stdout",
     "output_type": "stream",
     "text": [
      "deque([2, 1])\n",
      "deque([])\n",
      "deque([1, 2, 3])\n",
      "deque([4, 5, 6, 1, 2, 3])\n"
     ]
    }
   ],
   "source": [
    "from collections import deque\n",
    "\n",
    "#create a deque\n",
    "\n",
    "d= deque()\n",
    "\n",
    "#Add elements to the deque\n",
    "d.append(1)              #Adds 1 to the right end [1]\n",
    "d.appendleft(2)          #Adds 2 to the left end [2,1]\n",
    "print(d)                 #Output: deque([2,1])\n",
    "\n",
    "#Remove elements from the deque\n",
    "d.pop()                 # Removes from the right end \n",
    "d.popleft()             #Removes from the left end \n",
    "print(d)                #Output:deque([])\n",
    "d.extend([1,2,3])\n",
    "print(d)\n",
    "d.extendleft([6,5,4])\n",
    "print(d)"
   ]
  },
  {
   "cell_type": "code",
   "execution_count": 5,
   "id": "da0df589-da13-48df-8efd-a1f7aa4d03e3",
   "metadata": {},
   "outputs": [
    {
     "name": "stdout",
     "output_type": "stream",
     "text": [
      "john doe\n",
      "30\n",
      "New york\n"
     ]
    }
   ],
   "source": [
    "# 2.named tuple // advanced dsa\n",
    "\n",
    "from collections import namedtuple\n",
    "\n",
    "person = namedtuple('person',['name','age','city'])\n",
    "\n",
    "person1 = person(name = 'john doe',age=30, city='New york')\n",
    "\n",
    "print(person1.name)\n",
    "print(person1.age)\n",
    "print(person1.city)"
   ]
  },
  {
   "cell_type": "code",
   "execution_count": 7,
   "id": "0df3fcf2-5539-4dd4-bd52-e078e1b5c649",
   "metadata": {},
   "outputs": [
    {
     "name": "stdout",
     "output_type": "stream",
     "text": [
      "1\n",
      "2\n",
      "4\n",
      "3\n"
     ]
    }
   ],
   "source": [
    "# 3. chain map\n",
    "\n",
    "from collections import ChainMap\n",
    "dict1 = {'a':1, 'b':2}\n",
    "dict2 = {'b':3, 'c':4}\n",
    "\n",
    "combined = ChainMap(dict1, dict2)\n",
    "\n",
    "print(combined['a'])\n",
    "print(combined['b'])\n",
    "print(combined['c'])\n",
    "print(combined.maps[1]['b'])"
   ]
  },
  {
   "cell_type": "code",
   "execution_count": null,
   "id": "8bd51203-258d-4c78-95d5-6fabcbe2011c",
   "metadata": {},
   "outputs": [],
   "source": [
    "from collections import ChainMap\n",
    "dict1 = {'a':1, 'b':2,'c':3}\n",
    "dict2 = {'b':3, 'c':4,'e':6}\n",
    "\n",
    "combined = ChainMap(dict1, dict2)\n",
    "\n",
    "print(\"Combined ChainMap\n",
    "print(combined['a'])\n",
    "print(combined['b'])\n",
    "print(combined['c'])\n",
    "print(combined.maps[1]['b'])"
   ]
  },
  {
   "cell_type": "code",
   "execution_count": null,
   "id": "40f695ab-cb7b-4b61-ab72-6679a0a1a70d",
   "metadata": {},
   "outputs": [],
   "source": [
    "#counter\n"
   ]
  },
  {
   "cell_type": "code",
   "execution_count": 9,
   "id": "502bb7cb-ad81-43ce-8d45-633695eff757",
   "metadata": {},
   "outputs": [
    {
     "name": "stdout",
     "output_type": "stream",
     "text": [
      "Counter({'apple': 3, 'banana': 2, 'orange': 1})\n",
      "3\n",
      "2\n"
     ]
    }
   ],
   "source": [
    "from collections import Counter\n",
    "\n",
    "fruits = ['apple','banana','apple','orange','banana','apple']\n",
    "counter = Counter(fruits)\n",
    "\n",
    "print(counter)\n",
    "\n",
    "print(counter['apple'])\n",
    "print(counter['banana'])"
   ]
  },
  {
   "cell_type": "code",
   "execution_count": 15,
   "id": "6308b1d1-8a1e-49db-b301-6031a49d2151",
   "metadata": {},
   "outputs": [
    {
     "name": "stdout",
     "output_type": "stream",
     "text": [
      "Counter({1: 4, 5: 4, 8: 4, 2: 3, 4: 2, 6: 2, 9: 2, 3: 2, 'STRING': 1, 7: 1})\n",
      "2\n",
      "1\n"
     ]
    }
   ],
   "source": [
    "from collections import Counter\n",
    "\n",
    "a=[1,2,'STRING',4,1,2,5,6,8,9,6,2,5,1,8,9,4,3,7,5,8,8,3,1,5]\n",
    "counter = Counter(a)\n",
    "print(counter)\n",
    "print(counter[4])\n",
    "print(counter['STRING'])"
   ]
  },
  {
   "cell_type": "code",
   "execution_count": 17,
   "id": "2c57426b-a8db-4bed-b299-3b8589661314",
   "metadata": {},
   "outputs": [
    {
     "name": "stdout",
     "output_type": "stream",
     "text": [
      "Counter({'is': 2, 'Python': 1, 'great': 1, 'language': 1, 'and': 1, 'easy': 1, 'to': 1, 'learn': 1, 'also': 1, 'python': 1, 'a': 1, 'powerful': 1, 'amongst': 1, 'all': 1})\n",
      "Counter({' ': 14, 'a': 10, 'o': 6, 'n': 6, 'l': 6, 't': 5, 's': 5, 'e': 5, 'g': 4, 'y': 3, 'r': 3, 'h': 2, 'i': 2, 'u': 2, 'p': 2, 'P': 1, 'd': 1, 'w': 1, 'f': 1, 'm': 1})\n"
     ]
    }
   ],
   "source": [
    "from collections import Counter\n",
    "\n",
    "sentence = \"Python is great language and easy to learn also python is a powerful amongst all\"\n",
    "counter = Counter(sentence)\n",
    "words = sentence.split()\n",
    "word_count = Counter(words)\n",
    "print(word_count)\n",
    "print(counter)"
   ]
  },
  {
   "cell_type": "code",
   "execution_count": null,
   "id": "65fa52a4-e9ac-4a7b-8a8b-e372f59501dc",
   "metadata": {},
   "outputs": [],
   "source": [
    "#OrderedDict"
   ]
  },
  {
   "cell_type": "code",
   "execution_count": 21,
   "id": "c7aa30e8-6286-4f42-a936-efe501f5abb7",
   "metadata": {},
   "outputs": [
    {
     "name": "stdout",
     "output_type": "stream",
     "text": [
      "OrderedDict({'a': 5, 'b': 7, 'c': 3, 'd': 4, 'e': 'word'})\n",
      "word\n",
      "7\n"
     ]
    }
   ],
   "source": [
    "from collections import OrderedDict\n",
    "\n",
    "od = OrderedDict()\n",
    "od['a'] = 5\n",
    "od['b'] = 7\n",
    "od['c'] = 3\n",
    "od['d'] = 4\n",
    "od['e'] = 'word'\n",
    "\n",
    "print(od)\n",
    "print(od['e'])\n",
    "print(od['b'])"
   ]
  },
  {
   "cell_type": "code",
   "execution_count": null,
   "id": "d6d64db6-e0f7-4304-a0e2-1ffc8d39ff6f",
   "metadata": {},
   "outputs": [],
   "source": [
    "#DefaultDict"
   ]
  },
  {
   "cell_type": "code",
   "execution_count": 23,
   "id": "c1a63507-2e5f-4389-a2e2-4d4a351aba88",
   "metadata": {},
   "outputs": [
    {
     "name": "stdout",
     "output_type": "stream",
     "text": [
      "0\n",
      "defaultdict(<class 'int'>, {'python': 1, 'Java': 2, 'SQL': 0})\n",
      "0\n",
      "defaultdict(<class 'int'>, {'python': 1, 'Java': 2, 'SQL': 0, 'Power BI': 0})\n"
     ]
    }
   ],
   "source": [
    "from collections import defaultdict\n",
    "D = defaultdict(int)\n",
    "D['python'] = 1\n",
    "D['Java'] = 2\n",
    "print (D['SQL'])\n",
    "print(D)\n",
    "print(D['Power BI'])\n",
    "print(D)"
   ]
  },
  {
   "cell_type": "code",
   "execution_count": null,
   "id": "b0eaa27c-637d-4a73-ae09-5c466f3df1a7",
   "metadata": {},
   "outputs": [],
   "source": []
  }
 ],
 "metadata": {
  "kernelspec": {
   "display_name": "Python 3 (ipykernel)",
   "language": "python",
   "name": "python3"
  },
  "language_info": {
   "codemirror_mode": {
    "name": "ipython",
    "version": 3
   },
   "file_extension": ".py",
   "mimetype": "text/x-python",
   "name": "python",
   "nbconvert_exporter": "python",
   "pygments_lexer": "ipython3",
   "version": "3.12.4"
  }
 },
 "nbformat": 4,
 "nbformat_minor": 5
}
