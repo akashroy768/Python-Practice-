{
 "cells": [
  {
   "cell_type": "code",
   "execution_count": 3,
   "id": "71830325-a2a7-419b-8d16-23a0872a7303",
   "metadata": {},
   "outputs": [],
   "source": [
    "x = 10\n",
    "if x < 10 :\n",
    "    print(\"Data Science\")"
   ]
  },
  {
   "cell_type": "code",
   "execution_count": 7,
   "id": "ec54f51f-d0ee-4126-ba6f-58666bcb0f44",
   "metadata": {},
   "outputs": [
    {
     "name": "stdout",
     "output_type": "stream",
     "text": [
      "Data Science\n"
     ]
    }
   ],
   "source": [
    "\n",
    "if True:\n",
    "     print(\"Data Science\")"
   ]
  },
  {
   "cell_type": "code",
   "execution_count": 9,
   "id": "91c9d428-866a-4b8e-9510-df4bb1559525",
   "metadata": {},
   "outputs": [],
   "source": [
    "if 0:\n",
    "    print(\"Data Science\") #bcoz 0 is false"
   ]
  },
  {
   "cell_type": "code",
   "execution_count": 11,
   "id": "d0046288-7eaa-45c3-8658-e806d789d996",
   "metadata": {},
   "outputs": [
    {
     "name": "stdout",
     "output_type": "stream",
     "text": [
      "Data science\n"
     ]
    }
   ],
   "source": [
    "if 1 :\n",
    "    print(\"Data science\")"
   ]
  },
  {
   "cell_type": "code",
   "execution_count": 13,
   "id": "3ed7b28b-f1ae-45a5-8b0a-8a90aafa0d04",
   "metadata": {},
   "outputs": [
    {
     "name": "stdout",
     "output_type": "stream",
     "text": [
      "data science\n"
     ]
    }
   ],
   "source": [
    "x = 10\n",
    "if x%2 == 0:\n",
    "    print(\"data science\")"
   ]
  },
  {
   "cell_type": "code",
   "execution_count": 15,
   "id": "e821e6a0-3637-425c-9fb4-7fcb652e508b",
   "metadata": {},
   "outputs": [
    {
     "name": "stdout",
     "output_type": "stream",
     "text": [
      "data science\n"
     ]
    }
   ],
   "source": [
    "x = 10\n",
    "if x//2 == 5:\n",
    "    print(\"data science\") "
   ]
  },
  {
   "cell_type": "code",
   "execution_count": 19,
   "id": "bc468e85-d1e5-4b8c-8004-29744169b933",
   "metadata": {},
   "outputs": [
    {
     "name": "stdin",
     "output_type": "stream",
     "text": [
      " 15\n"
     ]
    }
   ],
   "source": [
    "x = int(input())\n",
    "if (not(x%2==0) and (x<10)):\n",
    "    print(\"data science\")"
   ]
  },
  {
   "cell_type": "code",
   "execution_count": 21,
   "id": "4ddab675-d30e-467a-8d16-4537693b8ee3",
   "metadata": {},
   "outputs": [
    {
     "name": "stdin",
     "output_type": "stream",
     "text": [
      " 15\n"
     ]
    },
    {
     "name": "stdout",
     "output_type": "stream",
     "text": [
      "y is not less than 10 \n"
     ]
    }
   ],
   "source": [
    "y = int(input())\n",
    "if not (y<10):\n",
    "    print(\"y is not less than 10 \") #not will reverse the statements "
   ]
  },
  {
   "cell_type": "code",
   "execution_count": null,
   "id": "a8b36e0d-af36-49a3-8b74-dc45bcca1c07",
   "metadata": {},
   "outputs": [],
   "source": [
    "#if else"
   ]
  },
  {
   "cell_type": "code",
   "execution_count": 23,
   "id": "c3365554-335f-4b08-bcdd-4d93433577ea",
   "metadata": {},
   "outputs": [
    {
     "name": "stdout",
     "output_type": "stream",
     "text": [
      "x is smaller then 5\n"
     ]
    }
   ],
   "source": [
    "x = 3\n",
    "if x > 5:\n",
    "    print(\"x is greater than 5\")\n",
    "else:\n",
    "    print(\"x is smaller then 5\")"
   ]
  },
  {
   "cell_type": "code",
   "execution_count": 25,
   "id": "7c057570-133a-4954-b909-5895309609bd",
   "metadata": {},
   "outputs": [
    {
     "name": "stdin",
     "output_type": "stream",
     "text": [
      "Tomatos cost per kg:\n",
      " 60\n"
     ]
    },
    {
     "name": "stdout",
     "output_type": "stream",
     "text": [
      "Bring 1/2 kg of tomatos\n"
     ]
    }
   ],
   "source": [
    "Tomato = int(input(\"Tomatos cost per kg:\\n\"))\n",
    "if Tomato < 40 :\n",
    "    print(\"Bring 5 kg of tomatos\")\n",
    "elif Tomato <= 50:\n",
    "    print(\"Bring 2 kgs of tomatos\")\n",
    "else:\n",
    "    print(\"Bring 1/2 kg of tomatos\")\n",
    "        "
   ]
  },
  {
   "cell_type": "code",
   "execution_count": 27,
   "id": "62731ee7-3ce5-4001-870e-fe96ba61665e",
   "metadata": {},
   "outputs": [
    {
     "name": "stdout",
     "output_type": "stream",
     "text": [
      "Science\n"
     ]
    }
   ],
   "source": [
    "x = \"Data Science\"\n",
    "if \"dxt\" in x:\n",
    "    print(\"Data\")\n",
    "else:\n",
    "    print(\"Science\")"
   ]
  },
  {
   "cell_type": "code",
   "execution_count": 59,
   "id": "3175741b-e898-4bb3-bf22-6e44423e2333",
   "metadata": {},
   "outputs": [
    {
     "name": "stdin",
     "output_type": "stream",
     "text": [
      " 15\n"
     ]
    },
    {
     "name": "stdout",
     "output_type": "stream",
     "text": [
      "allowed with guardian\n"
     ]
    }
   ],
   "source": [
    "age = int(input())\n",
    "has_permission=True\n",
    "if age>=18:\n",
    "     if has_permission:\n",
    "         print(\"allowed\")\n",
    "     else:\n",
    "         print(\"not allowed\")\n",
    "else:\n",
    "     if age>=13:\n",
    "         print(\"allowed with guardian\")\n",
    "     else:\n",
    "         print(\"you are not allowed\")\n",
    "  "
   ]
  },
  {
   "cell_type": "code",
   "execution_count": 61,
   "id": "c37a5a0c-9b4d-4e4f-b675-6b9379418674",
   "metadata": {},
   "outputs": [
    {
     "name": "stdin",
     "output_type": "stream",
     "text": [
      "enter marks: 98\n"
     ]
    },
    {
     "name": "stdout",
     "output_type": "stream",
     "text": [
      "Not given \n"
     ]
    }
   ],
   "source": [
    "marks = int(input(\"enter marks:\"))\n",
    "if marks < 35:\n",
    "    print(\"fail\")\n",
    "elif marks >= 35 and marks < 50:\n",
    "    print(\"Grade D\")\n",
    "elif marks >=50 and marks < 75:\n",
    "    print(\"G E\")\n",
    "elif marks >=75 and marks <95:\n",
    "    print(\"A\")\n",
    "else:\n",
    "    print(\"Not given \")"
   ]
  }
 ],
 "metadata": {
  "kernelspec": {
   "display_name": "Python 3 (ipykernel)",
   "language": "python",
   "name": "python3"
  },
  "language_info": {
   "codemirror_mode": {
    "name": "ipython",
    "version": 3
   },
   "file_extension": ".py",
   "mimetype": "text/x-python",
   "name": "python",
   "nbconvert_exporter": "python",
   "pygments_lexer": "ipython3",
   "version": "3.12.4"
  }
 },
 "nbformat": 4,
 "nbformat_minor": 5
}
