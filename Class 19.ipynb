{
 "cells": [
  {
   "cell_type": "code",
   "execution_count": 19,
   "id": "ab7df070-2db4-4185-b480-023602867990",
   "metadata": {},
   "outputs": [
    {
     "name": "stdout",
     "output_type": "stream",
     "text": [
      "array('B', [1, 25, 3, 4, 5, 41, 5, 41, 5])\n"
     ]
    }
   ],
   "source": [
    "#Arrays:\n",
    "import array as arr\n",
    "arr = arr.array('B',[1,25,3,4,5,41,5,41,5])\n",
    "print(arr)"
   ]
  },
  {
   "cell_type": "code",
   "execution_count": 15,
   "id": "af0e276c-8752-4154-b6dd-9e7141d1602c",
   "metadata": {},
   "outputs": [],
   "source": [
    "import numpy as np"
   ]
  },
  {
   "cell_type": "code",
   "execution_count": 1,
   "id": "645e0de0-bdd0-4038-bdf9-4c9dc0484257",
   "metadata": {},
   "outputs": [
    {
     "name": "stdout",
     "output_type": "stream",
     "text": [
      "array('u', 'Hello')\n"
     ]
    }
   ],
   "source": [
    "import array as arr\n",
    "arr = arr.array('u',['H','e','l','l','o'])\n",
    "print(arr)"
   ]
  },
  {
   "cell_type": "code",
   "execution_count": 5,
   "id": "d21cf0f2-b987-4d88-a577-86aae73bc2c5",
   "metadata": {},
   "outputs": [
    {
     "name": "stdout",
     "output_type": "stream",
     "text": [
      "array('i', [1, 2, 3, 4, 5, 6, 26, 5])\n",
      "array('i', [1, 2, 3, 4, 5, 6, 26, 5, 8])\n"
     ]
    }
   ],
   "source": [
    "#1.append()\n",
    "import array as arr\n",
    "arr = arr.array('i',[1,2,3,4,5,6,26,5])\n",
    "print(arr)\n",
    "arr.append(8)\n",
    "print(arr)"
   ]
  },
  {
   "cell_type": "code",
   "execution_count": 23,
   "id": "ecf1da77-8de8-4ed2-82c4-5737a3e488ba",
   "metadata": {},
   "outputs": [
    {
     "name": "stdout",
     "output_type": "stream",
     "text": [
      "array('B', [1, 25, 3, 4, 5, 41, 5, 41, 5])\n",
      "array('B', [1, 25, 3, 4, 5, 41, 5, 41, 5, 12, 14, 14])\n"
     ]
    }
   ],
   "source": [
    "#2.extend()\n",
    "#arr = arr.array('i',[1,2,3,4,5,6,26,5])\n",
    "print(arr)\n",
    "arr.extend([12,14,14])\n",
    "print(arr)"
   ]
  },
  {
   "cell_type": "code",
   "execution_count": 27,
   "id": "829dd2d1-da51-42a0-b992-97b51f0933c5",
   "metadata": {},
   "outputs": [
    {
     "name": "stdout",
     "output_type": "stream",
     "text": [
      "array('i', [1, 2, 3, 4, 5, 6, 26, 5])\n",
      "array('i', [1, 2, 3, 4, 24, 5, 6, 26, 5])\n",
      "array('i', [0, 1, 2, 3, 4, 24, 5, 6, 26, 5])\n"
     ]
    }
   ],
   "source": [
    "import array as arr\n",
    "arr = arr.array('i',[1,2,3,4,5,6,26,5])\n",
    "print(arr)\n",
    "arr.insert(4,24)\n",
    "print(arr)\n",
    "arr.insert(0,0)\n",
    "print(arr)"
   ]
  },
  {
   "cell_type": "code",
   "execution_count": 31,
   "id": "c2e8c827-3c23-4015-8017-00083cd7cded",
   "metadata": {},
   "outputs": [
    {
     "name": "stdout",
     "output_type": "stream",
     "text": [
      "array('i', [0, 10, 10, 1, 2, 3, 4, 24, 5, 6, 26, 5])\n"
     ]
    }
   ],
   "source": [
    "arr.insert(1,10)\n",
    "print(arr)"
   ]
  },
  {
   "cell_type": "code",
   "execution_count": 39,
   "id": "d70e9ad2-3970-4b22-83f2-fb6a80823396",
   "metadata": {},
   "outputs": [
    {
     "name": "stdout",
     "output_type": "stream",
     "text": [
      "array('i', [1, 2, 3, 4, 5, 6, 26, 5])\n",
      "array('i', [1, 2, 3, 4, 5, 6, 26])\n",
      "array('i', [1, 2, 4, 5, 6, 26])\n"
     ]
    }
   ],
   "source": [
    "#4.pop\n",
    "import array as arr\n",
    "arr = arr.array('i',[1,2,3,4,5,6,26,5])\n",
    "print(arr)\n",
    "arr.pop()\n",
    "print(arr)\n",
    "arr.pop(2)\n",
    "print(arr)\n"
   ]
  },
  {
   "cell_type": "code",
   "execution_count": 45,
   "id": "f8688593-e6a7-4ea4-bf37-1c5d1c8649d8",
   "metadata": {},
   "outputs": [
    {
     "name": "stdout",
     "output_type": "stream",
     "text": [
      "array('i', [1, 2, 3, 4, 5, 6, 26, 5])\n",
      "array('i', [1, 2, 3, 4, 6, 26, 5])\n",
      "array('i', [1, 2, 3, 5, 4, 6, 26, 5])\n"
     ]
    }
   ],
   "source": [
    "#5.remove()\n",
    "import array as arr\n",
    "arr=arr.array('i',[1,2,3,4,5,6,26,5])\n",
    "print(arr)\n",
    "arr.remove(5)\n",
    "print(arr)\n",
    "arr.insert(3,5)\n",
    "print(arr)"
   ]
  },
  {
   "cell_type": "code",
   "execution_count": 57,
   "id": "943661c1-ea2e-41a8-b136-56c3af3f87eb",
   "metadata": {},
   "outputs": [
    {
     "name": "stdout",
     "output_type": "stream",
     "text": [
      "Original array: array('i', [1, 2, 3, 4, 5, 6, 26, 5])\n",
      "Array after removing second occurence of 5: array('i', [1, 2, 3, 4, 5, 6, 26])\n"
     ]
    }
   ],
   "source": [
    "#How to find the 2nd occurance\n",
    "import array as arr\n",
    "x = arr.array('i',[1,2,3,4,5,6,26,5])\n",
    "print(\"Original array:\",x)\n",
    "\n",
    "#create a function to remove the 2nd occurance of a value\n",
    "def remove_second_occurence(array,value):\n",
    "    count = 0\n",
    "    for elements in range(len(x)):\n",
    "        if array[elements]== value:\n",
    "            count+= 1\n",
    "            if count == 2:\n",
    "                array.pop(elements)\n",
    "                break\n",
    "\n",
    "#Remove  the second occurence of 5\n",
    "remove_second_occurence(x,5)\n",
    "print(\"Array after removing second occurence of 5:\",x)\n",
    "                "
   ]
  },
  {
   "cell_type": "code",
   "execution_count": 64,
   "id": "a136f0f3-cf4a-444f-81bd-7e7be8ad28d3",
   "metadata": {},
   "outputs": [
    {
     "name": "stdout",
     "output_type": "stream",
     "text": [
      "Original array: array('i', [1, 2, 3, 4, 5, 6, 26, 5, 4, 4, 4])\n",
      "2\n"
     ]
    }
   ],
   "source": [
    "#7.count()\n",
    "import array as arr\n",
    "arr = arr.array('i',[1,2,3,4,5,6,26,5,4,4,4])\n",
    "print(\"Original array:\",arr)\n",
    "\n",
    "print(arr.count(5))"
   ]
  },
  {
   "cell_type": "code",
   "execution_count": 66,
   "id": "2629af0d-aaa0-4df2-9402-fa322bf05851",
   "metadata": {},
   "outputs": [
    {
     "name": "stdout",
     "output_type": "stream",
     "text": [
      "Original array: array('i', [1, 2, 3, 4, 5, 6, 26, 5])\n",
      "Reversed array: array('i', [5, 26, 6, 5, 4, 3, 2, 1])\n",
      "None\n"
     ]
    }
   ],
   "source": [
    "#8.reverse()\n",
    "import array as arr\n",
    "\n",
    "arr = arr.array('i',[1,2,3,4,5,6,26,5])\n",
    "print(\"Original array:\",arr)\n",
    "arr.reverse()\n",
    "print(\"Reversed array:\",arr)\n",
    "print(arr.reverse())\n"
   ]
  },
  {
   "cell_type": "code",
   "execution_count": 68,
   "id": "0c9a7c1e-0c2b-4428-baa5-4bf181b4d96b",
   "metadata": {},
   "outputs": [
    {
     "name": "stdout",
     "output_type": "stream",
     "text": [
      "2\n"
     ]
    }
   ],
   "source": [
    "print(x.count(5))"
   ]
  },
  {
   "cell_type": "code",
   "execution_count": 71,
   "id": "fa07ec87-bd34-4ee8-847d-e137b92ff363",
   "metadata": {},
   "outputs": [
    {
     "name": "stdout",
     "output_type": "stream",
     "text": [
      "Original array: array('i', [1, 2, 3, 4, 5, 6, 26, 5])\n",
      "(1726501303696, 8)\n"
     ]
    }
   ],
   "source": [
    "#9. buffer_info()\n",
    "\n",
    "import array as arr\n",
    "\n",
    "arr=arr.array('i',[1,2,3,4,5,6,26,5])\n",
    "print(\"Original array:\",arr)\n",
    "\n",
    "print(arr.buffer_info())"
   ]
  },
  {
   "cell_type": "code",
   "execution_count": null,
   "id": "19d52636-98cf-4179-b723-35e81488c808",
   "metadata": {},
   "outputs": [],
   "source": []
  },
  {
   "cell_type": "code",
   "execution_count": 78,
   "id": "23e17c61-2e6e-4b44-bc2b-79941f39f1a8",
   "metadata": {},
   "outputs": [
    {
     "name": "stdout",
     "output_type": "stream",
     "text": [
      "Original array: array('i', [1, 2, 3, 4, 5, 6, 26, 5])\n",
      "[1, 2, 3, 4, 5, 6, 26, 5]\n"
     ]
    }
   ],
   "source": [
    "#10. tolist()\n",
    "#converts the array to a regular list.\n",
    "import array as arr\n",
    "arr=arr.array('i',[1,2,3,4,5,6,26,5])\n",
    "print(\"Original array:\",arr)\n",
    "\n",
    "print(arr.tolist())"
   ]
  },
  {
   "cell_type": "code",
   "execution_count": null,
   "id": "8df44008-0602-40fd-9e72-b037715c7dbc",
   "metadata": {},
   "outputs": [],
   "source": []
  }
 ],
 "metadata": {
  "kernelspec": {
   "display_name": "Python 3 (ipykernel)",
   "language": "python",
   "name": "python3"
  },
  "language_info": {
   "codemirror_mode": {
    "name": "ipython",
    "version": 3
   },
   "file_extension": ".py",
   "mimetype": "text/x-python",
   "name": "python",
   "nbconvert_exporter": "python",
   "pygments_lexer": "ipython3",
   "version": "3.12.4"
  }
 },
 "nbformat": 4,
 "nbformat_minor": 5
}
