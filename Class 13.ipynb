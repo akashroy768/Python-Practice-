{
 "cells": [
  {
   "cell_type": "code",
   "execution_count": null,
   "id": "9f026cff-6824-43b1-83ac-af0601c7b007",
   "metadata": {},
   "outputs": [],
   "source": [
    "#Nested for loops:"
   ]
  },
  {
   "cell_type": "code",
   "execution_count": 3,
   "id": "3fff9bd5-49d9-4b27-945c-2aba21f93037",
   "metadata": {},
   "outputs": [
    {
     "name": "stdout",
     "output_type": "stream",
     "text": [
      "1\n",
      "2\n",
      "2\n",
      "3\n",
      "3\n",
      "3\n",
      "4\n",
      "4\n",
      "4\n",
      "4\n",
      "5\n",
      "5\n",
      "5\n",
      "5\n",
      "5\n"
     ]
    }
   ],
   "source": [
    "for i in range(1,6): #1,2,3,4,5\n",
    "    for j in range(i): #1,2,2,3,3,3,4,4,4,4,5,5,5,5,5\n",
    "        print(i)"
   ]
  },
  {
   "cell_type": "code",
   "execution_count": 5,
   "id": "e46e2adc-d002-442a-b362-bf6db424d4ed",
   "metadata": {},
   "outputs": [
    {
     "name": "stdout",
     "output_type": "stream",
     "text": [
      "1 2 2 3 3 3 4 4 4 4 5 5 5 5 5 "
     ]
    }
   ],
   "source": [
    "for i in range(1,6): #1,2,3,4,5\n",
    "    for j in range(i): #1,2,2,3,3,3,4,4,4,4,5,5,5,5,5\n",
    "        print(i,end=\" \")"
   ]
  },
  {
   "cell_type": "code",
   "execution_count": 16,
   "id": "d4e5cabe-1bc7-4caa-9de7-c8f9bce3173e",
   "metadata": {},
   "outputs": [
    {
     "name": "stdout",
     "output_type": "stream",
     "text": [
      "1 \n",
      "2 2 \n",
      "3 3 3 \n",
      "4 4 4 4 \n",
      "5 5 5 5 5 \n"
     ]
    }
   ],
   "source": [
    "for i in range(1,6): #1,2,3,4,5\n",
    "     for j in range(i): #1,2,2,3,3,3,4,4,4,4,5,5,5,5,5\n",
    "        print(i,end=\" \")\n",
    "     print()"
   ]
  },
  {
   "cell_type": "code",
   "execution_count": 22,
   "id": "25c48413-6758-453b-b2ff-118678958197",
   "metadata": {},
   "outputs": [
    {
     "name": "stdout",
     "output_type": "stream",
     "text": [
      "1  \n",
      "2 2  \n",
      "3 3 3  \n",
      "4 4 4 4  \n",
      "5 5 5 5 5  \n"
     ]
    }
   ],
   "source": [
    "for i in range(1,6): #1,2,3,4\n",
    "     for j in range(1,i+1): #1,1,2,1,2,3,1,2,3,4\n",
    "        print(i,end=' ')#1,2\n",
    "     print(\" \")"
   ]
  },
  {
   "cell_type": "code",
   "execution_count": 30,
   "id": "72d7ef68-d7ef-4832-a1f6-60a56c341023",
   "metadata": {},
   "outputs": [
    {
     "name": "stdout",
     "output_type": "stream",
     "text": [
      "          1  \n",
      "         2 2  \n",
      "        3 3 3  \n",
      "       4 4 4 4  \n"
     ]
    }
   ],
   "source": [
    "for i in range(1,5): #1,2,3,4,5\n",
    "    print(\" \"*(10-i), end=\" \")\n",
    "    for j in range(1, i+1): \n",
    "        print(i,end=' ')\n",
    "    print(\" \")"
   ]
  },
  {
   "cell_type": "code",
   "execution_count": 32,
   "id": "102f8f58-90bf-4d4a-990d-5a01d2151792",
   "metadata": {},
   "outputs": [
    {
     "name": "stdout",
     "output_type": "stream",
     "text": [
      "1 \n",
      "1 2 \n",
      "1 2 3 \n",
      "1 2 3 4 \n"
     ]
    }
   ],
   "source": [
    "for i in range(1,5):\n",
    "     for j in range(1,i+1): \n",
    "        print(j,end=\" \")\n",
    "     print()"
   ]
  },
  {
   "cell_type": "code",
   "execution_count": 34,
   "id": "e08b8e27-ce60-491c-b94f-5521964e8302",
   "metadata": {},
   "outputs": [
    {
     "name": "stdout",
     "output_type": "stream",
     "text": [
      "0 1 \n",
      "0 1 2 \n",
      "0 1 2 3 \n",
      "0 1 2 3 4 \n"
     ]
    }
   ],
   "source": [
    "for i in range(1,5):\n",
    "     for j in range(0,i+1): \n",
    "        print(j,end=\" \")\n",
    "     print()"
   ]
  },
  {
   "cell_type": "code",
   "execution_count": null,
   "id": "90f9b6b8-e6cc-4ca2-8042-d1855528f4b8",
   "metadata": {},
   "outputs": [],
   "source": [
    "#Functions\n"
   ]
  },
  {
   "cell_type": "code",
   "execution_count": 36,
   "id": "7770f054-29b3-40d0-be7a-938ff600a806",
   "metadata": {},
   "outputs": [
    {
     "name": "stdout",
     "output_type": "stream",
     "text": [
      "Hello, world!\n"
     ]
    }
   ],
   "source": [
    "def greet():\n",
    "    print(\"Hello, world!\")\n",
    "greet()"
   ]
  },
  {
   "cell_type": "code",
   "execution_count": 38,
   "id": "de4c4c7f-6b7b-4fd6-bb2d-30f29b6167f1",
   "metadata": {},
   "outputs": [
    {
     "name": "stdout",
     "output_type": "stream",
     "text": [
      "Hello, world!\n"
     ]
    }
   ],
   "source": [
    "greet()"
   ]
  },
  {
   "cell_type": "code",
   "execution_count": 42,
   "id": "c9470a89-d4b8-46a7-b5d8-d29a6778fd67",
   "metadata": {},
   "outputs": [],
   "source": [
    "def my_name():\n",
    "    print(\"Harshita\")"
   ]
  },
  {
   "cell_type": "code",
   "execution_count": 44,
   "id": "e521d1fc-1e12-4e09-8330-359434d7bd1c",
   "metadata": {},
   "outputs": [
    {
     "name": "stdout",
     "output_type": "stream",
     "text": [
      "Harshita\n"
     ]
    }
   ],
   "source": [
    "my_name()"
   ]
  },
  {
   "cell_type": "code",
   "execution_count": 46,
   "id": "b4f11633-d89e-4770-9172-cb2e0de80c6f",
   "metadata": {},
   "outputs": [
    {
     "name": "stdout",
     "output_type": "stream",
     "text": [
      "15\n"
     ]
    }
   ],
   "source": [
    "#Return Statement\n",
    "def multiply(a,b):\n",
    "    return a*b\n",
    "result = multiply(3,5)\n",
    "print(result)"
   ]
  },
  {
   "cell_type": "code",
   "execution_count": 48,
   "id": "63cc82fd-9661-40cc-a331-6ad31f234787",
   "metadata": {},
   "outputs": [
    {
     "name": "stdout",
     "output_type": "stream",
     "text": [
      "60\n"
     ]
    }
   ],
   "source": [
    "def multiply(a,b,c):\n",
    "    return a*b*c\n",
    "result = multiply(3,5,4)\n",
    "print(result)"
   ]
  },
  {
   "cell_type": "code",
   "execution_count": 50,
   "id": "cd1f882d-4338-4380-96a1-4e7605f2b428",
   "metadata": {},
   "outputs": [
    {
     "data": {
      "text/plain": [
       "100"
      ]
     },
     "execution_count": 50,
     "metadata": {},
     "output_type": "execute_result"
    }
   ],
   "source": [
    "multiply(5,4,5)"
   ]
  },
  {
   "cell_type": "code",
   "execution_count": 52,
   "id": "aad1039f-38d8-4804-87d3-94f2fddabd6d",
   "metadata": {},
   "outputs": [
    {
     "name": "stdout",
     "output_type": "stream",
     "text": [
      "8\n"
     ]
    }
   ],
   "source": [
    "def addition(a,b):\n",
    "    return a+b\n",
    "result = addition(3,5)\n",
    "print(result)"
   ]
  },
  {
   "cell_type": "code",
   "execution_count": 54,
   "id": "f5c35266-dc94-4aa5-a9b2-cd221400076b",
   "metadata": {},
   "outputs": [
    {
     "name": "stdout",
     "output_type": "stream",
     "text": [
      "-2\n"
     ]
    }
   ],
   "source": [
    "def substraction(a,b):\n",
    "    return a-b\n",
    "result = substraction(3,5)\n",
    "print(result)"
   ]
  },
  {
   "cell_type": "code",
   "execution_count": 56,
   "id": "336e7542-3017-4a7c-b5e7-993b90bd6197",
   "metadata": {},
   "outputs": [
    {
     "name": "stdout",
     "output_type": "stream",
     "text": [
      "0.6\n"
     ]
    }
   ],
   "source": [
    "def division(a,b):\n",
    "    return a/b\n",
    "result = division(3,5)\n",
    "print(result)"
   ]
  },
  {
   "cell_type": "code",
   "execution_count": null,
   "id": "9508b191-efb4-4fcb-818d-bcdfaa06c91e",
   "metadata": {},
   "outputs": [],
   "source": []
  }
 ],
 "metadata": {
  "kernelspec": {
   "display_name": "Python 3 (ipykernel)",
   "language": "python",
   "name": "python3"
  },
  "language_info": {
   "codemirror_mode": {
    "name": "ipython",
    "version": 3
   },
   "file_extension": ".py",
   "mimetype": "text/x-python",
   "name": "python",
   "nbconvert_exporter": "python",
   "pygments_lexer": "ipython3",
   "version": "3.12.4"
  }
 },
 "nbformat": 4,
 "nbformat_minor": 5
}
