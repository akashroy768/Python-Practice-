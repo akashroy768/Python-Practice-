{
 "cells": [
  {
   "cell_type": "code",
   "execution_count": 1,
   "id": "5f8a8afd-70cb-45cb-a337-24b3069dab03",
   "metadata": {},
   "outputs": [
    {
     "data": {
      "text/plain": [
       "'0b10100'"
      ]
     },
     "execution_count": 1,
     "metadata": {},
     "output_type": "execute_result"
    }
   ],
   "source": [
    "bin(20)"
   ]
  },
  {
   "cell_type": "code",
   "execution_count": 3,
   "id": "31ab5f02-b5d6-423f-a8d8-5d4c0c5a96ef",
   "metadata": {},
   "outputs": [
    {
     "name": "stdout",
     "output_type": "stream",
     "text": [
      "82\n"
     ]
    }
   ],
   "source": [
    "#how to convert binary into decimals\n",
    "\n",
    "a = int('1010010',2)\n",
    "print(a)"
   ]
  },
  {
   "cell_type": "code",
   "execution_count": 5,
   "id": "b672abcf-fd83-4482-8025-d861741aaaac",
   "metadata": {},
   "outputs": [
    {
     "name": "stdout",
     "output_type": "stream",
     "text": [
      "71\n"
     ]
    }
   ],
   "source": [
    "#convert 1 0 0 0 1 1 1 into decimal\n",
    "\n",
    "b = int('1000111',2)\n",
    "print(b)\n"
   ]
  },
  {
   "cell_type": "code",
   "execution_count": null,
   "id": "32e42645-c5e0-4db9-9974-fb1ee5735fc3",
   "metadata": {},
   "outputs": [],
   "source": [
    "#comparison operators"
   ]
  },
  {
   "cell_type": "code",
   "execution_count": 13,
   "id": "c3f50915-74e4-4107-8603-b0ee2094d696",
   "metadata": {},
   "outputs": [
    {
     "data": {
      "text/plain": [
       "True"
      ]
     },
     "execution_count": 13,
     "metadata": {},
     "output_type": "execute_result"
    }
   ],
   "source": [
    "x=15\n",
    "y=20\n",
    "x!=y #<>"
   ]
  },
  {
   "cell_type": "code",
   "execution_count": null,
   "id": "7c1dd138-a64d-430e-9a17-5173d3b2b67c",
   "metadata": {},
   "outputs": [],
   "source": [
    "#logical operators"
   ]
  },
  {
   "cell_type": "code",
   "execution_count": 15,
   "id": "64992091-852d-4a97-85ba-2e4dce0bc7ee",
   "metadata": {},
   "outputs": [
    {
     "name": "stdout",
     "output_type": "stream",
     "text": [
      "True\n",
      "False\n",
      "True\n",
      "True\n",
      "False\n"
     ]
    }
   ],
   "source": [
    "a =5\n",
    "b = 10\n",
    "print (a>2 and b<15)\n",
    "print(a>2 and b<8)\n",
    "\n",
    "print(a>2 or b < 15)\n",
    "print(a>2 or b < 8)\n",
    "\n",
    "print(not(a>2 or b<8))"
   ]
  },
  {
   "cell_type": "code",
   "execution_count": null,
   "id": "9829c422-a7b2-4481-b2cb-5f3d590f8676",
   "metadata": {},
   "outputs": [],
   "source": [
    "#not : reverse the result"
   ]
  },
  {
   "cell_type": "code",
   "execution_count": 17,
   "id": "ab09489e-adbe-4486-ae96-c6fb1bbd24f2",
   "metadata": {},
   "outputs": [
    {
     "name": "stdout",
     "output_type": "stream",
     "text": [
      "False\n",
      "True\n"
     ]
    }
   ],
   "source": [
    "a= 5\n",
    "b = 10\n",
    "print(not(a>2))\n",
    "print(not(a>6))\n"
   ]
  },
  {
   "cell_type": "code",
   "execution_count": null,
   "id": "55d2f6c7-3c78-411c-b1bb-75fbdee7298c",
   "metadata": {},
   "outputs": [],
   "source": [
    "#identity operators"
   ]
  },
  {
   "cell_type": "code",
   "execution_count": 27,
   "id": "5ef6c67a-1122-4c8b-853c-311848513be1",
   "metadata": {},
   "outputs": [
    {
     "name": "stdout",
     "output_type": "stream",
     "text": [
      "True\n",
      "False\n",
      "False\n"
     ]
    }
   ],
   "source": [
    "#is returns true if both variables are the same object memory x is y \n",
    "#is not returns true if both variables are not the same object memory x is not y\n",
    "a = [1, 2, 3] #obj memory location 1\n",
    "b = a\n",
    "c=[1, 2, 3]\n",
    "d = c\n",
    "print(a is b)\n",
    "print(a is c)\n",
    "print(c is not d)"
   ]
  },
  {
   "cell_type": "code",
   "execution_count": 31,
   "id": "40fd6d5d-43f1-4013-8b74-a68c0616db7c",
   "metadata": {},
   "outputs": [
    {
     "name": "stdout",
     "output_type": "stream",
     "text": [
      "True\n",
      "False\n"
     ]
    }
   ],
   "source": [
    "#cached range in python(-5 to 256)\n",
    "\n",
    "x=10 #1\n",
    "y=10 #1\n",
    "z=10 #1\n",
    "\n",
    "b=157 #2\n",
    "h=157 #2\n",
    "z=157 #2\n",
    "\n",
    "j = -4 #3\n",
    "i = -4 #3\n",
    "\n",
    "u = 258 #4  because out of range so it will stored in different memory location\n",
    "i = 258 #5\n",
    "\n",
    "print(b is h)  #true\n",
    "\n",
    "a = 257 #1\n",
    "d = 257 #2\n",
    "\n",
    "print(a is b )"
   ]
  },
  {
   "cell_type": "code",
   "execution_count": 33,
   "id": "9c071575-ede1-4934-9b1d-f3bf02341419",
   "metadata": {},
   "outputs": [
    {
     "name": "stdout",
     "output_type": "stream",
     "text": [
      "True\n",
      "False\n"
     ]
    }
   ],
   "source": [
    "#membership operators\n",
    "#in returns true if a sequence with the specified value is present in the object\n",
    "#ex1 : checking membership in list\n",
    "fruits = ['apple','banana','cherry']\n",
    "print('banana' in fruits)\n",
    "print('grape' in fruits)"
   ]
  },
  {
   "cell_type": "code",
   "execution_count": 37,
   "id": "ac8086be-4916-49f4-8393-39d4ccac2a44",
   "metadata": {},
   "outputs": [
    {
     "name": "stdout",
     "output_type": "stream",
     "text": [
      "True\n",
      "False\n"
     ]
    }
   ],
   "source": [
    "#in string\n",
    "text = \"Hello, World!\"\n",
    "print('H' in text)\n",
    "print('hello' in text)"
   ]
  },
  {
   "cell_type": "code",
   "execution_count": 39,
   "id": "a3ae5c50-4929-47ca-8852-b67b1cc3895f",
   "metadata": {},
   "outputs": [
    {
     "name": "stdout",
     "output_type": "stream",
     "text": [
      "True\n",
      "False\n",
      "True\n"
     ]
    }
   ],
   "source": [
    "#dictionary\n",
    "\n",
    "person = {'name': 'Alice','age':25}\n",
    "print('name' in person)\n",
    "print('Alice' in person)\n",
    "print('age' in person)"
   ]
  },
  {
   "cell_type": "code",
   "execution_count": null,
   "id": "a8b02fc9-601d-4682-af46-5adaf2b95769",
   "metadata": {},
   "outputs": [],
   "source": []
  }
 ],
 "metadata": {
  "kernelspec": {
   "display_name": "Python 3 (ipykernel)",
   "language": "python",
   "name": "python3"
  },
  "language_info": {
   "codemirror_mode": {
    "name": "ipython",
    "version": 3
   },
   "file_extension": ".py",
   "mimetype": "text/x-python",
   "name": "python",
   "nbconvert_exporter": "python",
   "pygments_lexer": "ipython3",
   "version": "3.12.4"
  }
 },
 "nbformat": 4,
 "nbformat_minor": 5
}
