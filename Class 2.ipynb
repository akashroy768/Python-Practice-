{
 "cells": [
  {
   "cell_type": "code",
   "execution_count": 11,
   "id": "99150ac7-ba4a-4fa3-a5ca-a0e243afbac5",
   "metadata": {},
   "outputs": [],
   "source": [
    "A = 17"
   ]
  },
  {
   "cell_type": "code",
   "execution_count": 1,
   "id": "110a328e-6f36-433c-a662-8fa80f7b272b",
   "metadata": {},
   "outputs": [],
   "source": [
    "a = 18"
   ]
  },
  {
   "cell_type": "code",
   "execution_count": 13,
   "id": "1053eabf-5a93-422f-91c7-c688dda8535d",
   "metadata": {},
   "outputs": [
    {
     "data": {
      "text/plain": [
       "17"
      ]
     },
     "execution_count": 13,
     "metadata": {},
     "output_type": "execute_result"
    }
   ],
   "source": [
    "A"
   ]
  },
  {
   "cell_type": "code",
   "execution_count": 15,
   "id": "2a9797c4-d3db-40d1-be6a-6996e69a9e94",
   "metadata": {},
   "outputs": [
    {
     "data": {
      "text/plain": [
       "18"
      ]
     },
     "execution_count": 15,
     "metadata": {},
     "output_type": "execute_result"
    }
   ],
   "source": [
    "a"
   ]
  },
  {
   "cell_type": "code",
   "execution_count": null,
   "id": "17f90adc-fad3-4134-b622-ca51f6cb2c6b",
   "metadata": {},
   "outputs": [],
   "source": [
    "#variable will start will alphabets not with numeric or special character but underscore ww can give"
   ]
  },
  {
   "cell_type": "code",
   "execution_count": 17,
   "id": "cae75725-066b-468c-8280-f7814277b403",
   "metadata": {},
   "outputs": [
    {
     "name": "stdout",
     "output_type": "stream",
     "text": [
      "20\n"
     ]
    }
   ],
   "source": [
    "_a = 20\n",
    "print(_a)"
   ]
  },
  {
   "cell_type": "code",
   "execution_count": 19,
   "id": "9fb064aa-e92e-47c3-8779-d7ab6304372d",
   "metadata": {},
   "outputs": [
    {
     "data": {
      "text/plain": [
       "100"
      ]
     },
     "execution_count": 19,
     "metadata": {},
     "output_type": "execute_result"
    }
   ],
   "source": [
    "virat_kohli = 100 #rule 2 variable not support space in between \n",
    "virat_kohli"
   ]
  },
  {
   "cell_type": "code",
   "execution_count": 1,
   "id": "aeac4adb-d649-4e4a-b5a2-35d273e67e30",
   "metadata": {},
   "outputs": [
    {
     "ename": "SyntaxError",
     "evalue": "invalid syntax (3833211483.py, line 1)",
     "output_type": "error",
     "traceback": [
      "\u001b[1;36m  Cell \u001b[1;32mIn[1], line 1\u001b[1;36m\u001b[0m\n\u001b[1;33m    if = 20\u001b[0m\n\u001b[1;37m       ^\u001b[0m\n\u001b[1;31mSyntaxError\u001b[0m\u001b[1;31m:\u001b[0m invalid syntax\n"
     ]
    }
   ],
   "source": [
    "if = 20 \n",
    "else = 20"
   ]
  },
  {
   "cell_type": "code",
   "execution_count": null,
   "id": "45f692b5-49cb-4700-9f45-49657f6b29e8",
   "metadata": {},
   "outputs": [],
   "source": [
    "#if = 20 #it will give error bcause it is a keywords we can't make them variable "
   ]
  },
  {
   "cell_type": "code",
   "execution_count": 21,
   "id": "d7247669-7bb2-4551-9b60-7d6d2a6f4204",
   "metadata": {},
   "outputs": [
    {
     "data": {
      "text/plain": [
       "int"
      ]
     },
     "execution_count": 21,
     "metadata": {},
     "output_type": "execute_result"
    }
   ],
   "source": [
    "b = 25\n",
    "type(b) #type will give the data type of value "
   ]
  },
  {
   "cell_type": "code",
   "execution_count": 23,
   "id": "6fe6888e-c69e-4232-bce0-3a3f19015513",
   "metadata": {},
   "outputs": [
    {
     "data": {
      "text/plain": [
       "str"
      ]
     },
     "execution_count": 23,
     "metadata": {},
     "output_type": "execute_result"
    }
   ],
   "source": [
    "b = \"virat kohli\"\n",
    "type(b)"
   ]
  },
  {
   "cell_type": "code",
   "execution_count": null,
   "id": "c03aca4c-d70e-4142-bf41-f2974b3020a2",
   "metadata": {},
   "outputs": [],
   "source": [
    "#operators"
   ]
  },
  {
   "cell_type": "code",
   "execution_count": 23,
   "id": "123b5533-bf2f-4665-a508-ee5985fce09d",
   "metadata": {},
   "outputs": [],
   "source": [
    "a=18\n",
    "b= 20\n"
   ]
  },
  {
   "cell_type": "code",
   "execution_count": 9,
   "id": "9c5c7337-934a-423f-80a8-215f2105a498",
   "metadata": {},
   "outputs": [
    {
     "name": "stdout",
     "output_type": "stream",
     "text": [
      "20\n"
     ]
    }
   ],
   "source": [
    "a=b\n",
    "\n",
    "print (a)\n"
   ]
  },
  {
   "cell_type": "code",
   "execution_count": 25,
   "id": "e5765a49-9702-4000-895c-12a7c87003b6",
   "metadata": {},
   "outputs": [
    {
     "name": "stdout",
     "output_type": "stream",
     "text": [
      "18\n"
     ]
    }
   ],
   "source": [
    "b=a\n",
    "print(b)"
   ]
  },
  {
   "cell_type": "code",
   "execution_count": 21,
   "id": "91728cb6-143f-4596-a6cc-97ee3d39f8cb",
   "metadata": {},
   "outputs": [
    {
     "name": "stdout",
     "output_type": "stream",
     "text": [
      "harshita\n"
     ]
    }
   ],
   "source": [
    "name = 'harshita'\n",
    "salary = 2000\n",
    "address = 'bangalore'\n",
    "print(name)"
   ]
  },
  {
   "cell_type": "code",
   "execution_count": 40,
   "id": "fcd66be9-3dd4-4159-a0d8-0f72b7f54d2f",
   "metadata": {},
   "outputs": [
    {
     "name": "stdout",
     "output_type": "stream",
     "text": [
      "10\n"
     ]
    }
   ],
   "source": [
    "x=y=z = 10\n",
    "print(y)"
   ]
  },
  {
   "cell_type": "code",
   "execution_count": 33,
   "id": "27715352-afe9-413d-8e35-3e94150bb20b",
   "metadata": {},
   "outputs": [],
   "source": [
    "Class =\"Python Batch\""
   ]
  },
  {
   "cell_type": "code",
   "execution_count": 48,
   "id": "09eebb47-613b-4eb1-a607-ed3c244f76df",
   "metadata": {},
   "outputs": [
    {
     "data": {
      "text/plain": [
       "'python batch'"
      ]
     },
     "execution_count": 48,
     "metadata": {},
     "output_type": "execute_result"
    }
   ],
   "source": [
    "Class.lower()"
   ]
  },
  {
   "cell_type": "code",
   "execution_count": 50,
   "id": "82c10517-4f93-46a4-b910-9b9040896b58",
   "metadata": {},
   "outputs": [
    {
     "data": {
      "text/plain": [
       "'PYTHON BATCH'"
      ]
     },
     "execution_count": 50,
     "metadata": {},
     "output_type": "execute_result"
    }
   ],
   "source": [
    "Class.upper()"
   ]
  },
  {
   "cell_type": "code",
   "execution_count": 27,
   "id": "0dbf9a4d-7147-4f40-ac1e-a4681c570bbf",
   "metadata": {},
   "outputs": [],
   "source": [
    "Class='python1'"
   ]
  },
  {
   "cell_type": "code",
   "execution_count": 29,
   "id": "099294a2-fcd6-43b8-98c3-10299f9b0739",
   "metadata": {},
   "outputs": [],
   "source": [
    "_class='python class'"
   ]
  },
  {
   "cell_type": "code",
   "execution_count": 35,
   "id": "f619c888-0f2c-48f1-974b-1b22ef2e29a0",
   "metadata": {},
   "outputs": [
    {
     "data": {
      "text/plain": [
       "'Python Batch'"
      ]
     },
     "execution_count": 35,
     "metadata": {},
     "output_type": "execute_result"
    }
   ],
   "source": [
    "Class.title()"
   ]
  },
  {
   "cell_type": "code",
   "execution_count": 54,
   "id": "92ef6dbf-c9d2-4a46-9603-b5ce190bfb7b",
   "metadata": {},
   "outputs": [
    {
     "data": {
      "text/plain": [
       "'Python batch'"
      ]
     },
     "execution_count": 54,
     "metadata": {},
     "output_type": "execute_result"
    }
   ],
   "source": [
    "Class.capitalize()"
   ]
  },
  {
   "cell_type": "code",
   "execution_count": 56,
   "id": "b61fc436-6460-4d22-b0ed-2aff3cb7e075",
   "metadata": {},
   "outputs": [
    {
     "data": {
      "text/plain": [
       "'pYTHON bATCH'"
      ]
     },
     "execution_count": 56,
     "metadata": {},
     "output_type": "execute_result"
    }
   ],
   "source": [
    "Class.swapcase()"
   ]
  },
  {
   "cell_type": "code",
   "execution_count": 64,
   "id": "c51206bc-0467-4f20-9c7b-3cb8c2bca8e7",
   "metadata": {},
   "outputs": [
    {
     "data": {
      "text/plain": [
       "True"
      ]
     },
     "execution_count": 64,
     "metadata": {},
     "output_type": "execute_result"
    }
   ],
   "source": [
    "Class.isalpha() #is alphabets"
   ]
  },
  {
   "cell_type": "code",
   "execution_count": 66,
   "id": "f4e45f48-0261-424b-a219-d5e02e47825c",
   "metadata": {},
   "outputs": [
    {
     "data": {
      "text/plain": [
       "True"
      ]
     },
     "execution_count": 66,
     "metadata": {},
     "output_type": "execute_result"
    }
   ],
   "source": [
    "Class.isalnum() #is alphabetswith numbers"
   ]
  },
  {
   "cell_type": "code",
   "execution_count": 68,
   "id": "0cbf56f1-690b-47c6-a9df-57a5782e089f",
   "metadata": {},
   "outputs": [
    {
     "data": {
      "text/plain": [
       "False"
      ]
     },
     "execution_count": 68,
     "metadata": {},
     "output_type": "execute_result"
    }
   ],
   "source": [
    "Class.isnumeric()#isnumber"
   ]
  },
  {
   "cell_type": "code",
   "execution_count": 70,
   "id": "5fe71b4c-de16-4a18-8d7b-24c6f541c9f0",
   "metadata": {},
   "outputs": [
    {
     "data": {
      "text/plain": [
       "True"
      ]
     },
     "execution_count": 70,
     "metadata": {},
     "output_type": "execute_result"
    }
   ],
   "source": [
    "Class.startswith(\"p\")"
   ]
  },
  {
   "cell_type": "code",
   "execution_count": 72,
   "id": "aa7444be-4e47-464d-b48e-5ecb735906e4",
   "metadata": {},
   "outputs": [
    {
     "name": "stdout",
     "output_type": "stream",
     "text": [
      "1\n"
     ]
    }
   ],
   "source": [
    "x = 1\n",
    "print(x)"
   ]
  },
  {
   "cell_type": "code",
   "execution_count": 74,
   "id": "71149f55-ed74-4a3a-b9a5-e03b721e6a56",
   "metadata": {},
   "outputs": [
    {
     "name": "stdin",
     "output_type": "stream",
     "text": [
      "enter value of x 5\n"
     ]
    }
   ],
   "source": [
    "x= int(input(\"enter value of x\"))"
   ]
  },
  {
   "cell_type": "code",
   "execution_count": 76,
   "id": "f0942b6f-187e-47c1-885b-8e0eebd54d81",
   "metadata": {},
   "outputs": [
    {
     "data": {
      "text/plain": [
       "int"
      ]
     },
     "execution_count": 76,
     "metadata": {},
     "output_type": "execute_result"
    }
   ],
   "source": [
    "type(x)"
   ]
  },
  {
   "cell_type": "code",
   "execution_count": null,
   "id": "6cf59d66-1736-4e95-8cb3-da91a8107479",
   "metadata": {},
   "outputs": [],
   "source": []
  }
 ],
 "metadata": {
  "kernelspec": {
   "display_name": "Python 3 (ipykernel)",
   "language": "python",
   "name": "python3"
  },
  "language_info": {
   "codemirror_mode": {
    "name": "ipython",
    "version": 3
   },
   "file_extension": ".py",
   "mimetype": "text/x-python",
   "name": "python",
   "nbconvert_exporter": "python",
   "pygments_lexer": "ipython3",
   "version": "3.12.4"
  }
 },
 "nbformat": 4,
 "nbformat_minor": 5
}
