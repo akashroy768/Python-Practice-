{
 "cells": [
  {
   "cell_type": "code",
   "execution_count": null,
   "id": "33ff20b7-bc8a-473c-a305-9dcc3c1ca52a",
   "metadata": {},
   "outputs": [],
   "source": [
    "#find the number elements in array"
   ]
  },
  {
   "cell_type": "code",
   "execution_count": 1,
   "id": "3eb326e2-bab8-4367-ba9d-301e7fdace00",
   "metadata": {},
   "outputs": [],
   "source": [
    "import numpy as np\n"
   ]
  },
  {
   "cell_type": "code",
   "execution_count": 3,
   "id": "2c5d6a70-3ac4-4bcb-bf66-d8ac0426de48",
   "metadata": {},
   "outputs": [
    {
     "name": "stdout",
     "output_type": "stream",
     "text": [
      "9\n",
      "(3, 3)\n",
      "2\n",
      "int32\n"
     ]
    }
   ],
   "source": [
    "a = np.array([[1,2,3],[4,5,6],[5,8,12]])\n",
    "print(a.size) #it gives the size\n",
    "print(a.shape)\n",
    "print(a.ndim)\n",
    "print(a.dtype)"
   ]
  },
  {
   "cell_type": "code",
   "execution_count": 21,
   "id": "85cb8033-98ed-4e83-85da-348e516f41d1",
   "metadata": {},
   "outputs": [
    {
     "name": "stdout",
     "output_type": "stream",
     "text": [
      "[[15  0 18 15 14]\n",
      " [ 3 12 16  2 16]\n",
      " [17 19 14 19 13]\n",
      " [ 9 18  4  8 16]\n",
      " [19  5  6 11 11]\n",
      " [ 4  7 15 10  7]]\n"
     ]
    }
   ],
   "source": [
    "x=np.random.randint(0,20,(6,5))\n",
    "print(x)"
   ]
  },
  {
   "cell_type": "code",
   "execution_count": null,
   "id": "46bf51f7-49c6-4d32-a339-7ddd01f73340",
   "metadata": {},
   "outputs": [],
   "source": [
    "#x.shape()"
   ]
  },
  {
   "cell_type": "code",
   "execution_count": 13,
   "id": "dc0bd7b2-64b8-4b68-a618-c3a130231cc1",
   "metadata": {},
   "outputs": [
    {
     "data": {
      "text/plain": [
       "array([19, 12,  2, 12, 17, 19, 13, 14, 10, 17, 12,  0,  8, 12,  0, 17,  4,\n",
       "       14, 11, 12,  0,  1, 13, 12, 18,  2,  5,  9, 15,  7])"
      ]
     },
     "execution_count": 13,
     "metadata": {},
     "output_type": "execute_result"
    }
   ],
   "source": [
    "x.ravel()"
   ]
  },
  {
   "cell_type": "code",
   "execution_count": 29,
   "id": "18f70e42-2a9d-46ea-b8f2-25d0eba46ea4",
   "metadata": {},
   "outputs": [
    {
     "data": {
      "text/plain": [
       "array([[15,  0, 18, 15, 14,  3, 12, 16,  2, 16],\n",
       "       [17, 19, 14, 19, 13,  9, 18,  4,  8, 16],\n",
       "       [19,  5,  6, 11, 11,  4,  7, 15, 10,  7]])"
      ]
     },
     "execution_count": 29,
     "metadata": {},
     "output_type": "execute_result"
    }
   ],
   "source": [
    "x.reshape(3,10)"
   ]
  },
  {
   "cell_type": "code",
   "execution_count": 31,
   "id": "0866a4c6-effb-4cab-ab79-5871cfddd777",
   "metadata": {},
   "outputs": [
    {
     "name": "stdout",
     "output_type": "stream",
     "text": [
      "[[15  0 18 15 14]\n",
      " [ 3 12 16  2 16]\n",
      " [17 19 14 19 13]\n",
      " [ 9 18  4  8 16]\n",
      " [19  5  6 11 11]\n",
      " [ 4  7 15 10  7]]\n"
     ]
    }
   ],
   "source": [
    "print(x)"
   ]
  },
  {
   "cell_type": "code",
   "execution_count": 17,
   "id": "b8a5d51f-a398-4b23-ad68-8d5e7c289eb5",
   "metadata": {},
   "outputs": [],
   "source": [
    "y=x.ravel()"
   ]
  },
  {
   "cell_type": "code",
   "execution_count": 19,
   "id": "9df75bb6-9983-40ae-9a6d-ef983b0eb856",
   "metadata": {},
   "outputs": [
    {
     "name": "stdout",
     "output_type": "stream",
     "text": [
      "[[19 12  2 12 17]\n",
      " [19 13 14 10 17]\n",
      " [12  0  8 12  0]\n",
      " [17  4 14 11 12]\n",
      " [ 0  1 13 12 18]\n",
      " [ 2  5  9 15  7]]\n"
     ]
    }
   ],
   "source": [
    "y.reshape(10,3)\n",
    "print(x)"
   ]
  },
  {
   "cell_type": "code",
   "execution_count": 37,
   "id": "52666f21-4df7-42e4-bf8c-63801b36d8b7",
   "metadata": {},
   "outputs": [
    {
     "name": "stdout",
     "output_type": "stream",
     "text": [
      "[[2 3]\n",
      " [4 3]]\n"
     ]
    }
   ],
   "source": [
    "x1 = np.array([[2,3],[4,3]])\n",
    "print(x1)"
   ]
  },
  {
   "cell_type": "code",
   "execution_count": 41,
   "id": "b9e7feab-a994-4e31-811b-e5930e088f24",
   "metadata": {},
   "outputs": [
    {
     "name": "stdout",
     "output_type": "stream",
     "text": [
      "[[4 5]\n",
      " [6 7]]\n"
     ]
    }
   ],
   "source": [
    "x2 = np.array([[4,5],[6,7]])\n",
    "print(x2)"
   ]
  },
  {
   "cell_type": "code",
   "execution_count": 43,
   "id": "0d05e51f-b806-4f26-8fd7-a5d6fb548d26",
   "metadata": {},
   "outputs": [
    {
     "data": {
      "text/plain": [
       "array([[2, 3],\n",
       "       [4, 3],\n",
       "       [4, 5],\n",
       "       [6, 7]])"
      ]
     },
     "execution_count": 43,
     "metadata": {},
     "output_type": "execute_result"
    }
   ],
   "source": [
    "np.vstack([x1,x2])"
   ]
  },
  {
   "cell_type": "code",
   "execution_count": 45,
   "id": "157c3fef-2b62-4c87-940d-89b520bd8a4a",
   "metadata": {},
   "outputs": [
    {
     "data": {
      "text/plain": [
       "array([[2, 3, 4, 5],\n",
       "       [4, 3, 6, 7]])"
      ]
     },
     "execution_count": 45,
     "metadata": {},
     "output_type": "execute_result"
    }
   ],
   "source": [
    "np.hstack([x1,x2])"
   ]
  },
  {
   "cell_type": "code",
   "execution_count": 47,
   "id": "d125c157-d247-4682-8992-6d3484db10d6",
   "metadata": {},
   "outputs": [
    {
     "data": {
      "text/plain": [
       "array([[2, 3],\n",
       "       [4, 3],\n",
       "       [4, 5],\n",
       "       [6, 7]])"
      ]
     },
     "execution_count": 47,
     "metadata": {},
     "output_type": "execute_result"
    }
   ],
   "source": [
    "np.concatenate([x1,x2],axis=0)"
   ]
  },
  {
   "cell_type": "code",
   "execution_count": 49,
   "id": "61a84e0f-2372-449b-a3fd-de60ec0f5756",
   "metadata": {},
   "outputs": [
    {
     "data": {
      "text/plain": [
       "array([[2, 3, 4, 5],\n",
       "       [4, 3, 6, 7]])"
      ]
     },
     "execution_count": 49,
     "metadata": {},
     "output_type": "execute_result"
    }
   ],
   "source": [
    "np.concatenate([x1,x2],axis=1)"
   ]
  },
  {
   "cell_type": "code",
   "execution_count": null,
   "id": "314c065e-a120-4a4b-8058-a7e7cac87c46",
   "metadata": {},
   "outputs": [],
   "source": [
    "#Numpy array Mathematics-sum"
   ]
  },
  {
   "cell_type": "code",
   "execution_count": 53,
   "id": "81627968-af80-47c2-a8a8-1b90dbcb16a9",
   "metadata": {},
   "outputs": [
    {
     "name": "stdout",
     "output_type": "stream",
     "text": [
      "[ 0.  1.  2.  3.  4.  5.  6.  7.  8.  9. 10. 11. 12. 13. 14. 15. 16. 17.\n",
      " 18. 19. 20. 21. 22. 23.]\n",
      "float64\n"
     ]
    }
   ],
   "source": [
    "d = np.arange(24,dtype='float') #0,1,.......,23\n",
    "print(d)\n",
    "print(d.dtype)"
   ]
  },
  {
   "cell_type": "code",
   "execution_count": 55,
   "id": "f9705d67-b8e8-4e2c-952d-2030d9dc7ed6",
   "metadata": {},
   "outputs": [
    {
     "data": {
      "text/plain": [
       "480"
      ]
     },
     "execution_count": 55,
     "metadata": {},
     "output_type": "execute_result"
    }
   ],
   "source": [
    "import numpy as np\n",
    "np.sum([10,30,60,54,68,258])"
   ]
  },
  {
   "cell_type": "code",
   "execution_count": 57,
   "id": "f88eaaa5-624a-4aef-8e7e-48332d1d9dce",
   "metadata": {},
   "outputs": [
    {
     "data": {
      "text/plain": [
       "55"
      ]
     },
     "execution_count": 57,
     "metadata": {},
     "output_type": "execute_result"
    }
   ],
   "source": [
    "a = [10,20]\n",
    "b = [20,5]\n",
    "np.sum([a,b]) #10+20 = 30 + 20+5 = 25 ,30+25=55"
   ]
  },
  {
   "cell_type": "code",
   "execution_count": 63,
   "id": "c19bfdaa-17b4-4a18-b9e7-f2465fd0024b",
   "metadata": {},
   "outputs": [
    {
     "name": "stdout",
     "output_type": "stream",
     "text": [
      "Addition:\n",
      " [[16 16 21]\n",
      " [25 26 32]]\n"
     ]
    },
    {
     "data": {
      "text/plain": [
       "2"
      ]
     },
     "execution_count": 63,
     "metadata": {},
     "output_type": "execute_result"
    }
   ],
   "source": [
    "import numpy as np\n",
    "#creating two 2D arrays\n",
    "array1 = np.array([[1,2,3],\n",
    "                  [4,5,6]])\n",
    "array2 = np.array([[7,8,9],              #[8,10,12],[14,16,18]\n",
    "                  [11,12,13]])\n",
    "array3 = np.array([[8,6,9],\n",
    "                  [10,9,13]])\n",
    "#Adding the two arrays\n",
    "sum_array = array1 + array2 +array3\n",
    "print(\"Addition:\\n\", sum_array)\n",
    "sum_array.ndim"
   ]
  },
  {
   "cell_type": "code",
   "execution_count": null,
   "id": "6b90e873-ffcd-4622-9101-db29f1f5301a",
   "metadata": {},
   "outputs": [],
   "source": [
    "#substraction"
   ]
  },
  {
   "cell_type": "code",
   "execution_count": 65,
   "id": "6eec6962-6067-4369-8098-94df1fd4e8d9",
   "metadata": {},
   "outputs": [
    {
     "data": {
      "text/plain": [
       "-10"
      ]
     },
     "execution_count": 65,
     "metadata": {},
     "output_type": "execute_result"
    }
   ],
   "source": [
    "import numpy as np\n",
    "np.subtract(10,20)"
   ]
  },
  {
   "cell_type": "code",
   "execution_count": 69,
   "id": "33f944f4-037e-44f2-b314-e227ecbc2239",
   "metadata": {},
   "outputs": [
    {
     "name": "stdout",
     "output_type": "stream",
     "text": [
      "[ 0 -5  1]\n"
     ]
    }
   ],
   "source": [
    "#subtraction of two arrays:\n",
    "\n",
    "a=np.array([0,1,6])\n",
    "b=np.array([0,5,3])\n",
    "c=np.array([0,1,2])\n",
    "#np.subtract([0,1,2])\n",
    "\n",
    "sub = a-b-c\n",
    "print(sub)"
   ]
  },
  {
   "cell_type": "code",
   "execution_count": 71,
   "id": "a8b59e08-eea3-458a-8ef3-920f95e384bc",
   "metadata": {},
   "outputs": [
    {
     "name": "stdout",
     "output_type": "stream",
     "text": [
      "Result of a + b with broadcasting:\n",
      " [[ 6  6]\n",
      " [11 12]\n",
      " [11  9]]\n"
     ]
    }
   ],
   "source": [
    "#using different shapes(Broadcasting)\n",
    "import numpy as np\n",
    "\n",
    "a= np.array([[1,2],[6,8],[6,5]])\n",
    "b = np.array([5,4])\n",
    "\n",
    "#Addition from each row of a using broadcasting\n",
    "result = a+b\n",
    "print(\"Result of a + b with broadcasting:\\n\", result)"
   ]
  }
 ],
 "metadata": {
  "kernelspec": {
   "display_name": "Python 3 (ipykernel)",
   "language": "python",
   "name": "python3"
  },
  "language_info": {
   "codemirror_mode": {
    "name": "ipython",
    "version": 3
   },
   "file_extension": ".py",
   "mimetype": "text/x-python",
   "name": "python",
   "nbconvert_exporter": "python",
   "pygments_lexer": "ipython3",
   "version": "3.12.4"
  }
 },
 "nbformat": 4,
 "nbformat_minor": 5
}
