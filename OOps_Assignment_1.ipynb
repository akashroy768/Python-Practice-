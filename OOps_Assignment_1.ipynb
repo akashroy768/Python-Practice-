{
 "cells": [
  {
   "cell_type": "markdown",
   "id": "a9aa031a",
   "metadata": {},
   "source": [
    " Problem Statement:\n",
    "You work in XYZ Corporation as a Data Analyst. Your corporation has told you to work on functions and classes.\n",
    " Tasks To Be Performed:\n",
    " 1. Create a function named ‘factor’ that can only accept 1 \n",
    "argument. The \n",
    "function should return the factorial of that \n",
    "number.\n",
    " 2. Create a function named ‘check_string’, the function should accept \n",
    "a string \n",
    "data from the user and the function should check if \n",
    "the user input contains \n",
    "the letter ‘s’ in it. If it contains \n",
    "the letter ‘s’ then print- ‘The string is containing the letter ‘s’’, if \n",
    "not then print- ‘The string doesn’t contain the \n",
    "letter ‘s’’.\n",
    " 3. Create a class named ‘student’ and inside the class, create a \n",
    "function \n",
    "named ‘fun1’- this method should accept the user \n",
    "defined input and return \n",
    "that value:\n",
    " a. Create another method named- message() and that method \n",
    "should print the user defined input that we have defined in ‘fun1’.\n",
    " 4. Create a lambda function that should double or multiply the \n",
    "number (that we will be passing in the lambda function) by 2. \n",
    "Store the lambda function \n",
    "in a variable named ‘double_num’.\n",
    " 5. Take user input string and check whether that string is palindrome \n",
    "or not"
   ]
  },
  {
   "cell_type": "code",
   "execution_count": 5,
   "id": "ef1ca80b",
   "metadata": {},
   "outputs": [
    {
     "name": "stdout",
     "output_type": "stream",
     "text": [
      "120\n"
     ]
    }
   ],
   "source": [
    "def factor(n):    \n",
    "    result = 1\n",
    "    for i in range(2, n + 1):\n",
    "        result *= i\n",
    "    return result\n",
    "print(factor(5))"
   ]
  },
  {
   "cell_type": "code",
   "execution_count": 7,
   "id": "add8b504",
   "metadata": {},
   "outputs": [
    {
     "name": "stdout",
     "output_type": "stream",
     "text": [
      "The string is containing the letter 's'\n",
      "None\n",
      "The string doesnt contain the letter 's'\n",
      "None\n"
     ]
    }
   ],
   "source": [
    "def check_string(user_input):\n",
    "    if 's' in user_input or 'S' in user_input:\n",
    "        print(\"The string is containing the letter 's'\")\n",
    "    else:\n",
    "        print(\"The string doesnt contain the letter 's'\")\n",
    "print(check_string(\"Sunshine\"))\n",
    "print(check_string(\"Hello\"))"
   ]
  },
  {
   "cell_type": "code",
   "execution_count": 9,
   "id": "9bd71db3",
   "metadata": {},
   "outputs": [
    {
     "name": "stdout",
     "output_type": "stream",
     "text": [
      "You entered: 12345\n"
     ]
    }
   ],
   "source": [
    "class student:\n",
    "    def fun1(self):\n",
    "        self.data = input(\"Enter a value: \")\n",
    "        return self.data\n",
    "\n",
    "    def message(self):\n",
    "        print(\"You entered:\", self.data)\n",
    "\n",
    "s = student()\n",
    "s.fun1() \n",
    "s.message()"
   ]
  },
  {
   "cell_type": "code",
   "execution_count": 10,
   "id": "e00b1d9a",
   "metadata": {},
   "outputs": [
    {
     "name": "stdout",
     "output_type": "stream",
     "text": [
      "10\n",
      "24\n"
     ]
    }
   ],
   "source": [
    "double_num = lambda x: x * 2\n",
    "print(double_num(5)) \n",
    "print(double_num(12)) "
   ]
  },
  {
   "cell_type": "code",
   "execution_count": 12,
   "id": "ff51945b",
   "metadata": {},
   "outputs": [
    {
     "name": "stdout",
     "output_type": "stream",
     "text": [
      "The string mom is a palindrome.\n"
     ]
    }
   ],
   "source": [
    "user_input = input(\"Enter a string: \")\n",
    "\n",
    "cleaned_input = user_input.replace(\" \", \"\").lower()\n",
    "\n",
    "if cleaned_input == cleaned_input[::-1]:\n",
    "    print(f\"The string {user_input} is a palindrome.\")\n",
    "else:\n",
    "    print(f\"The string {user_input} is not a palindrome.\")"
   ]
  }
 ],
 "metadata": {
  "kernelspec": {
   "display_name": "Python 3",
   "language": "python",
   "name": "python3"
  },
  "language_info": {
   "codemirror_mode": {
    "name": "ipython",
    "version": 3
   },
   "file_extension": ".py",
   "mimetype": "text/x-python",
   "name": "python",
   "nbconvert_exporter": "python",
   "pygments_lexer": "ipython3",
   "version": "3.13.3"
  }
 },
 "nbformat": 4,
 "nbformat_minor": 5
}
