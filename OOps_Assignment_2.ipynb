{
 "cells": [
  {
   "cell_type": "markdown",
   "id": "9920be37",
   "metadata": {},
   "source": [
    "Problem Statement:\n",
    " You work in XYZ Corporation as a Python Developer. Your corporation has told you to\n",
    " work with the methods, and functions in Python.\n",
    " Tasks To BePerformed:\n",
    " 1. Create a class named ‘Super’ and inside that class define a user-defined\n",
    " function named fun1\n",
    " a. Inside the ‘fun1’ function, pass the message “This is function 1 in the Super\n",
    " class.” in the print statement.\n",
    " 2. Create another class named ‘Modified_Super’ and inherit this class from\n",
    " the Super class\n",
    " a. Inside the Modified_Super class, create a function named ‘fun1’ and pass\n",
    " the following message inside the print statement: ‘This is function 1 in the Modified\n",
    " Super class.’\n",
    " b. Create another user-defined function named ‘fun2’ and pass the\n",
    " message: ‘This is the 2 nd function from the Modified Super class’ in the print\n",
    " statement.\n",
    " c. After that, now create an object for the Modified_Super class and call the fun1().\n",
    " 3. Create 2 methods named ‘Hello’. In the 1st Hello method, pass only one\n",
    " argument and pass this message: ‘This function is only having 1\n",
    " argument’. And in the 2nd Hello method, pass two arguments and pass\n",
    " this message: ‘This function is having 2 arguments’.\n",
    " a. Try to call both the methods and analyze the output of both the methods.\n",
    " 4. Create a method named ‘Sum’ that can accept multiple user inputs. Now\n",
    " add those user defined input values using for loop and the function should\n",
    " return the addition of the numbers.\n",
    " 5. Create a class named ‘Encapsulation’:\n",
    " a. Inside the class, first create a constructor. Inside the constructor,\n",
    " initialize originalValue variable as 10.\n",
    " b. After creating the constructor, define a function named ‘Value’ and this\n",
    " function should return the variable that we have initialized in the\n",
    " constructor.\n",
    " c. Now create a 2nd function named setValue, and pass an argument\n",
    " named ‘newValue’. The task of this function will be to replace the value of\n",
    " the originalValue variable by the value of newValue variable."
   ]
  },
  {
   "cell_type": "code",
   "execution_count": 9,
   "id": "86d12435",
   "metadata": {},
   "outputs": [
    {
     "name": "stdout",
     "output_type": "stream",
     "text": [
      "This is function 1 in the Super class.\n"
     ]
    }
   ],
   "source": [
    "class Super:\n",
    "    def fun1(self):\n",
    "        print(\"This is function 1 in the Super class.\")\n",
    "obj = Super()\n",
    "obj.fun1()"
   ]
  },
  {
   "cell_type": "code",
   "execution_count": 10,
   "id": "9e0891a6",
   "metadata": {},
   "outputs": [
    {
     "name": "stdout",
     "output_type": "stream",
     "text": [
      "This is function 1 in the Modified Super class.\n",
      "This is the 2nd function from the Modified Super class.\n"
     ]
    }
   ],
   "source": [
    "class Super:\n",
    "    def fun1(self):\n",
    "        print(\"This is function 1 in the Super class.\")\n",
    "\n",
    "class Modified_Super(Super):\n",
    "    def fun1(self):\n",
    "        print(\"This is function 1 in the Modified Super class.\")\n",
    "\n",
    "    def fun2(self):\n",
    "        print(\"This is the 2nd function from the Modified Super class.\")\n",
    "\n",
    "# Create an object of Modified_Super and call fun1()\n",
    "obj = Modified_Super()\n",
    "obj.fun1()\n",
    "obj.fun2()\n"
   ]
  },
  {
   "cell_type": "code",
   "execution_count": 11,
   "id": "c8ac9955",
   "metadata": {},
   "outputs": [
    {
     "ename": "TypeError",
     "evalue": "Test.Hello() missing 1 required positional argument: 'b'",
     "output_type": "error",
     "traceback": [
      "\u001b[31m---------------------------------------------------------------------------\u001b[39m",
      "\u001b[31mTypeError\u001b[39m                                 Traceback (most recent call last)",
      "\u001b[36mCell\u001b[39m\u001b[36m \u001b[39m\u001b[32mIn[11]\u001b[39m\u001b[32m, line 9\u001b[39m\n\u001b[32m      6\u001b[39m         \u001b[38;5;28mprint\u001b[39m(\u001b[33m\"\u001b[39m\u001b[33mThis function is having 2 arguments\u001b[39m\u001b[33m\"\u001b[39m)\n\u001b[32m      8\u001b[39m obj = Test()\n\u001b[32m----> \u001b[39m\u001b[32m9\u001b[39m \u001b[43mobj\u001b[49m\u001b[43m.\u001b[49m\u001b[43mHello\u001b[49m\u001b[43m(\u001b[49m\u001b[33;43m\"\u001b[39;49m\u001b[33;43mHi\u001b[39;49m\u001b[33;43m\"\u001b[39;49m\u001b[43m)\u001b[49m\n\u001b[32m     10\u001b[39m obj.Hello(\u001b[33m\"\u001b[39m\u001b[33mHi\u001b[39m\u001b[33m\"\u001b[39m,\u001b[33m\"\u001b[39m\u001b[33mJohn\u001b[39m\u001b[33m\"\u001b[39m)\n",
      "\u001b[31mTypeError\u001b[39m: Test.Hello() missing 1 required positional argument: 'b'"
     ]
    }
   ],
   "source": [
    "class Test:\n",
    "    def Hello(self, a):\n",
    "        print(\"This function is only having 1 argument\")\n",
    "\n",
    "    def Hello(self, a, b):\n",
    "        print(\"This function is having 2 arguments\")\n",
    "\n",
    "obj = Test()\n",
    "obj.Hello(\"Hi\")\n",
    "obj.Hello(\"Hi\",\"John\")"
   ]
  },
  {
   "cell_type": "code",
   "execution_count": null,
   "id": "2ee54bdb",
   "metadata": {},
   "outputs": [
    {
     "name": "stdout",
     "output_type": "stream",
     "text": [
      "This function is only having 1 argument\n",
      "This function is having 2 arguments\n"
     ]
    }
   ],
   "source": [
    "#Variable length method\n",
    "class Greet:\n",
    "    def Hello(self, *args):\n",
    "        if len(args) == 1:\n",
    "            print(\"This function is only having 1 argument\")\n",
    "        elif len(args) == 2:\n",
    "            print(\"This function is having 2 arguments\")\n",
    "        else:\n",
    "            print(\"Unsupported number of arguments\")\n",
    "\n",
    "# Example calls\n",
    "obj = Greet()\n",
    "obj.Hello(\"Hi\")             # Output: This function is only having 1 argument\n",
    "obj.Hello(\"Hi\", \"Hello\")    # Output: This function is having 2 arguments"
   ]
  },
  {
   "cell_type": "code",
   "execution_count": null,
   "id": "ad131c54",
   "metadata": {},
   "outputs": [
    {
     "name": "stdout",
     "output_type": "stream",
     "text": [
      "The sum is: 15\n"
     ]
    }
   ],
   "source": [
    "class Calculator:\n",
    "    def Sum(self):\n",
    "        numbers = input(\"Enter numbers separated by space: \")\n",
    "        num_list = [int(n) for n in numbers.split()]\n",
    "        \n",
    "        total = 0\n",
    "        for num in num_list:\n",
    "            total += num\n",
    "        \n",
    "        return total\n",
    "\n",
    "# Example usage\n",
    "calc = Calculator()\n",
    "result = calc.Sum()\n",
    "print(\"The sum is:\", result)"
   ]
  },
  {
   "cell_type": "code",
   "execution_count": null,
   "id": "2e89b13f",
   "metadata": {},
   "outputs": [
    {
     "name": "stdout",
     "output_type": "stream",
     "text": [
      "Initial Value: 10\n",
      "Updated Value: 20\n"
     ]
    }
   ],
   "source": [
    "class Encapsulation:\n",
    "    def __init__(self):\n",
    "        self.originalValue = 10  \n",
    "\n",
    "    def Value(self):\n",
    "        return self.originalValue \n",
    "\n",
    "    def setValue(self, newValue):\n",
    "        self.originalValue = newValue \n",
    "\n",
    "\n",
    "obj = Encapsulation()\n",
    "\n",
    "\n",
    "print(\"Initial Value:\", obj.Value()) \n",
    "\n",
    "obj.setValue(20)\n",
    "\n",
    "print(\"Updated Value:\", obj.Value()) \n"
   ]
  }
 ],
 "metadata": {
  "kernelspec": {
   "display_name": "Python 3",
   "language": "python",
   "name": "python3"
  },
  "language_info": {
   "codemirror_mode": {
    "name": "ipython",
    "version": 3
   },
   "file_extension": ".py",
   "mimetype": "text/x-python",
   "name": "python",
   "nbconvert_exporter": "python",
   "pygments_lexer": "ipython3",
   "version": "3.13.3"
  }
 },
 "nbformat": 4,
 "nbformat_minor": 5
}
