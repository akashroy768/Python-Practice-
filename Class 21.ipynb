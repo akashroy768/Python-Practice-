{
 "cells": [
  {
   "cell_type": "code",
   "execution_count": 53,
   "id": "efcd8c45-b7df-43a9-98ed-a5a11567e4c3",
   "metadata": {},
   "outputs": [
    {
     "data": {
      "text/html": [
       "<div>\n",
       "<style scoped>\n",
       "    .dataframe tbody tr th:only-of-type {\n",
       "        vertical-align: middle;\n",
       "    }\n",
       "\n",
       "    .dataframe tbody tr th {\n",
       "        vertical-align: top;\n",
       "    }\n",
       "\n",
       "    .dataframe thead th {\n",
       "        text-align: right;\n",
       "    }\n",
       "</style>\n",
       "<table border=\"1\" class=\"dataframe\">\n",
       "  <thead>\n",
       "    <tr style=\"text-align: right;\">\n",
       "      <th></th>\n",
       "      <th>Name</th>\n",
       "      <th>Salary</th>\n",
       "    </tr>\n",
       "  </thead>\n",
       "  <tbody>\n",
       "    <tr>\n",
       "      <th>0</th>\n",
       "      <td>john</td>\n",
       "      <td>5000</td>\n",
       "    </tr>\n",
       "    <tr>\n",
       "      <th>1</th>\n",
       "      <td>james</td>\n",
       "      <td>6000</td>\n",
       "    </tr>\n",
       "  </tbody>\n",
       "</table>\n",
       "</div>"
      ],
      "text/plain": [
       "    Name Salary\n",
       "0   john   5000\n",
       "1  james   6000"
      ]
     },
     "execution_count": 53,
     "metadata": {},
     "output_type": "execute_result"
    }
   ],
   "source": [
    "#creating a dataframe using numpy array:\n",
    "import numpy as np\n",
    "import pandas as pd\n",
    "\n",
    "array=np.array([[5000,6000],[\"john\",\"james\"]])\n",
    "df = pd.DataFrame({\"Name\":array[1],\"Salary\":array[0]})\n",
    "\n",
    "df"
   ]
  },
  {
   "cell_type": "code",
   "execution_count": 7,
   "id": "1e18c4d8-a302-4cc3-833a-cf61c08d3251",
   "metadata": {},
   "outputs": [],
   "source": [
    "df = pd.DataFrame(np.random.randint(0,10,(3,3)),columns = ['x1','x2','x3'])"
   ]
  },
  {
   "cell_type": "code",
   "execution_count": null,
   "id": "e8a57d5c-b8e9-4608-93d3-3ddbe92c5f54",
   "metadata": {},
   "outputs": [],
   "source": [
    "import pandas as pd\n",
    "import numpy as np"
   ]
  },
  {
   "cell_type": "code",
   "execution_count": 9,
   "id": "090fa5ac-2b0a-4e70-800b-31c943fe8fb0",
   "metadata": {},
   "outputs": [
    {
     "data": {
      "text/html": [
       "<div>\n",
       "<style scoped>\n",
       "    .dataframe tbody tr th:only-of-type {\n",
       "        vertical-align: middle;\n",
       "    }\n",
       "\n",
       "    .dataframe tbody tr th {\n",
       "        vertical-align: top;\n",
       "    }\n",
       "\n",
       "    .dataframe thead th {\n",
       "        text-align: right;\n",
       "    }\n",
       "</style>\n",
       "<table border=\"1\" class=\"dataframe\">\n",
       "  <thead>\n",
       "    <tr style=\"text-align: right;\">\n",
       "      <th></th>\n",
       "      <th>x1</th>\n",
       "      <th>x2</th>\n",
       "      <th>x3</th>\n",
       "    </tr>\n",
       "  </thead>\n",
       "  <tbody>\n",
       "    <tr>\n",
       "      <th>0</th>\n",
       "      <td>3</td>\n",
       "      <td>9</td>\n",
       "      <td>5</td>\n",
       "    </tr>\n",
       "    <tr>\n",
       "      <th>1</th>\n",
       "      <td>5</td>\n",
       "      <td>2</td>\n",
       "      <td>0</td>\n",
       "    </tr>\n",
       "    <tr>\n",
       "      <th>2</th>\n",
       "      <td>8</td>\n",
       "      <td>6</td>\n",
       "      <td>3</td>\n",
       "    </tr>\n",
       "  </tbody>\n",
       "</table>\n",
       "</div>"
      ],
      "text/plain": [
       "   x1  x2  x3\n",
       "0   3   9   5\n",
       "1   5   2   0\n",
       "2   8   6   3"
      ]
     },
     "execution_count": 9,
     "metadata": {},
     "output_type": "execute_result"
    }
   ],
   "source": [
    "df"
   ]
  },
  {
   "cell_type": "code",
   "execution_count": null,
   "id": "3b7aa63e-976b-4405-8127-51fa5ec9ae57",
   "metadata": {},
   "outputs": [],
   "source": [
    "#concatenation in pandas "
   ]
  },
  {
   "cell_type": "code",
   "execution_count": 15,
   "id": "2985dfc1-776d-46c6-a3d5-b019d663ff10",
   "metadata": {},
   "outputs": [
    {
     "name": "stdout",
     "output_type": "stream",
     "text": [
      "    A   B\n",
      "0  A0  B0\n",
      "1  A1  B1\n",
      "2  A2  B2\n",
      "    A   B\n",
      "0  A3  B3\n",
      "1  A4  B1\n",
      "2  A5  B2\n",
      "    A   B\n",
      "0  A0  B0\n",
      "1  A1  B1\n",
      "2  A2  B2\n",
      "0  A3  B3\n",
      "1  A4  B1\n",
      "2  A5  B2\n"
     ]
    }
   ],
   "source": [
    "#ex:1 \n",
    "import pandas as pd\n",
    "\n",
    "df1 = pd.DataFrame({\n",
    "    'A':['A0','A1','A2'],\n",
    "    'B':['B0','B1','B2']\n",
    "\n",
    "})\n",
    "print(df1)\n",
    "\n",
    "df2 = pd.DataFrame({\n",
    "    'A':['A3','A4','A5'],\n",
    "    'B':['B3','B1','B2']\n",
    "\n",
    "})\n",
    "print(df2)\n",
    "result = pd.concat([df1,df2])\n",
    "print(result)"
   ]
  },
  {
   "cell_type": "code",
   "execution_count": 17,
   "id": "c9a99073-bac5-4a0d-8f3c-8bbbff2b6be7",
   "metadata": {},
   "outputs": [
    {
     "name": "stdout",
     "output_type": "stream",
     "text": [
      "    A   B   A   B\n",
      "0  A0  B0  A3  B3\n",
      "1  A1  B1  A4  B1\n",
      "2  A2  B2  A5  B2\n"
     ]
    }
   ],
   "source": [
    "#ex :2 :Concatenation Along columns (axis=1)\n",
    "result = pd.concat([df1,df2], axis=1)\n",
    "\n",
    "print(result)"
   ]
  },
  {
   "cell_type": "code",
   "execution_count": 19,
   "id": "95da51f7-4ec7-4674-8e49-f9aaf1ad8b38",
   "metadata": {},
   "outputs": [
    {
     "name": "stdout",
     "output_type": "stream",
     "text": [
      "    A   B\n",
      "0  A0  B0\n",
      "1  A1  B1\n",
      "2  A2  B2\n",
      "3  A3  B3\n",
      "4  A4  B1\n",
      "5  A5  B2\n"
     ]
    }
   ],
   "source": [
    "import pandas as pd\n",
    "#create two dataframes\n",
    "result = pd.concat([df1,df2], ignore_index = True)\n",
    "print(result)"
   ]
  },
  {
   "cell_type": "code",
   "execution_count": 21,
   "id": "115e92b9-5752-41a3-9dda-ce7d5722ebe8",
   "metadata": {},
   "outputs": [
    {
     "name": "stdout",
     "output_type": "stream",
     "text": [
      "  key  value\n",
      "0   A      1\n",
      "1   B      2\n",
      "2   C      3\n",
      "3   D      4\n",
      "  key  value\n",
      "0   B      5\n",
      "1   D      6\n",
      "2   E      7\n",
      "3   F      8\n",
      "  key  value_x  value_y\n",
      "0   B        2        5\n",
      "1   D        4        6\n"
     ]
    }
   ],
   "source": [
    "#1.inner merge:\n",
    "\n",
    "df1 =pd.DataFrame({\n",
    "    'key':['A','B','C','D'],\n",
    "    'value':[1,2,3,4]\n",
    "})\n",
    "print(df1)\n",
    "df2 = pd.DataFrame({\n",
    "    'key':['B','D','E','F'],\n",
    "    'value':[5,6,7,8]\n",
    "})\n",
    "\n",
    "print(df2)\n",
    "\n",
    "result = pd.merge(df1,df2, on='key',how = 'inner')  #here we will always focus on keys not values bcoz values is changed\n",
    "print(result)"
   ]
  },
  {
   "cell_type": "code",
   "execution_count": 23,
   "id": "a3fbd933-8502-44f3-aa0d-f236de69912d",
   "metadata": {},
   "outputs": [
    {
     "name": "stdout",
     "output_type": "stream",
     "text": [
      "  key  value_x  value_y\n",
      "0   B      2.0        5\n",
      "1   D      4.0        6\n",
      "2   E      NaN        7\n",
      "3   F      NaN        8\n"
     ]
    }
   ],
   "source": [
    "#right merge\n",
    "result = pd.merge(df1,df2, on='key',how = 'right')  #here we will always focus on keys not values bcoz values is changed\n",
    "print(result)"
   ]
  },
  {
   "cell_type": "code",
   "execution_count": 25,
   "id": "6ac65991-9fb3-4634-ba4b-fed956b52373",
   "metadata": {},
   "outputs": [
    {
     "name": "stdout",
     "output_type": "stream",
     "text": [
      "  key  value_x  value_y\n",
      "0   A        1      NaN\n",
      "1   B        2      5.0\n",
      "2   C        3      NaN\n",
      "3   D        4      6.0\n"
     ]
    }
   ],
   "source": [
    "#3.left merge\n",
    "result = pd.merge(df1,df2, on='key',how = 'left')  #here we will always focus on keys not values bcoz values is changed\n",
    "print(result)"
   ]
  },
  {
   "cell_type": "code",
   "execution_count": 27,
   "id": "ecb0078f-6b83-49ca-9347-1806677be01e",
   "metadata": {},
   "outputs": [
    {
     "name": "stdout",
     "output_type": "stream",
     "text": [
      "  key  value_x  value_y\n",
      "0   A      1.0      NaN\n",
      "1   B      2.0      5.0\n",
      "2   C      3.0      NaN\n",
      "3   D      4.0      6.0\n",
      "4   E      NaN      7.0\n",
      "5   F      NaN      8.0\n"
     ]
    }
   ],
   "source": [
    "#4.outer merge \n",
    "result = pd.merge(df1,df2, on='key',how = 'outer')  #here we will always focus on keys not values bcoz values is changed\n",
    "print(result)"
   ]
  },
  {
   "cell_type": "code",
   "execution_count": 59,
   "id": "77f56745-7cff-4940-9bb7-7eabe8298658",
   "metadata": {},
   "outputs": [
    {
     "name": "stdout",
     "output_type": "stream",
     "text": [
      "             Unnamed: 0   mpg  cyl   disp   hp  drat     wt   qsec  vs  am  \\\n",
      "0             Mazda RX4  21.0    6  160.0  110  3.90  2.620  16.46   0   1   \n",
      "1         Mazda RX4 Wag  21.0    6  160.0  110  3.90  2.875  17.02   0   1   \n",
      "2            Datsun 710  22.8    4  108.0   93  3.85  2.320  18.61   1   1   \n",
      "3        Hornet 4 Drive  21.4    6  258.0  110  3.08  3.215  19.44   1   0   \n",
      "4           Merc 450SLC  15.2    8  275.8  180  3.07  3.780  18.00   0   0   \n",
      "5     Hornet Sportabout  18.7    8  360.0  175  3.15  3.440  17.02   0   0   \n",
      "6               Valiant  18.1    6  225.0  105  2.76  3.460  17.02   1   0   \n",
      "7            Duster 360  14.3    8  360.0  245  3.21  3.570  15.84   0   0   \n",
      "8             Merc 240D  24.4    4  146.7   62  3.69  3.190  20.00   1   0   \n",
      "9              Merc 230  22.8    4  140.8   95  3.92  3.150  22.90   1   0   \n",
      "10             Merc 280  19.2    6  167.6  123  3.92  3.440  18.30   1   0   \n",
      "11            Merc 280C  17.8    6  167.6  123  3.92  3.440  18.90   1   0   \n",
      "12           Merc 450SE  16.4    8  275.8  180  3.07  4.070  17.40   0   0   \n",
      "13   Cadillac Fleetwood  10.4    8  472.0  205  2.93  5.250  17.98   0   0   \n",
      "14           Merc 450SL  17.3    8  275.8  180  3.07  3.730  17.60   0   0   \n",
      "15          Merc 450SLC  15.2    8  275.8  180  3.07  3.780  18.00   0   0   \n",
      "16          AMC Javelin  15.2    8  304.0  150  3.15  3.435  17.30   0   0   \n",
      "17   Cadillac Fleetwood  10.4    8  472.0  205  2.93  5.250  17.98   0   0   \n",
      "18  Lincoln Continental  10.4    8  460.0  215  3.00  5.424  17.82   0   0   \n",
      "19    Chrysler Imperial  14.7    8  440.0  230  3.23  5.345  17.42   0   0   \n",
      "20             Fiat 128  32.4    4   78.7   66  4.08  2.200  17.42   1   1   \n",
      "21          Honda Civic  30.4    4   75.7   52  4.93  1.615  18.52   1   1   \n",
      "22       Toyota Corolla  33.9    4   71.1   65  4.22  1.835  19.90   1   1   \n",
      "23        Toyota Corona  21.5    4  120.1   97  3.70  2.465  20.01   1   0   \n",
      "24          AMC Javelin  15.2    8  304.0  150  3.15  3.435  17.30   0   0   \n",
      "25     Dodge Challenger  15.5    8  318.0  150  2.76  3.520  16.87   0   0   \n",
      "26          AMC Javelin  15.2    8  304.0  150  3.15  3.435  17.30   0   0   \n",
      "27           Camaro Z28  13.3    8  350.0  245  3.73  3.840  15.41   0   0   \n",
      "28     Pontiac Firebird  19.2    8  400.0  175  3.08  3.845  17.05   0   0   \n",
      "29            Fiat X1-9  27.3    4   79.0   66  4.08  1.935  17.05   1   1   \n",
      "30        Porsche 914-2  26.0    4  120.3   91  4.43  2.140  16.70   0   1   \n",
      "31         Lotus Europa  30.4    4   95.1  113  3.77  1.513  16.90   1   1   \n",
      "32       Ford Pantera L  15.8    8  351.0  264  4.22  3.170  14.50   0   1   \n",
      "33         Ferrari Dino  19.7    6  145.0  175  3.62  2.770  15.50   0   1   \n",
      "34        Maserati Bora  15.0    8  301.0  335  3.54  3.570  14.60   0   1   \n",
      "35           Volvo 142E  21.4    4  121.0  109  4.11  2.780  18.60   1   1   \n",
      "36          AMC Javelin  15.2    8  304.0  150  3.15  3.435  17.30   0   0   \n",
      "37   Cadillac Fleetwood  10.4    8  472.0  205  2.93  5.250  17.98   0   0   \n",
      "38  Lincoln Continental  10.4    8  460.0  215  3.00  5.424  17.82   0   0   \n",
      "39    Chrysler Imperial  14.7    8  440.0  230  3.23  5.345  17.42   0   0   \n",
      "40             Fiat 128  32.4    4   78.7   66  4.08  2.200  17.42   1   1   \n",
      "41          Honda Civic  30.4    4   75.7   52  4.93  1.615  18.52   1   1   \n",
      "42       Toyota Corolla  33.9    4   71.1   65  4.22  1.835  19.90   1   1   \n",
      "43        Toyota Corona  21.5    4  120.1   97  3.70  2.465  20.01   1   0   \n",
      "\n",
      "    gear  carb  \n",
      "0      4     4  \n",
      "1      4     4  \n",
      "2      4     1  \n",
      "3      3     1  \n",
      "4      3     3  \n",
      "5      3     2  \n",
      "6      3     1  \n",
      "7      3     4  \n",
      "8      4     2  \n",
      "9      4     2  \n",
      "10     4     4  \n",
      "11     4     4  \n",
      "12     3     3  \n",
      "13     3     4  \n",
      "14     3     3  \n",
      "15     3     3  \n",
      "16     3     2  \n",
      "17     3     4  \n",
      "18     3     4  \n",
      "19     3     4  \n",
      "20     4     1  \n",
      "21     4     2  \n",
      "22     4     1  \n",
      "23     3     1  \n",
      "24     3     2  \n",
      "25     3     2  \n",
      "26     3     2  \n",
      "27     3     4  \n",
      "28     3     2  \n",
      "29     4     1  \n",
      "30     5     2  \n",
      "31     5     2  \n",
      "32     5     4  \n",
      "33     5     6  \n",
      "34     5     8  \n",
      "35     4     2  \n",
      "36     3     2  \n",
      "37     3     4  \n",
      "38     3     4  \n",
      "39     3     4  \n",
      "40     4     1  \n",
      "41     4     2  \n",
      "42     4     1  \n",
      "43     3     1  \n"
     ]
    }
   ],
   "source": [
    "import pandas as pd \n",
    "\n",
    "file_path = \"D:/Documents/Documents/Besant technology/5.python/code/mtcars2.csv\"\n",
    "\n",
    "cars = pd.read_csv(file_path)\n",
    "print(cars)"
   ]
  }
 ],
 "metadata": {
  "kernelspec": {
   "display_name": "Python 3 (ipykernel)",
   "language": "python",
   "name": "python3"
  },
  "language_info": {
   "codemirror_mode": {
    "name": "ipython",
    "version": 3
   },
   "file_extension": ".py",
   "mimetype": "text/x-python",
   "name": "python",
   "nbconvert_exporter": "python",
   "pygments_lexer": "ipython3",
   "version": "3.12.4"
  }
 },
 "nbformat": 4,
 "nbformat_minor": 5
}
