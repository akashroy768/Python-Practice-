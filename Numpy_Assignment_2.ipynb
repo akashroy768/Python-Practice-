{
 "cells": [
  {
   "cell_type": "markdown",
   "id": "ec919252",
   "metadata": {},
   "source": [
    "Problem Statement:\n",
    "You work in XYZ Corporation as a Data Analyst. Your corporation has told you to \n",
    "use the NumPy package and do some tasks related to that.\n",
    "Tasks To Be Performed:\n",
    "1. Create a 3x3 matrix array with values ranging from 2 to 10.\n",
    "2. Create a NumPy array having user input values and convert the integer\n",
    "type to the float type of the elements of the array. For instance: Original\n",
    "array [1, 2, 3, 4] Array converted to a float type: [ 1. 2. 3. 4.]\n",
    "3. Write a NumPy program to append values to the end of an array. For\n",
    "instance: Original array: [10, 20, 30] . After that, append values to the end\n",
    "of the array: [10 20 30 40 50 60 70 80 90]\n",
    "4. Create two NumPy arrays and add the elements of both the arrays and\n",
    "store the result in sumArray.\n",
    "5. Create a 3x3 array having values from 10-90 (interval of 10) and store that\n",
    "in array1\n",
    "Perform the following tasks:\n",
    "a. Extract the 1st row from the array\n",
    "b. Extract the last element from the array"
   ]
  },
  {
   "cell_type": "code",
   "execution_count": 7,
   "id": "efc3fbda",
   "metadata": {},
   "outputs": [],
   "source": [
    "import numpy as np"
   ]
  },
  {
   "cell_type": "code",
   "execution_count": 8,
   "id": "feb16eef",
   "metadata": {},
   "outputs": [
    {
     "name": "stdout",
     "output_type": "stream",
     "text": [
      "[[ 2  3  4]\n",
      " [ 5  6  7]\n",
      " [ 8  9 10]]\n"
     ]
    }
   ],
   "source": [
    "matrix = np.arange(2, 11).reshape(3, 3)\n",
    "\n",
    "print(matrix)"
   ]
  },
  {
   "cell_type": "code",
   "execution_count": 9,
   "id": "df07c047",
   "metadata": {},
   "outputs": [
    {
     "name": "stdout",
     "output_type": "stream",
     "text": [
      "1 2 3 4 5 6 7 8\n",
      "Float array: [1. 2. 3. 4. 5. 6. 7. 8.]\n"
     ]
    }
   ],
   "source": [
    "user_input = input(\"Enter numbers: \")\n",
    "print(user_input)\n",
    "float_array = np.array(user_input.split(), dtype=float)\n",
    "print(\"Float array:\", float_array)"
   ]
  },
  {
   "cell_type": "code",
   "execution_count": 10,
   "id": "8b317961",
   "metadata": {},
   "outputs": [
    {
     "name": "stdout",
     "output_type": "stream",
     "text": [
      "Original array: [10 20 30]\n",
      "After appending: [10 20 30 40 50 60 70 80 90]\n"
     ]
    }
   ],
   "source": [
    "original_array = np.array([10, 20, 30])\n",
    "print(\"Original array:\", original_array)\n",
    "values_to_append = [40, 50, 60, 70, 80, 90]\n",
    "new_array = np.append(original_array, values_to_append)\n",
    "print(\"After appending:\", new_array)"
   ]
  },
  {
   "cell_type": "code",
   "execution_count": 11,
   "id": "93beb858",
   "metadata": {},
   "outputs": [
    {
     "name": "stdout",
     "output_type": "stream",
     "text": [
      "Array 1: [1 2 3]\n",
      "Array 2: [4 5 6]\n",
      "Sum Array: [5 7 9]\n"
     ]
    }
   ],
   "source": [
    "array1 = np.array([1, 2, 3])\n",
    "array2 = np.array([4, 5, 6])\n",
    "\n",
    "sumArray = np.add(array1,array2)\n",
    "\n",
    "print(\"Array 1:\", array1)\n",
    "print(\"Array 2:\", array2)\n",
    "print(\"Sum Array:\", sumArray)\n"
   ]
  },
  {
   "cell_type": "code",
   "execution_count": 12,
   "id": "af179906",
   "metadata": {},
   "outputs": [
    {
     "name": "stdout",
     "output_type": "stream",
     "text": [
      "Original 3x3 Array:\n",
      " [[10 20 30]\n",
      " [40 50 60]\n",
      " [70 80 90]]\n",
      "\n",
      "First row: [10 20 30]\n",
      "Last element: 90\n"
     ]
    }
   ],
   "source": [
    "array1 = np.arange(10, 100, 10).reshape(3, 3)\n",
    "print(\"Original 3x3 Array:\\n\", array1)\n",
    "\n",
    "first_row = array1[0]\n",
    "print(\"\\nFirst row:\", first_row)\n",
    "\n",
    "last_element = array1[-1, -1]\n",
    "print(\"Last element:\", last_element)\n"
   ]
  }
 ],
 "metadata": {
  "kernelspec": {
   "display_name": "Python 3",
   "language": "python",
   "name": "python3"
  },
  "language_info": {
   "codemirror_mode": {
    "name": "ipython",
    "version": 3
   },
   "file_extension": ".py",
   "mimetype": "text/x-python",
   "name": "python",
   "nbconvert_exporter": "python",
   "pygments_lexer": "ipython3",
   "version": "3.13.3"
  }
 },
 "nbformat": 4,
 "nbformat_minor": 5
}
