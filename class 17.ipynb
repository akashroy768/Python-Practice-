{
 "cells": [
  {
   "cell_type": "code",
   "execution_count": null,
   "id": "3b7cf265-a748-46a9-a18a-c6878f6813a8",
   "metadata": {},
   "outputs": [],
   "source": [
    "#Multiplication of numpy array"
   ]
  },
  {
   "cell_type": "code",
   "execution_count": 92,
   "id": "7031a0cd-859b-417b-b9e8-81a23297e216",
   "metadata": {},
   "outputs": [
    {
     "name": "stdout",
     "output_type": "stream",
     "text": [
      "Multiplication:\n",
      " [[ 7 16 12]\n",
      " [16  5  6]\n",
      " [ 8 18  2]]\n"
     ]
    }
   ],
   "source": [
    "array1 = np.array([[1,2,3],\n",
    "                   [4,5,3],\n",
    "                   [4,6,1]])\n",
    "array2 = np.array([[7,8,4],\n",
    "                   [4,1,2],\n",
    "                   [2,3,2]])\n",
    "\n",
    "product_array = array1 * array2\n",
    "print(\"Multiplication:\\n\",product_array)"
   ]
  },
  {
   "cell_type": "code",
   "execution_count": 94,
   "id": "62e636da-de67-4a02-a218-074f3d85da5c",
   "metadata": {},
   "outputs": [],
   "source": [
    "import numpy as np"
   ]
  },
  {
   "cell_type": "code",
   "execution_count": 96,
   "id": "61a06978-ae51-4b61-85f2-f296a3fb0c0f",
   "metadata": {},
   "outputs": [
    {
     "name": "stdout",
     "output_type": "stream",
     "text": [
      "Multiplication:\n",
      " [[ 2  6  6]\n",
      " [ 8 18  2]]\n"
     ]
    }
   ],
   "source": [
    "array1 = np.array([[1,2,3],\n",
    "                   [4,6,1]])\n",
    "array2 = np.array([2,3,2])\n",
    "\n",
    "product_array = array1 * array2\n",
    "print(\"Multiplication:\\n\",product_array)"
   ]
  },
  {
   "cell_type": "code",
   "execution_count": 26,
   "id": "6d9b0d32-c47a-45f0-a39f-05cf84b086a7",
   "metadata": {},
   "outputs": [],
   "source": [
    "#matrix multiplication"
   ]
  },
  {
   "cell_type": "code",
   "execution_count": 27,
   "id": "6a06eef0-c286-485c-99bd-a0b25e524797",
   "metadata": {},
   "outputs": [],
   "source": [
    "m*n, n*k #number of rows and numbers of columns should be same "
   ]
  },
  {
   "cell_type": "code",
   "execution_count": 28,
   "id": "a235c1dc-c0c0-4de7-9773-f78dd93a5e98",
   "metadata": {},
   "outputs": [],
   "source": [
    "x1 = np.random.randint(0,10,(2,2))\n",
    "x2 = np.random.randint(0,10,(2,2))"
   ]
  },
  {
   "cell_type": "code",
   "execution_count": 29,
   "id": "63a45efb-32b8-4d6d-9d09-c94bca3cb2ae",
   "metadata": {},
   "outputs": [
    {
     "data": {
      "text/plain": [
       "array([[3, 8],\n",
       "       [4, 8]])"
      ]
     },
     "execution_count": 29,
     "metadata": {},
     "output_type": "execute_result"
    }
   ],
   "source": [
    "x1"
   ]
  },
  {
   "cell_type": "code",
   "execution_count": 30,
   "id": "4b0bd041-6e99-4ef2-8c80-c3fcfbf1f1e7",
   "metadata": {},
   "outputs": [
    {
     "data": {
      "text/plain": [
       "array([[2, 9],\n",
       "       [3, 3]])"
      ]
     },
     "execution_count": 30,
     "metadata": {},
     "output_type": "execute_result"
    }
   ],
   "source": [
    "x2"
   ]
  },
  {
   "cell_type": "code",
   "execution_count": 31,
   "id": "f371deb1-88d8-4798-ad66-ab810704b76e",
   "metadata": {},
   "outputs": [
    {
     "data": {
      "text/plain": [
       "array([[30, 51],\n",
       "       [32, 60]])"
      ]
     },
     "execution_count": 31,
     "metadata": {},
     "output_type": "execute_result"
    }
   ],
   "source": [
    "np.dot(x1,x2)"
   ]
  },
  {
   "cell_type": "code",
   "execution_count": null,
   "id": "10a4a28a-d9a9-496c-82b0-9f68f27d8608",
   "metadata": {},
   "outputs": [],
   "source": [
    "#string functions"
   ]
  },
  {
   "cell_type": "code",
   "execution_count": 41,
   "id": "39e3d3ed-621d-460d-8568-833627ba63b1",
   "metadata": {},
   "outputs": [],
   "source": [
    "x = np.array([1,2,3,'data'])"
   ]
  },
  {
   "cell_type": "code",
   "execution_count": 43,
   "id": "be71fe2a-f752-4ebd-93e2-bdd8acf46e95",
   "metadata": {},
   "outputs": [
    {
     "data": {
      "text/plain": [
       "array(['1', '2', '3', 'data'], dtype='<U11')"
      ]
     },
     "execution_count": 43,
     "metadata": {},
     "output_type": "execute_result"
    }
   ],
   "source": [
    "x"
   ]
  },
  {
   "cell_type": "code",
   "execution_count": 45,
   "id": "d5b2c815-f364-4a70-b5d4-5c94e9ccd43d",
   "metadata": {},
   "outputs": [
    {
     "data": {
      "text/plain": [
       "array(['1', '2', '3', 'Data'], dtype='<U11')"
      ]
     },
     "execution_count": 45,
     "metadata": {},
     "output_type": "execute_result"
    }
   ],
   "source": [
    "np.char.capitalize(x)"
   ]
  },
  {
   "cell_type": "code",
   "execution_count": 48,
   "id": "2e690ea1-f8cd-46e3-b657-05c3708a4845",
   "metadata": {},
   "outputs": [
    {
     "data": {
      "text/plain": [
       "array(['****1*****', '****2*****', '****3*****', '***data***'],\n",
       "      dtype='<U10')"
      ]
     },
     "execution_count": 48,
     "metadata": {},
     "output_type": "execute_result"
    }
   ],
   "source": [
    "np.char.center(x,10,fillchar='*') #we can passing any special charcater or alphabets also"
   ]
  },
  {
   "cell_type": "code",
   "execution_count": 50,
   "id": "745f03eb-3e1a-4a00-850c-293e6461b0cc",
   "metadata": {},
   "outputs": [],
   "source": [
    "x=np.array([1,2,3,'data engineering'])"
   ]
  },
  {
   "cell_type": "code",
   "execution_count": 52,
   "id": "284879e0-b255-4831-bed4-0241ef59c7d5",
   "metadata": {},
   "outputs": [
    {
     "data": {
      "text/plain": [
       "array(['1', '2', '3', 'data engineering'], dtype='<U16')"
      ]
     },
     "execution_count": 52,
     "metadata": {},
     "output_type": "execute_result"
    }
   ],
   "source": [
    "x"
   ]
  },
  {
   "cell_type": "code",
   "execution_count": 54,
   "id": "75856404-ed80-4e56-b26c-f3cfbe2f158b",
   "metadata": {},
   "outputs": [
    {
     "name": "stdout",
     "output_type": "stream",
     "text": [
      "['1' '2' '3' 'DATA ENGINEERING']\n",
      "['1' '2' '3' 'data engineering']\n",
      "['1' '2' '3' 'Data Engineering']\n"
     ]
    }
   ],
   "source": [
    "print(np.char.upper(x))\n",
    "print(np.char.lower(x))\n",
    "print(np.char.title(x))\n"
   ]
  },
  {
   "cell_type": "code",
   "execution_count": 56,
   "id": "634cb5e4-18de-4c05-b0df-effa81f01f43",
   "metadata": {},
   "outputs": [
    {
     "data": {
      "text/plain": [
       "array([list(['1']), list(['2']), list(['3']),\n",
       "       list(['data', 'engineering'])], dtype=object)"
      ]
     },
     "execution_count": 56,
     "metadata": {},
     "output_type": "execute_result"
    }
   ],
   "source": [
    "np.char.split(x)"
   ]
  },
  {
   "cell_type": "code",
   "execution_count": 60,
   "id": "daa2903f-f67a-4dd2-9bd9-3fd9104e5648",
   "metadata": {},
   "outputs": [],
   "source": [
    "y = np.array([\"Data Science\",\"Machine Learning\"])"
   ]
  },
  {
   "cell_type": "code",
   "execution_count": 68,
   "id": "675c8fdb-6fe4-4159-80ad-13f9a8c0c86b",
   "metadata": {},
   "outputs": [
    {
     "data": {
      "text/plain": [
       "array([list(['Data Sci', 'nc', '']), list(['Machin', ' L', 'arning'])],\n",
       "      dtype=object)"
      ]
     },
     "execution_count": 68,
     "metadata": {},
     "output_type": "execute_result"
    }
   ],
   "source": [
    "np.char.split(y,sep='e')"
   ]
  },
  {
   "cell_type": "code",
   "execution_count": 64,
   "id": "d7459349-93a8-4711-a894-bace1948e39c",
   "metadata": {},
   "outputs": [
    {
     "data": {
      "text/plain": [
       "array([2, 2])"
      ]
     },
     "execution_count": 64,
     "metadata": {},
     "output_type": "execute_result"
    }
   ],
   "source": [
    "np.char.count(y,\"a\")"
   ]
  },
  {
   "cell_type": "code",
   "execution_count": 66,
   "id": "778cf5ee-77fa-4baa-a64d-7012b73927cd",
   "metadata": {},
   "outputs": [
    {
     "data": {
      "text/plain": [
       "array([2, 2])"
      ]
     },
     "execution_count": 66,
     "metadata": {},
     "output_type": "execute_result"
    }
   ],
   "source": [
    "np.char.count(y,\"a\")"
   ]
  },
  {
   "cell_type": "code",
   "execution_count": 70,
   "id": "d3188737-15a5-47f0-b921-d0bdbf24970e",
   "metadata": {},
   "outputs": [
    {
     "data": {
      "text/plain": [
       "array([False, False])"
      ]
     },
     "execution_count": 70,
     "metadata": {},
     "output_type": "execute_result"
    }
   ],
   "source": [
    "np.char.startswith(y,\"d\")"
   ]
  },
  {
   "cell_type": "code",
   "execution_count": 72,
   "id": "f2110f3f-5f2a-4bf0-8b38-291ffa8582e1",
   "metadata": {},
   "outputs": [
    {
     "data": {
      "text/plain": [
       "array(['Dxxxxxxxtxxxxxxx Science', 'Mxxxxxxxchine Lexxxxxxxrning'],\n",
       "      dtype='<U28')"
      ]
     },
     "execution_count": 72,
     "metadata": {},
     "output_type": "execute_result"
    }
   ],
   "source": [
    "np.char.replace(y,'a','xxxxxxx')"
   ]
  },
  {
   "cell_type": "code",
   "execution_count": 74,
   "id": "1b9d23b7-c7ae-4f11-ae57-860dba6d17f1",
   "metadata": {},
   "outputs": [
    {
     "data": {
      "text/plain": [
       "array(['********Data Science', '****Machine Learning'], dtype='<U20')"
      ]
     },
     "execution_count": 74,
     "metadata": {},
     "output_type": "execute_result"
    }
   ],
   "source": [
    "np.char.rjust(y,20,fillchar=\"*\")"
   ]
  },
  {
   "cell_type": "code",
   "execution_count": 76,
   "id": "e26f492d-03b6-48ab-b575-d796e48079b4",
   "metadata": {},
   "outputs": [
    {
     "data": {
      "text/plain": [
       "array(['Data Science********', 'Machine Learning****'], dtype='<U20')"
      ]
     },
     "execution_count": 76,
     "metadata": {},
     "output_type": "execute_result"
    }
   ],
   "source": [
    "np.char.ljust(y,20,fillchar=\"*\")"
   ]
  },
  {
   "cell_type": "code",
   "execution_count": null,
   "id": "966884fe-5ba2-4c44-84e7-d0e3b5282269",
   "metadata": {},
   "outputs": [],
   "source": [
    "#Time Base functions"
   ]
  },
  {
   "cell_type": "code",
   "execution_count": null,
   "id": "f8860d28-3912-448a-998e-2101bd30fd49",
   "metadata": {},
   "outputs": [],
   "source": [
    "import numpy as np\n",
    "#Creating two 2D arrays\n",
    "array1 = np.array"
   ]
  },
  {
   "cell_type": "code",
   "execution_count": 100,
   "id": "ade7b700-87b3-492d-b170-8e658bc7eba1",
   "metadata": {},
   "outputs": [
    {
     "name": "stdout",
     "output_type": "stream",
     "text": [
      "Division:\n",
      " [[ 3.33333333  5.          6.        ]\n",
      " [ 4.         10.         20.        ]]\n",
      "float64\n"
     ]
    }
   ],
   "source": [
    "#Division of array\n",
    "array1 = np.array([[10,20,30],\n",
    "                   [40,50,60]])\n",
    "array2 = np.array([[3,4,5],\n",
    "                 [10,5,3]])\n",
    "\n",
    "division_array = array1 / array2\n",
    "print(\"Division:\\n\",division_array)\n",
    "print(division_array.dtype)"
   ]
  },
  {
   "cell_type": "code",
   "execution_count": 78,
   "id": "7cc61b76-a95b-4e7a-9c7f-e239b5ca41ce",
   "metadata": {},
   "outputs": [
    {
     "name": "stdout",
     "output_type": "stream",
     "text": [
      "Original array: [1 2 3 4 5]\n",
      "Exponential of the array: [  2.71828183   7.3890561   20.08553692  54.59815003 148.4131591 ]\n"
     ]
    }
   ],
   "source": [
    "a = np.array([1,2,3,4,5])\n",
    "exp_a = np.exp(a)\n",
    "print(\"Original array:\",a)\n",
    "print(\"Exponential of the array:\",exp_a)"
   ]
  },
  {
   "cell_type": "code",
   "execution_count": 80,
   "id": "09ae19fc-a197-4b19-b0ef-7a2593fc333d",
   "metadata": {},
   "outputs": [
    {
     "data": {
      "text/plain": [
       "2.718281828459045"
      ]
     },
     "execution_count": 80,
     "metadata": {},
     "output_type": "execute_result"
    }
   ],
   "source": [
    "import math\n",
    "math.e"
   ]
  },
  {
   "cell_type": "code",
   "execution_count": 90,
   "id": "7690e2b0-487c-4d55-9fad-b2e93e86130a",
   "metadata": {},
   "outputs": [
    {
     "name": "stdout",
     "output_type": "stream",
     "text": [
      "sqrt of a: [1.41421356 2.         2.44948974]\n",
      "sin of a: [ 0.90929743 -0.7568025  -0.2794155 ]\n",
      "cos of a: [-0.41614684 -0.65364362  0.96017029]\n",
      "log of a: [0.69314718 1.38629436 1.79175947]\n"
     ]
    }
   ],
   "source": [
    "#expo, sqrt,sin,cos,log\n",
    "a=np.array([2,4,6])\n",
    "print(\"sqrt of a:\",np.sqrt(a))\n",
    "print(\"sin of a:\",np.sin(a))\n",
    "print(\"cos of a:\",np.cos(a))\n",
    "print(\"log of a:\",np.log(a))"
   ]
  },
  {
   "cell_type": "code",
   "execution_count": 102,
   "id": "6db542b6-d370-4d65-a120-bfd6f28532f6",
   "metadata": {},
   "outputs": [
    {
     "name": "stdout",
     "output_type": "stream",
     "text": [
      "Sum: 42\n",
      "Minimum Value: 1\n",
      "Mean Value: 5.25\n",
      "Median Value: 5.5\n",
      "Corelation Coefficient: 1.0\n",
      "Standard Deviation: 2.6339134382131846\n"
     ]
    }
   ],
   "source": [
    "#Aggregate functions\n",
    "a = np.array([1,2,4,5,6,7,8,9])\n",
    "print(\"Sum:\",np.sum(a))  #42\n",
    "print(\"Minimum Value:\",np.min(a))  #1\n",
    "print(\"Mean Value:\",np.mean(a))\n",
    "print(\"Median Value:\",np.median(a))\n",
    "print(\"Corelation Coefficient:\",np.corrcoef(a))\n",
    "print(\"Standard Deviation:\",np.std(a))\n"
   ]
  }
 ],
 "metadata": {
  "kernelspec": {
   "display_name": "Python 3 (ipykernel)",
   "language": "python",
   "name": "python3"
  },
  "language_info": {
   "codemirror_mode": {
    "name": "ipython",
    "version": 3
   },
   "file_extension": ".py",
   "mimetype": "text/x-python",
   "name": "python",
   "nbconvert_exporter": "python",
   "pygments_lexer": "ipython3",
   "version": "3.12.4"
  }
 },
 "nbformat": 4,
 "nbformat_minor": 5
}
