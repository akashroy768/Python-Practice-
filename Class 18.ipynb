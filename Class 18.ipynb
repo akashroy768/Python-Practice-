{
 "cells": [
  {
   "cell_type": "code",
   "execution_count": 17,
   "id": "7e001891-6629-4b37-8e5e-475d518fdd2b",
   "metadata": {},
   "outputs": [],
   "source": [
    "#Co-relation Coefficient:\n",
    "import numpy as np"
   ]
  },
  {
   "cell_type": "code",
   "execution_count": 18,
   "id": "37274b7f-53cf-4e34-9455-b2dd9797eab8",
   "metadata": {},
   "outputs": [],
   "source": [
    "data = np.random.randint(1,10,(5,5))"
   ]
  },
  {
   "cell_type": "code",
   "execution_count": 19,
   "id": "cd4c6b39-b5bb-4ae9-af79-56e5ae4ca61e",
   "metadata": {},
   "outputs": [
    {
     "data": {
      "text/plain": [
       "array([[4, 9, 3, 4, 4],\n",
       "       [3, 5, 1, 6, 9],\n",
       "       [1, 4, 9, 1, 8],\n",
       "       [2, 3, 7, 8, 6],\n",
       "       [6, 7, 5, 3, 3]])"
      ]
     },
     "execution_count": 19,
     "metadata": {},
     "output_type": "execute_result"
    }
   ],
   "source": [
    "data"
   ]
  },
  {
   "cell_type": "code",
   "execution_count": 20,
   "id": "a9f2a7cc-3a8a-473c-a18f-58ce40331101",
   "metadata": {},
   "outputs": [
    {
     "data": {
      "text/plain": [
       "array([[ 1.        ,  0.16571045, -0.20491148, -0.51781562,  0.63219542],\n",
       "       [ 0.16571045,  1.        , -0.00871843,  0.16558159, -0.56212246],\n",
       "       [-0.20491148, -0.00871843,  1.        ,  0.34224679, -0.16261091],\n",
       "       [-0.51781562,  0.16558159,  0.34224679,  1.        , -0.79907829],\n",
       "       [ 0.63219542, -0.56212246, -0.16261091, -0.79907829,  1.        ]])"
      ]
     },
     "execution_count": 20,
     "metadata": {},
     "output_type": "execute_result"
    }
   ],
   "source": [
    "np.corrcoef(data)"
   ]
  },
  {
   "cell_type": "code",
   "execution_count": 21,
   "id": "5fb90de9-b086-45de-97d1-da4557f1ecca",
   "metadata": {},
   "outputs": [
    {
     "data": {
      "text/plain": [
       "array([[ 1.  ,  0.17, -0.2 , -0.52,  0.63],\n",
       "       [ 0.17,  1.  , -0.01,  0.17, -0.56],\n",
       "       [-0.2 , -0.01,  1.  ,  0.34, -0.16],\n",
       "       [-0.52,  0.17,  0.34,  1.  , -0.8 ],\n",
       "       [ 0.63, -0.56, -0.16, -0.8 ,  1.  ]])"
      ]
     },
     "execution_count": 21,
     "metadata": {},
     "output_type": "execute_result"
    }
   ],
   "source": [
    "np.round(np.corrcoef(data),2)"
   ]
  },
  {
   "cell_type": "code",
   "execution_count": 22,
   "id": "a1171c0e-4215-4385-b917-61529c24fb19",
   "metadata": {},
   "outputs": [],
   "source": [
    "sales_data=np.random.randint(150,500,(10,5))"
   ]
  },
  {
   "cell_type": "code",
   "execution_count": 23,
   "id": "efee327b-5431-438d-9d93-0c490ff634cb",
   "metadata": {},
   "outputs": [],
   "source": [
    "sales_data=np.random.randint(150,500,(10,5))"
   ]
  },
  {
   "cell_type": "code",
   "execution_count": 31,
   "id": "59ae53c0-4789-4f55-a982-27b5298eda2d",
   "metadata": {},
   "outputs": [
    {
     "data": {
      "text/plain": [
       "array([[386, 492, 285, 460, 153],\n",
       "       [468, 368, 430, 340, 393],\n",
       "       [264, 178, 222, 262, 444],\n",
       "       [461, 445, 470, 203, 401],\n",
       "       [181, 284, 402, 208, 233],\n",
       "       [480, 263, 283, 355, 410],\n",
       "       [383, 192, 363, 276, 305],\n",
       "       [287, 498, 343, 430, 495],\n",
       "       [473, 476, 193, 406, 469],\n",
       "       [303, 442, 177, 321, 202]])"
      ]
     },
     "execution_count": 31,
     "metadata": {},
     "output_type": "execute_result"
    }
   ],
   "source": [
    "sales_data"
   ]
  },
  {
   "cell_type": "code",
   "execution_count": 33,
   "id": "86c6206d-1e06-406d-a268-619261169b7f",
   "metadata": {},
   "outputs": [
    {
     "data": {
      "text/plain": [
       "17258"
      ]
     },
     "execution_count": 33,
     "metadata": {},
     "output_type": "execute_result"
    }
   ],
   "source": [
    "sales_data.sum()"
   ]
  },
  {
   "cell_type": "code",
   "execution_count": 35,
   "id": "7ee2700e-5475-447f-85ab-172dd62fa8e4",
   "metadata": {},
   "outputs": [
    {
     "data": {
      "text/plain": [
       "3572"
      ]
     },
     "execution_count": 35,
     "metadata": {},
     "output_type": "execute_result"
    }
   ],
   "source": [
    "sales_data[6:8, :].sum()"
   ]
  },
  {
   "cell_type": "code",
   "execution_count": null,
   "id": "593234a8-5ba1-40b8-bef0-45a7b93881e8",
   "metadata": {},
   "outputs": [],
   "source": [
    "#defining a function"
   ]
  },
  {
   "cell_type": "code",
   "execution_count": 16,
   "id": "cca28fcc-6e6d-4b09-917b-29250b2bfe88",
   "metadata": {},
   "outputs": [],
   "source": [
    "def greet():\n",
    "    print(\"Hello Harshita\")"
   ]
  },
  {
   "cell_type": "code",
   "execution_count": 18,
   "id": "ca9e07a6-0256-4398-b848-751fd48b007c",
   "metadata": {},
   "outputs": [
    {
     "name": "stdout",
     "output_type": "stream",
     "text": [
      "Hello Harshita\n"
     ]
    }
   ],
   "source": [
    "greet()"
   ]
  },
  {
   "cell_type": "code",
   "execution_count": 20,
   "id": "7dab7722-1bff-41bd-99d1-dfdfa4a6b048",
   "metadata": {},
   "outputs": [
    {
     "name": "stdout",
     "output_type": "stream",
     "text": [
      "60\n"
     ]
    }
   ],
   "source": [
    "#Return Statement\n",
    "def multiply(a,b,c):\n",
    "    return a*b*c\n",
    "result = multiply(3,4,5)\n",
    "print(result)"
   ]
  },
  {
   "cell_type": "code",
   "execution_count": 37,
   "id": "386b9f6e-dbb0-4ffa-b2ef-48e21b48ae20",
   "metadata": {},
   "outputs": [
    {
     "name": "stdout",
     "output_type": "stream",
     "text": [
      "Good Morning, Coders!\n"
     ]
    }
   ],
   "source": [
    "def greet (arg):\n",
    "    print(f\"Good Morning, {arg}!\")\n",
    "greet(\"Coders\")"
   ]
  },
  {
   "cell_type": "code",
   "execution_count": 39,
   "id": "20e91c21-0731-40fa-a329-7341e5d0a81a",
   "metadata": {},
   "outputs": [
    {
     "name": "stdout",
     "output_type": "stream",
     "text": [
      "Good Morning, Students!\n"
     ]
    }
   ],
   "source": [
    "greet(\"Students\")"
   ]
  },
  {
   "cell_type": "code",
   "execution_count": 22,
   "id": "fc04b496-9e35-426e-9c84-0953f74518c9",
   "metadata": {},
   "outputs": [
    {
     "name": "stdout",
     "output_type": "stream",
     "text": [
      "6\n",
      "22\n"
     ]
    }
   ],
   "source": [
    "#Arbitary Arguments\n",
    "def add(*args):\n",
    "    return sum(args)\n",
    "print(add(1,2,3))  #output:6\n",
    "print(add(4,5,6,7))  #output:22"
   ]
  },
  {
   "cell_type": "code",
   "execution_count": 41,
   "id": "75b8d32c-ad05-4cae-8a09-958ca91d0d40",
   "metadata": {},
   "outputs": [
    {
     "name": "stdout",
     "output_type": "stream",
     "text": [
      "name:Alice\n",
      "age:30\n",
      "city:New york\n"
     ]
    }
   ],
   "source": [
    "def print_details(**kwargs):\n",
    "    for key, value in kwargs.items():\n",
    "        print(f\"{key}:{value}\")\n",
    "print_details(name=\"Alice\",age=30,city=\"New york\")"
   ]
  },
  {
   "cell_type": "code",
   "execution_count": null,
   "id": "47db3ae7-9cdc-4f7a-a928-0900c53e5d32",
   "metadata": {},
   "outputs": [],
   "source": [
    "#Lambda Functions"
   ]
  },
  {
   "cell_type": "code",
   "execution_count": 28,
   "id": "7f316e7d-cb8c-43a4-a6ab-8a7673a469eb",
   "metadata": {},
   "outputs": [
    {
     "name": "stdout",
     "output_type": "stream",
     "text": [
      "40\n"
     ]
    }
   ],
   "source": [
    "add = lambda a, b: a*b\n",
    "print(add(8,5))"
   ]
  },
  {
   "cell_type": "code",
   "execution_count": 30,
   "id": "da0d8355-ae68-455b-a380-d743d79350e6",
   "metadata": {},
   "outputs": [
    {
     "name": "stdout",
     "output_type": "stream",
     "text": [
      "13\n"
     ]
    }
   ],
   "source": [
    "def add(a,b):\n",
    "    return a+b\n",
    "print(add(8,5))\n",
    "\n",
    "add= lambda a,b:a+b"
   ]
  },
  {
   "cell_type": "code",
   "execution_count": 33,
   "id": "c00fbecb-178a-47c6-a30e-616ddc1b05e3",
   "metadata": {},
   "outputs": [
    {
     "name": "stdout",
     "output_type": "stream",
     "text": [
      "40\n"
     ]
    }
   ],
   "source": [
    "multiply = lambda a,b: a*b\n",
    "print(multiply(8,5))"
   ]
  },
  {
   "cell_type": "code",
   "execution_count": 45,
   "id": "7dd2cde9-9bc1-47e8-ac03-a725d916dd7e",
   "metadata": {},
   "outputs": [
    {
     "name": "stdout",
     "output_type": "stream",
     "text": [
      "125\n"
     ]
    }
   ],
   "source": [
    "Cube = lambda x:x *x*x\n",
    "print(Cube(5))"
   ]
  },
  {
   "cell_type": "code",
   "execution_count": 47,
   "id": "5d2b6e11-c18b-458f-8f2c-579bc447775e",
   "metadata": {},
   "outputs": [
    {
     "name": "stdout",
     "output_type": "stream",
     "text": [
      "-1\n"
     ]
    }
   ],
   "source": [
    "z= lambda x,y: x- y\n",
    "print(z(5,6))"
   ]
  },
  {
   "cell_type": "code",
   "execution_count": 49,
   "id": "265ab7ec-0e86-40a8-b360-cc2ea0a059c8",
   "metadata": {},
   "outputs": [
    {
     "name": "stdout",
     "output_type": "stream",
     "text": [
      "1\n",
      "3\n",
      "4\n",
      "array('i', [1, 10, 3, 4, 5])\n",
      "array('i', [1, 10, 3, 4, 5, 6])\n",
      "array('i', [1, 10, 3, 4, 5, 6, 7, 8, 9])\n",
      "array('i', [1, 3, 4, 5, 6, 7, 8, 9])\n",
      "array('i', [1, 3, 4, 5, 6, 7, 9])\n"
     ]
    }
   ],
   "source": [
    "import array as arr\n",
    "\n",
    "eg_array = arr.array('i',[1,2,3,4,5])\n",
    "print(eg_array[0])\n",
    "print(eg_array[2])\n",
    "print(eg_array[3])\n",
    "\n",
    "eg_array[1]=10\n",
    "print(eg_array)\n",
    "\n",
    "eg_array.append(6)\n",
    "print(eg_array)\n",
    "\n",
    "eg_array.extend([7,8,9])\n",
    "print(eg_array)\n",
    "\n",
    "eg_array.remove(10)\n",
    "print(eg_array)\n",
    "\n",
    "eg_array.pop(6)\n",
    "print(eg_array)\n",
    "\n",
    "\n",
    "\n"
   ]
  },
  {
   "cell_type": "code",
   "execution_count": null,
   "id": "a8255eef-8936-4315-a81f-1ca16d23e228",
   "metadata": {},
   "outputs": [],
   "source": []
  }
 ],
 "metadata": {
  "kernelspec": {
   "display_name": "Python 3 (ipykernel)",
   "language": "python",
   "name": "python3"
  },
  "language_info": {
   "codemirror_mode": {
    "name": "ipython",
    "version": 3
   },
   "file_extension": ".py",
   "mimetype": "text/x-python",
   "name": "python",
   "nbconvert_exporter": "python",
   "pygments_lexer": "ipython3",
   "version": "3.12.4"
  }
 },
 "nbformat": 4,
 "nbformat_minor": 5
}
