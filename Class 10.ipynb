{
 "cells": [
  {
   "cell_type": "code",
   "execution_count": null,
   "id": "691272a0-7c39-4c5b-afae-046349a9373b",
   "metadata": {},
   "outputs": [],
   "source": [
    "#loops"
   ]
  },
  {
   "cell_type": "code",
   "execution_count": 1,
   "id": "f3fdab52-ac68-48ee-80b1-f225de20504e",
   "metadata": {},
   "outputs": [
    {
     "name": "stdout",
     "output_type": "stream",
     "text": [
      "1a2b345"
     ]
    }
   ],
   "source": [
    "numbers = [1,'a',2,'b',3,4,5]\n",
    "for num in numbers:\n",
    "    print(num,end='')\n",
    "#print(numbers)"
   ]
  },
  {
   "cell_type": "code",
   "execution_count": 3,
   "id": "45b60d5a-2667-455d-84c4-7cff29438f2e",
   "metadata": {},
   "outputs": [
    {
     "data": {
      "text/plain": [
       "'datas'"
      ]
     },
     "execution_count": 3,
     "metadata": {},
     "output_type": "execute_result"
    }
   ],
   "source": [
    "\"datas\""
   ]
  },
  {
   "cell_type": "code",
   "execution_count": null,
   "id": "037292c1-7ddb-4665-a87e-cedbe9c4f440",
   "metadata": {},
   "outputs": [],
   "source": [
    "for i in \"datas\":\n",
    "    print("
   ]
  },
  {
   "cell_type": "code",
   "execution_count": null,
   "id": "4cdaa697-c3ab-4058-9e7c-eaee99853f4e",
   "metadata": {},
   "outputs": [],
   "source": []
  },
  {
   "cell_type": "code",
   "execution_count": 5,
   "id": "cd91f8b9-caa3-46f8-a37a-a899565b9918",
   "metadata": {},
   "outputs": [
    {
     "name": "stdout",
     "output_type": "stream",
     "text": [
      "2\n",
      "0\n"
     ]
    }
   ],
   "source": [
    "for i in \"20\":\n",
    "    print(i)"
   ]
  },
  {
   "cell_type": "code",
   "execution_count": 13,
   "id": "5e271841-dab1-4030-8b76-6c0e9aa38703",
   "metadata": {},
   "outputs": [
    {
     "name": "stdout",
     "output_type": "stream",
     "text": [
      "10,20,30,40,50,"
     ]
    }
   ],
   "source": [
    "for i in [1,2,3,4,5]:\n",
    "    print(i*10,end=',') #\\n- new line"
   ]
  },
  {
   "cell_type": "code",
   "execution_count": 15,
   "id": "c356c2d5-b621-4530-a30f-6e99582debfb",
   "metadata": {},
   "outputs": [
    {
     "name": "stdout",
     "output_type": "stream",
     "text": [
      "10\t20\t30\t40\t50\t"
     ]
    }
   ],
   "source": [
    "for i in [1,2,3,4,5]:\n",
    "    print(i*10,end='\\t')"
   ]
  },
  {
   "cell_type": "code",
   "execution_count": 17,
   "id": "c904daa9-ea56-454b-ad3e-87d746a087d1",
   "metadata": {},
   "outputs": [
    {
     "name": "stdout",
     "output_type": "stream",
     "text": [
      "*\n",
      "**\n",
      "***\n",
      "****\n",
      "*****\n"
     ]
    }
   ],
   "source": [
    "for i in [1,2,3,4,5]:\n",
    "    print(i*\"*\") #pattern programings "
   ]
  },
  {
   "cell_type": "code",
   "execution_count": null,
   "id": "480fdce8-033a-4b3a-aab9-13b00403fee5",
   "metadata": {},
   "outputs": [],
   "source": [
    "#create a pyramid"
   ]
  },
  {
   "cell_type": "code",
   "execution_count": 19,
   "id": "39573be2-049f-4981-acf7-05560dff4a07",
   "metadata": {},
   "outputs": [
    {
     "name": "stdout",
     "output_type": "stream",
     "text": [
      "*****\n",
      "****\n",
      "***\n",
      "**\n",
      "*\n"
     ]
    }
   ],
   "source": [
    "for i in [5,4,3,2,1]:\n",
    "    print(i*\"*\")"
   ]
  },
  {
   "cell_type": "code",
   "execution_count": 23,
   "id": "adb256e8-40fc-4466-8c6a-f612483d5884",
   "metadata": {},
   "outputs": [
    {
     "name": "stdout",
     "output_type": "stream",
     "text": [
      "0,1,2,3,4,5,6,7,8,9,"
     ]
    }
   ],
   "source": [
    "for i in range (0,10): #0,1,2,3,4,5,6,7,8,9\n",
    "    print(i,end=',')\n",
    "    "
   ]
  },
  {
   "cell_type": "code",
   "execution_count": 27,
   "id": "a7734108-8935-4bfc-92b3-7ee0fd8f4a78",
   "metadata": {},
   "outputs": [
    {
     "name": "stdout",
     "output_type": "stream",
     "text": [
      "0,1,2,3,4,5,6,7,8,9,10,11,12,13,14,15,16,17,18,19,20,21,22,23,24,25,26,27,28,29,30,31,32,33,34,35,36,37,38,39,40,41,42,43,44,45,46,47,48,49,50,51,52,53,54,55,56,57,58,59,60,61,62,63,64,65,66,67,68,69,70,71,72,73,74,75,76,77,78,79,80,81,82,83,84,85,86,87,88,89,90,91,92,93,94,95,96,97,98,99,100,"
     ]
    }
   ],
   "source": [
    "for i in range(0,101):\n",
    "    print(i,end=',')"
   ]
  },
  {
   "cell_type": "code",
   "execution_count": 29,
   "id": "a38c2ac2-db7d-470c-a8bd-9da54a5dd41d",
   "metadata": {},
   "outputs": [
    {
     "name": "stdout",
     "output_type": "stream",
     "text": [
      "0,2,4,6,8,"
     ]
    }
   ],
   "source": [
    "for i in range(0,10,2): #step size\n",
    "    print(i,end=',')"
   ]
  },
  {
   "cell_type": "code",
   "execution_count": 31,
   "id": "44803cf2-9697-4186-ae43-4d26ab402ca0",
   "metadata": {},
   "outputs": [
    {
     "name": "stdout",
     "output_type": "stream",
     "text": [
      "10,9,8,7,6,5,4,3,2,1,"
     ]
    }
   ],
   "source": [
    "for i in range(10,0,-1):\n",
    "    print(i,end=',')"
   ]
  },
  {
   "cell_type": "code",
   "execution_count": 51,
   "id": "14fa510b-7aeb-4c61-a15f-56634f3aff15",
   "metadata": {},
   "outputs": [
    {
     "name": "stdout",
     "output_type": "stream",
     "text": [
      "0,0 even\n",
      "1,1 odd\n",
      "2,2 even\n",
      "3,3 odd\n",
      "4,4 even\n",
      "5,5 odd\n",
      "6,6 even\n",
      "7,7 odd\n",
      "8,8 even\n",
      "9,9 odd\n"
     ]
    }
   ],
   "source": [
    "#print even numbers \n",
    "for i in range (0,10):\n",
    "   # print(i,end=',')\n",
    "    if i%2 == 0:\n",
    "       print(i,\"even\")\n",
    "    else:\n",
    "       print(i,\"odd\")"
   ]
  },
  {
   "cell_type": "code",
   "execution_count": 53,
   "id": "55248793-7c6b-487f-9cbb-e1449a20f2e5",
   "metadata": {},
   "outputs": [
    {
     "name": "stdout",
     "output_type": "stream",
     "text": [
      "DATA"
     ]
    }
   ],
   "source": [
    "for i in \"DATA12345\":  #print only data \n",
    "    if i.isalpha():\n",
    "        print(i,end='')"
   ]
  },
  {
   "cell_type": "code",
   "execution_count": 55,
   "id": "21b91477-e1d7-435c-b4f5-64c8829ed93e",
   "metadata": {},
   "outputs": [
    {
     "name": "stdout",
     "output_type": "stream",
     "text": [
      "12345"
     ]
    }
   ],
   "source": [
    "for i in \"DATA12345\":  #print only numeric\n",
    "    if i.isnumeric():\n",
    "        print(i,end='')"
   ]
  },
  {
   "cell_type": "code",
   "execution_count": 61,
   "id": "1b44b16b-59ce-4a62-966f-871e9d0276bc",
   "metadata": {},
   "outputs": [
    {
     "name": "stdout",
     "output_type": "stream",
     "text": [
      "DATA12345"
     ]
    }
   ],
   "source": [
    "for i in \"DATA12345\":  #print only alphanumeric \n",
    "    if i.isalnum():\n",
    "        print(i,end='')"
   ]
  },
  {
   "cell_type": "code",
   "execution_count": 63,
   "id": "36bba1b1-ba58-4e3f-b8e4-015ebc819e26",
   "metadata": {},
   "outputs": [
    {
     "name": "stdout",
     "output_type": "stream",
     "text": [
      "DATA"
     ]
    }
   ],
   "source": [
    "for i in \"DATA12345\":  #print only data \n",
    "    if i.isnumeric()==False:\n",
    "        print(i,end='')"
   ]
  },
  {
   "cell_type": "code",
   "execution_count": 67,
   "id": "175e9a87-963b-4c36-aebb-4aad99ad7f15",
   "metadata": {},
   "outputs": [
    {
     "name": "stdout",
     "output_type": "stream",
     "text": [
      "!@%@@&&*$#$#@!$%^^&*"
     ]
    }
   ],
   "source": [
    "for i in \"!@%@@&&*$#$#@!$%^^&*\":  \n",
    "    if i.isalnum()==False:\n",
    "        print(i,end='')"
   ]
  },
  {
   "cell_type": "code",
   "execution_count": null,
   "id": "30fe6f18-c09e-4d8c-b994-fe3eaa523993",
   "metadata": {},
   "outputs": [],
   "source": [
    "for i in \"DATA12345\":  #hmwrk how to remove the last comma from the output\n",
    "    if i.isnumeric():\n",
    "        print(i,end=',')"
   ]
  }
 ],
 "metadata": {
  "kernelspec": {
   "display_name": "Python 3 (ipykernel)",
   "language": "python",
   "name": "python3"
  },
  "language_info": {
   "codemirror_mode": {
    "name": "ipython",
    "version": 3
   },
   "file_extension": ".py",
   "mimetype": "text/x-python",
   "name": "python",
   "nbconvert_exporter": "python",
   "pygments_lexer": "ipython3",
   "version": "3.12.4"
  }
 },
 "nbformat": 4,
 "nbformat_minor": 5
}
