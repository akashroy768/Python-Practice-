{
 "cells": [
  {
   "cell_type": "code",
   "execution_count": 16,
   "id": "647bf2fb-89a9-44fe-94d3-6f3a66eb2519",
   "metadata": {},
   "outputs": [
    {
     "name": "stdout",
     "output_type": "stream",
     "text": [
      "1\n",
      "4\n"
     ]
    },
    {
     "data": {
      "text/plain": [
       "'0b100'"
      ]
     },
     "execution_count": 16,
     "metadata": {},
     "output_type": "execute_result"
    }
   ],
   "source": [
    "#bitwise and &=\n",
    "x = 5 #0101\n",
    "x &= 3 #0011\n",
    "print(x)\n",
    "bin(x)\n",
    "\n",
    "y = 6\n",
    "y &= 4\n",
    "print(y)\n",
    "bin(y)"
   ]
  },
  {
   "cell_type": "code",
   "execution_count": 24,
   "id": "fd691e10-3d42-40c2-bbd4-79bd5c2a4454",
   "metadata": {},
   "outputs": [
    {
     "data": {
      "text/plain": [
       "'0b1'"
      ]
     },
     "execution_count": 24,
     "metadata": {},
     "output_type": "execute_result"
    }
   ],
   "source": [
    "bin(6)\n",
    "\n",
    "bin(8)\n",
    "\n",
    "bin(1)"
   ]
  },
  {
   "cell_type": "code",
   "execution_count": null,
   "id": "109fb727-7374-41d6-8739-2c3d810c6dc7",
   "metadata": {},
   "outputs": [],
   "source": [
    "#bitwise or |=\n"
   ]
  },
  {
   "cell_type": "code",
   "execution_count": 26,
   "id": "c5223673-ba00-432b-acd0-44889b444af4",
   "metadata": {},
   "outputs": [
    {
     "name": "stdout",
     "output_type": "stream",
     "text": [
      "7\n"
     ]
    },
    {
     "data": {
      "text/plain": [
       "'0b111'"
      ]
     },
     "execution_count": 26,
     "metadata": {},
     "output_type": "execute_result"
    }
   ],
   "source": [
    "x = 5 #0101\n",
    "x |= 3 #0011\n",
    "print(x)\n",
    "bin(x)"
   ]
  },
  {
   "cell_type": "code",
   "execution_count": 28,
   "id": "b90a865c-faed-4ce8-8e81-cdd8b64a9113",
   "metadata": {},
   "outputs": [
    {
     "name": "stdout",
     "output_type": "stream",
     "text": [
      "15\n"
     ]
    },
    {
     "data": {
      "text/plain": [
       "'0b1111'"
      ]
     },
     "execution_count": 28,
     "metadata": {},
     "output_type": "execute_result"
    }
   ],
   "source": [
    "a = 7\n",
    "a |= 10\n",
    "print(a)\n",
    "bin(a)"
   ]
  },
  {
   "cell_type": "code",
   "execution_count": null,
   "id": "7c378e03-c20e-4044-8ad9-8a34b0b78d41",
   "metadata": {},
   "outputs": [],
   "source": [
    "#xor ^"
   ]
  },
  {
   "cell_type": "code",
   "execution_count": 30,
   "id": "d1d1f787-745e-4384-9b91-a820606185f7",
   "metadata": {},
   "outputs": [
    {
     "name": "stdout",
     "output_type": "stream",
     "text": [
      "6\n"
     ]
    },
    {
     "data": {
      "text/plain": [
       "'0b110'"
      ]
     },
     "execution_count": 30,
     "metadata": {},
     "output_type": "execute_result"
    }
   ],
   "source": [
    "x = 5 #0101\n",
    "x ^= 3 #0011\n",
    "print(x)\n",
    "bin(x) #0110"
   ]
  },
  {
   "cell_type": "code",
   "execution_count": 32,
   "id": "ba2b1624-999e-426a-97e0-5c14590510e6",
   "metadata": {},
   "outputs": [
    {
     "name": "stdout",
     "output_type": "stream",
     "text": [
      "10\n"
     ]
    },
    {
     "data": {
      "text/plain": [
       "'0b1010'"
      ]
     },
     "execution_count": 32,
     "metadata": {},
     "output_type": "execute_result"
    }
   ],
   "source": [
    "a = 8 \n",
    "a ^= 2\n",
    "print(a)\n",
    "bin(a)"
   ]
  },
  {
   "cell_type": "code",
   "execution_count": null,
   "id": "d6906fe5-231c-4782-a66e-cf6fa060578b",
   "metadata": {},
   "outputs": [],
   "source": [
    "#right shift"
   ]
  },
  {
   "cell_type": "code",
   "execution_count": 34,
   "id": "4d988092-ee72-4633-9a97-660cba126f49",
   "metadata": {},
   "outputs": [
    {
     "name": "stdout",
     "output_type": "stream",
     "text": [
      "2\n"
     ]
    }
   ],
   "source": [
    "x = 8 #1000\n",
    "x >>=2\n",
    "print(x)"
   ]
  },
  {
   "cell_type": "code",
   "execution_count": null,
   "id": "07fbb031-4967-4c2c-8dee-2092a8d23897",
   "metadata": {},
   "outputs": [],
   "source": [
    "#left shift"
   ]
  },
  {
   "cell_type": "code",
   "execution_count": 36,
   "id": "98a2f390-216d-4aa5-96af-e02b62bd576d",
   "metadata": {},
   "outputs": [
    {
     "name": "stdout",
     "output_type": "stream",
     "text": [
      "12\n",
      "3\n"
     ]
    }
   ],
   "source": [
    "x = 3\n",
    "x <<= 2\n",
    "print(x)\n",
    "x>>=2\n",
    "print(x)"
   ]
  },
  {
   "cell_type": "code",
   "execution_count": null,
   "id": "42e34630-4184-4c04-b4a3-336af7610dd5",
   "metadata": {},
   "outputs": [],
   "source": []
  }
 ],
 "metadata": {
  "kernelspec": {
   "display_name": "Python 3 (ipykernel)",
   "language": "python",
   "name": "python3"
  },
  "language_info": {
   "codemirror_mode": {
    "name": "ipython",
    "version": 3
   },
   "file_extension": ".py",
   "mimetype": "text/x-python",
   "name": "python",
   "nbconvert_exporter": "python",
   "pygments_lexer": "ipython3",
   "version": "3.12.4"
  }
 },
 "nbformat": 4,
 "nbformat_minor": 5
}
